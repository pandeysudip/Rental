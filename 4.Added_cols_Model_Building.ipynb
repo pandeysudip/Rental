{
 "cells": [
  {
   "cell_type": "markdown",
   "id": "2f8691d7",
   "metadata": {},
   "source": [
    "## MODEL Building\n",
    "##### Since the dataset has few features which is extremely difficult make the prediction. I have added many new features using the zipcode from the datasets. The added features are:\n",
    "1. Lattitude\n",
    "2. Longitude\n",
    "3. City\n",
    "4. State\n",
    "5. County\n",
    "6. Median Income\n",
    "7. Housing Units\n",
    "8. Occupied Housing Units"
   ]
  },
  {
   "cell_type": "markdown",
   "id": "2c58e52c",
   "metadata": {},
   "source": [
    "## Over Sampling Dataset with Additional Features"
   ]
  },
  {
   "cell_type": "code",
   "execution_count": 69,
   "id": "86121085",
   "metadata": {},
   "outputs": [],
   "source": [
    "#importing modules\n",
    "import pandas as pd\n",
    "import numpy as np\n",
    "from pathlib import Path\n",
    "import matplotlib.pyplot as plt\n",
    "import seaborn as sns\n",
    "from sklearn.model_selection import train_test_split\n",
    "from sklearn.preprocessing import StandardScaler, LabelEncoder\n",
    "from sklearn.metrics import precision_score, recall_score, f1_score\n",
    "from sklearn.model_selection import cross_val_predict, cross_val_score\n",
    "from sklearn.metrics import confusion_matrix, classification_report\n",
    "from sklearn.metrics import roc_curve, auc\n",
    "from sklearn.linear_model import LogisticRegression\n",
    "from sklearn.linear_model import SGDClassifier\n",
    "from sklearn.model_selection import RandomizedSearchCV\n",
    "from sklearn.model_selection import GridSearchCV\n",
    "from sklearn.tree import DecisionTreeClassifier\n",
    "from sklearn.ensemble import RandomForestClassifier\n",
    "from sklearn.ensemble import ExtraTreesClassifier\n",
    "from sklearn.ensemble import AdaBoostClassifier\n",
    "from sklearn.ensemble import GradientBoostingClassifier"
   ]
  },
  {
   "cell_type": "code",
   "execution_count": 70,
   "id": "b7b2f164",
   "metadata": {},
   "outputs": [],
   "source": [
    "#Defining path for oversampling data with nan columns droped\n",
    "path=Path('Resources/Cleaned_data/over_samp_row.csv')"
   ]
  },
  {
   "cell_type": "code",
   "execution_count": 71,
   "id": "d2148c72",
   "metadata": {},
   "outputs": [
    {
     "data": {
      "text/html": [
       "<div>\n",
       "<style scoped>\n",
       "    .dataframe tbody tr th:only-of-type {\n",
       "        vertical-align: middle;\n",
       "    }\n",
       "\n",
       "    .dataframe tbody tr th {\n",
       "        vertical-align: top;\n",
       "    }\n",
       "\n",
       "    .dataframe thead th {\n",
       "        text-align: right;\n",
       "    }\n",
       "</style>\n",
       "<table border=\"1\" class=\"dataframe\">\n",
       "  <thead>\n",
       "    <tr style=\"text-align: right;\">\n",
       "      <th></th>\n",
       "      <th>name</th>\n",
       "      <th>dob</th>\n",
       "      <th>houseID</th>\n",
       "      <th>houseZip</th>\n",
       "      <th>paymentDate</th>\n",
       "      <th>paymentAmount</th>\n",
       "      <th>rentAmount</th>\n",
       "      <th>age</th>\n",
       "      <th>city</th>\n",
       "      <th>county</th>\n",
       "      <th>lat</th>\n",
       "      <th>lng</th>\n",
       "      <th>housingUnits</th>\n",
       "      <th>occupiedHousingUnits</th>\n",
       "      <th>medianIncome</th>\n",
       "      <th>population</th>\n",
       "      <th>state</th>\n",
       "      <th>status</th>\n",
       "    </tr>\n",
       "  </thead>\n",
       "  <tbody>\n",
       "    <tr>\n",
       "      <th>0</th>\n",
       "      <td>Karima Germany</td>\n",
       "      <td>1951-05-23</td>\n",
       "      <td>1192</td>\n",
       "      <td>92154</td>\n",
       "      <td>1</td>\n",
       "      <td>1321.0</td>\n",
       "      <td>1321.0</td>\n",
       "      <td>71</td>\n",
       "      <td>San Diego</td>\n",
       "      <td>San Diego County</td>\n",
       "      <td>32.60</td>\n",
       "      <td>-117.00</td>\n",
       "      <td>21206.0</td>\n",
       "      <td>20202.0</td>\n",
       "      <td>57618.0</td>\n",
       "      <td>79708.0</td>\n",
       "      <td>CA</td>\n",
       "      <td>low risk</td>\n",
       "    </tr>\n",
       "    <tr>\n",
       "      <th>1</th>\n",
       "      <td>Agustina Spargo</td>\n",
       "      <td>1900-01-01</td>\n",
       "      <td>21</td>\n",
       "      <td>92111</td>\n",
       "      <td>1</td>\n",
       "      <td>2289.0</td>\n",
       "      <td>2289.0</td>\n",
       "      <td>122</td>\n",
       "      <td>San Diego</td>\n",
       "      <td>San Diego County</td>\n",
       "      <td>32.82</td>\n",
       "      <td>-117.15</td>\n",
       "      <td>17268.0</td>\n",
       "      <td>16498.0</td>\n",
       "      <td>57350.0</td>\n",
       "      <td>45096.0</td>\n",
       "      <td>CA</td>\n",
       "      <td>low risk</td>\n",
       "    </tr>\n",
       "    <tr>\n",
       "      <th>2</th>\n",
       "      <td>Clifton Ellwood</td>\n",
       "      <td>1993-11-02</td>\n",
       "      <td>430</td>\n",
       "      <td>92103</td>\n",
       "      <td>1</td>\n",
       "      <td>1233.0</td>\n",
       "      <td>1233.0</td>\n",
       "      <td>29</td>\n",
       "      <td>San Diego</td>\n",
       "      <td>San Diego County</td>\n",
       "      <td>32.75</td>\n",
       "      <td>-117.17</td>\n",
       "      <td>19080.0</td>\n",
       "      <td>17827.0</td>\n",
       "      <td>62092.0</td>\n",
       "      <td>31066.0</td>\n",
       "      <td>CA</td>\n",
       "      <td>low risk</td>\n",
       "    </tr>\n",
       "    <tr>\n",
       "      <th>3</th>\n",
       "      <td>Taneka Noto</td>\n",
       "      <td>1992-05-09</td>\n",
       "      <td>2216</td>\n",
       "      <td>92110</td>\n",
       "      <td>1</td>\n",
       "      <td>988.0</td>\n",
       "      <td>988.0</td>\n",
       "      <td>30</td>\n",
       "      <td>San Diego</td>\n",
       "      <td>San Diego County</td>\n",
       "      <td>32.77</td>\n",
       "      <td>-117.21</td>\n",
       "      <td>11426.0</td>\n",
       "      <td>10630.0</td>\n",
       "      <td>59719.0</td>\n",
       "      <td>25341.0</td>\n",
       "      <td>CA</td>\n",
       "      <td>low risk</td>\n",
       "    </tr>\n",
       "    <tr>\n",
       "      <th>4</th>\n",
       "      <td>Curtis Sher</td>\n",
       "      <td>1996-10-14</td>\n",
       "      <td>463</td>\n",
       "      <td>92130</td>\n",
       "      <td>1</td>\n",
       "      <td>1169.0</td>\n",
       "      <td>1169.0</td>\n",
       "      <td>26</td>\n",
       "      <td>San Diego</td>\n",
       "      <td>San Diego County</td>\n",
       "      <td>32.95</td>\n",
       "      <td>-117.20</td>\n",
       "      <td>18272.0</td>\n",
       "      <td>17528.0</td>\n",
       "      <td>127968.0</td>\n",
       "      <td>48940.0</td>\n",
       "      <td>CA</td>\n",
       "      <td>low risk</td>\n",
       "    </tr>\n",
       "  </tbody>\n",
       "</table>\n",
       "</div>"
      ],
      "text/plain": [
       "              name         dob  houseID  houseZip  paymentDate  paymentAmount  \\\n",
       "0   Karima Germany  1951-05-23     1192     92154            1         1321.0   \n",
       "1  Agustina Spargo  1900-01-01       21     92111            1         2289.0   \n",
       "2  Clifton Ellwood  1993-11-02      430     92103            1         1233.0   \n",
       "3      Taneka Noto  1992-05-09     2216     92110            1          988.0   \n",
       "4      Curtis Sher  1996-10-14      463     92130            1         1169.0   \n",
       "\n",
       "   rentAmount  age       city            county    lat     lng  housingUnits  \\\n",
       "0      1321.0   71  San Diego  San Diego County  32.60 -117.00       21206.0   \n",
       "1      2289.0  122  San Diego  San Diego County  32.82 -117.15       17268.0   \n",
       "2      1233.0   29  San Diego  San Diego County  32.75 -117.17       19080.0   \n",
       "3       988.0   30  San Diego  San Diego County  32.77 -117.21       11426.0   \n",
       "4      1169.0   26  San Diego  San Diego County  32.95 -117.20       18272.0   \n",
       "\n",
       "   occupiedHousingUnits  medianIncome  population state    status  \n",
       "0               20202.0       57618.0     79708.0    CA  low risk  \n",
       "1               16498.0       57350.0     45096.0    CA  low risk  \n",
       "2               17827.0       62092.0     31066.0    CA  low risk  \n",
       "3               10630.0       59719.0     25341.0    CA  low risk  \n",
       "4               17528.0      127968.0     48940.0    CA  low risk  "
      ]
     },
     "execution_count": 71,
     "metadata": {},
     "output_type": "execute_result"
    }
   ],
   "source": [
    "#importing over sampling dataset\n",
    "df = pd.read_csv(path)\n",
    "#looking the few rows\n",
    "df.head()"
   ]
  },
  {
   "cell_type": "code",
   "execution_count": 72,
   "id": "2d909566",
   "metadata": {},
   "outputs": [
    {
     "data": {
      "text/plain": [
       "low risk     20963\n",
       "high risk    20963\n",
       "Name: status, dtype: int64"
      ]
     },
     "execution_count": 72,
     "metadata": {},
     "output_type": "execute_result"
    }
   ],
   "source": [
    "# looking the status columns\n",
    "df.status.value_counts()"
   ]
  },
  {
   "cell_type": "markdown",
   "id": "f918bb0b",
   "metadata": {},
   "source": [
    "## Since many has date of birth as 1900-01-01, which is missing date of birth. For this, I have't used the date of birth columns.\n"
   ]
  },
  {
   "cell_type": "code",
   "execution_count": 73,
   "id": "5645a5aa",
   "metadata": {},
   "outputs": [
    {
     "data": {
      "text/plain": [
       "Index(['name', 'dob', 'houseID', 'houseZip', 'paymentDate', 'paymentAmount',\n",
       "       'rentAmount', 'age', 'city', 'county', 'lat', 'lng', 'housingUnits',\n",
       "       'occupiedHousingUnits', 'medianIncome', 'population', 'state',\n",
       "       'status'],\n",
       "      dtype='object')"
      ]
     },
     "execution_count": 73,
     "metadata": {},
     "output_type": "execute_result"
    }
   ],
   "source": [
    "#Columns of the dataframe\n",
    "df.columns"
   ]
  },
  {
   "cell_type": "markdown",
   "id": "19809fb7",
   "metadata": {},
   "source": [
    "# Making Feature matrix and Target Vectors\n",
    "#### Removing zip column also as using Latitude and Longitude instead."
   ]
  },
  {
   "cell_type": "code",
   "execution_count": 74,
   "id": "a41b87a7",
   "metadata": {},
   "outputs": [],
   "source": [
    "# Only selecting important columns for machine learning\n",
    "rent_df=df[[ 'paymentDate', 'paymentAmount',\n",
    "       'rentAmount', 'lat', 'lng', 'housingUnits',\n",
    "       'occupiedHousingUnits', 'medianIncome', 'population',\n",
    "       'status']]\n",
    "# Creating feature matrix (X) by selecting all columns except 'status'\n",
    "X=rent_df.drop('status', axis=1) \n",
    "\n",
    "# Creating response vector (y) by selecting 'status' column and converting to numpy\n",
    "y=rent_df['status'].values"
   ]
  },
  {
   "cell_type": "code",
   "execution_count": 75,
   "id": "009c38d8",
   "metadata": {},
   "outputs": [
    {
     "data": {
      "text/html": [
       "<div>\n",
       "<style scoped>\n",
       "    .dataframe tbody tr th:only-of-type {\n",
       "        vertical-align: middle;\n",
       "    }\n",
       "\n",
       "    .dataframe tbody tr th {\n",
       "        vertical-align: top;\n",
       "    }\n",
       "\n",
       "    .dataframe thead th {\n",
       "        text-align: right;\n",
       "    }\n",
       "</style>\n",
       "<table border=\"1\" class=\"dataframe\">\n",
       "  <thead>\n",
       "    <tr style=\"text-align: right;\">\n",
       "      <th></th>\n",
       "      <th>paymentDate</th>\n",
       "      <th>paymentAmount</th>\n",
       "      <th>rentAmount</th>\n",
       "      <th>lat</th>\n",
       "      <th>lng</th>\n",
       "      <th>housingUnits</th>\n",
       "      <th>occupiedHousingUnits</th>\n",
       "      <th>medianIncome</th>\n",
       "      <th>population</th>\n",
       "    </tr>\n",
       "  </thead>\n",
       "  <tbody>\n",
       "    <tr>\n",
       "      <th>0</th>\n",
       "      <td>1</td>\n",
       "      <td>1321.0</td>\n",
       "      <td>1321.0</td>\n",
       "      <td>32.60</td>\n",
       "      <td>-117.00</td>\n",
       "      <td>21206.0</td>\n",
       "      <td>20202.0</td>\n",
       "      <td>57618.0</td>\n",
       "      <td>79708.0</td>\n",
       "    </tr>\n",
       "    <tr>\n",
       "      <th>1</th>\n",
       "      <td>1</td>\n",
       "      <td>2289.0</td>\n",
       "      <td>2289.0</td>\n",
       "      <td>32.82</td>\n",
       "      <td>-117.15</td>\n",
       "      <td>17268.0</td>\n",
       "      <td>16498.0</td>\n",
       "      <td>57350.0</td>\n",
       "      <td>45096.0</td>\n",
       "    </tr>\n",
       "    <tr>\n",
       "      <th>2</th>\n",
       "      <td>1</td>\n",
       "      <td>1233.0</td>\n",
       "      <td>1233.0</td>\n",
       "      <td>32.75</td>\n",
       "      <td>-117.17</td>\n",
       "      <td>19080.0</td>\n",
       "      <td>17827.0</td>\n",
       "      <td>62092.0</td>\n",
       "      <td>31066.0</td>\n",
       "    </tr>\n",
       "    <tr>\n",
       "      <th>3</th>\n",
       "      <td>1</td>\n",
       "      <td>988.0</td>\n",
       "      <td>988.0</td>\n",
       "      <td>32.77</td>\n",
       "      <td>-117.21</td>\n",
       "      <td>11426.0</td>\n",
       "      <td>10630.0</td>\n",
       "      <td>59719.0</td>\n",
       "      <td>25341.0</td>\n",
       "    </tr>\n",
       "    <tr>\n",
       "      <th>4</th>\n",
       "      <td>1</td>\n",
       "      <td>1169.0</td>\n",
       "      <td>1169.0</td>\n",
       "      <td>32.95</td>\n",
       "      <td>-117.20</td>\n",
       "      <td>18272.0</td>\n",
       "      <td>17528.0</td>\n",
       "      <td>127968.0</td>\n",
       "      <td>48940.0</td>\n",
       "    </tr>\n",
       "  </tbody>\n",
       "</table>\n",
       "</div>"
      ],
      "text/plain": [
       "   paymentDate  paymentAmount  rentAmount    lat     lng  housingUnits  \\\n",
       "0            1         1321.0      1321.0  32.60 -117.00       21206.0   \n",
       "1            1         2289.0      2289.0  32.82 -117.15       17268.0   \n",
       "2            1         1233.0      1233.0  32.75 -117.17       19080.0   \n",
       "3            1          988.0       988.0  32.77 -117.21       11426.0   \n",
       "4            1         1169.0      1169.0  32.95 -117.20       18272.0   \n",
       "\n",
       "   occupiedHousingUnits  medianIncome  population  \n",
       "0               20202.0       57618.0     79708.0  \n",
       "1               16498.0       57350.0     45096.0  \n",
       "2               17827.0       62092.0     31066.0  \n",
       "3               10630.0       59719.0     25341.0  \n",
       "4               17528.0      127968.0     48940.0  "
      ]
     },
     "execution_count": 75,
     "metadata": {},
     "output_type": "execute_result"
    }
   ],
   "source": [
    "#looking the few rows of X datafrmae\n",
    "X.head()"
   ]
  },
  {
   "cell_type": "code",
   "execution_count": 76,
   "id": "2cb2e5e6",
   "metadata": {},
   "outputs": [
    {
     "data": {
      "text/plain": [
       "array([1, 1, 1, ..., 0, 0, 0])"
      ]
     },
     "execution_count": 76,
     "metadata": {},
     "output_type": "execute_result"
    }
   ],
   "source": [
    "# Converting output labels to 0 and 1\n",
    "y_label = LabelEncoder().fit_transform(y)\n",
    "y_label"
   ]
  },
  {
   "cell_type": "markdown",
   "id": "00254dd9",
   "metadata": {},
   "source": [
    "## Spliting data for training set and testing set\n",
    "####  Training set: Used to train the classifier. (80 percent of the data)\n",
    "####  Testing set: Used to estimate the error rate of the trained classifier. (20 percent of data)"
   ]
  },
  {
   "cell_type": "code",
   "execution_count": 78,
   "id": "a7d69111",
   "metadata": {},
   "outputs": [],
   "source": [
    "# Split using train test split \n",
    "X_train, X_test, y_train, y_test = train_test_split(X, y_label,stratify=y, random_state=42)"
   ]
  },
  {
   "cell_type": "markdown",
   "id": "d76d614e",
   "metadata": {},
   "source": [
    "## Scaling the Data to the Same Scale"
   ]
  },
  {
   "cell_type": "code",
   "execution_count": 79,
   "id": "afe68f12",
   "metadata": {},
   "outputs": [],
   "source": [
    "# Using StandardScalr from scikit-lean for scaling the data\n",
    "scaler = StandardScaler().fit(X_train)\n",
    "# Scaling the X data by using StandardScaler()\n",
    "X_train_scaled = scaler.transform(X_train)\n",
    "# Transforming the test dataset \n",
    "X_test_scaled = scaler.transform(X_test)"
   ]
  },
  {
   "cell_type": "markdown",
   "id": "ed1fee4c",
   "metadata": {},
   "source": [
    "## Function for Model accuracy \n",
    "### Function that use only training set\n",
    "### Function that use both traingin set and testing set ( Only used at the last of ml section)"
   ]
  },
  {
   "cell_type": "code",
   "execution_count": 80,
   "id": "8e0a88cf",
   "metadata": {},
   "outputs": [],
   "source": [
    "#defining function for model scoring with training set only\n",
    "def training_score(model, X_train_scaled=X_train_scaled, y_train=y_train):\n",
    "    #Printing the accuracy score\n",
    "    train_score=model.score(X_train_scaled, y_train)\n",
    "    print(f'The training score of {model} model is: {train_score}')\n",
    "    print()\n",
    "    print()\n",
    "    # Using cross validation \n",
    "    cvs=cross_val_score(model,X_train_scaled, y_train,cv=5, scoring='accuracy' )\n",
    "    print(f'Using k=5 cross validation the accuracy is: {cvs}')\n",
    "    print(f'Using k=5 cross validation the mean accuracy is: {np.mean(cvs)}')\n",
    "    print()\n",
    "    print()\n",
    "    #predection on the test set and confusion matrix\n",
    "    y_train_pred=cross_val_predict(model,X_train_scaled, y_train,cv=3)\n",
    "    cm=confusion_matrix(y_train, y_train_pred)\n",
    "    print(f'Confusion Matrix using Cross validation predict is:\\n {cm}')\n",
    "    print()\n",
    "    print()\n",
    "    #classification report\n",
    "    cr=classification_report(y_train, y_train_pred)\n",
    "    print(f'Classification report is:\\n {cr}')\n",
    "    print()\n",
    "    print()\n",
    "    #Roc curve\n",
    "    y_train_predc=cross_val_predict(model,X_train_scaled, y_train,cv=5,method=\"predict_proba\")\n",
    "    y_proba = y_train_predc[:,1]  #proba of positive class\n",
    "    fpr, tpr, thresholds = roc_curve(y_train, y_proba)\n",
    "    # Plotting the roc curve\n",
    "    plt.figure()\n",
    "    plt.plot(fpr, tpr, color='darkorange')\n",
    "    plt.plot([0, 1], [0, 1], color='navy', linestyle='--')\n",
    "    plt.xlim([0.0, 1.0])\n",
    "    plt.ylim([0.0, 1.05])\n",
    "    plt.xlabel('False Positive Rate')\n",
    "    plt.ylabel('True Positive Rate')\n",
    "    plt.title(f\"roc curve for {model}\")\n",
    "    print(f\"The ROC Curve using {model} model\")\n",
    "    plt.show()\n",
    "    print()\n",
    "    # Area under the curve (AUC)\n",
    "    roc_auc = auc(fpr, tpr)\n",
    "    print(f'The are under the curve is: {roc_auc}')\n",
    "    \n",
    "    \n",
    "#defining function for model scoring with test set\n",
    "def train_test_score(model, X_train_scaled=X_train_scaled, X_test_scaled=X_test_scaled, \n",
    "               y_train=y_train,y_test=y_test):\n",
    "    #Accuracy score\n",
    "    train_score=model.score(X_train_scaled, y_train)\n",
    "    test_score=model.score(X_test_scaled, y_test)\n",
    "    print(f'The training score of {model} model is: {train_score}')\n",
    "    print(f'The testing score of {model} model is: {test_score}')\n",
    "    print()\n",
    "    print()\n",
    "    #Confusion matrix\n",
    "    y_pred=model.predict(X_test_scaled)\n",
    "    cm=confusion_matrix(y_test, y_pred)\n",
    "    print(f'Confusion Matrix by predicting using test data is:\\n {cm}')\n",
    "    print()\n",
    "    print()\n",
    "    #classification report\n",
    "    cr=classification_report(y_test, y_pred)\n",
    "    print(f'Classification report is:\\n {cr}')\n",
    "    print()\n",
    "    print()\n",
    "    #roc curve\n",
    "    y_proba = model.predict_proba(X_test_scaled)[:,1]  #proba of positive class\n",
    "    fpr, tpr, thresholds = roc_curve(y_test, y_proba)\n",
    "    plt.figure()\n",
    "    plt.plot(fpr, tpr, color='darkorange')\n",
    "    plt.plot([0, 1], [0, 1], color='navy', linestyle='--')\n",
    "    plt.xlim([0.0, 1.0])\n",
    "    plt.ylim([0.0, 1.05])\n",
    "    plt.xlabel('False Positive Rate')\n",
    "    plt.ylabel('True Positive Rate')\n",
    "    plt.title(f\"roc curve for {model}\")\n",
    "    print(f\"The ROC Curve using {model} model\")\n",
    "    plt.show()\n",
    "    # Area under the curve (AUC)\n",
    "    roc_auc = auc(fpr, tpr)\n",
    "    roc_auc\n",
    "    print()\n",
    "    print(f'The are under the curve is: {roc_auc}')\n",
    "    \n",
    "    \n",
    "#defining function for model scoring \n",
    "def model_score(model, X_train_scaled=X_train_scaled, X_test_scaled=X_test_scaled, \n",
    "               y_train=y_train,y_test=y_test):\n",
    "    #training score\n",
    "    train_score=model.score(X_train_scaled, y_train)\n",
    "    #testing score\n",
    "    test_score=model.score(X_test_scaled, y_test)\n",
    "    #prediction on test data\n",
    "    y_pred=model.predict(X_test_scaled)\n",
    "    #Precission score\n",
    "    Precision_score=precision_score(y_test, y_pred)\n",
    "    #Recall\n",
    "    Recall_score=recall_score(y_test, y_pred)\n",
    "    #f1-score\n",
    "    F1_score=f1_score(y_test, y_pred)\n",
    "    #Area under the curve\n",
    "    y_proba = model.predict_proba(X_test_scaled)[:,1]  #proba of positive class\n",
    "    fpr, tpr, thresholds = roc_curve(y_test, y_proba)\n",
    "    \n",
    "    roc_auc = auc(fpr, tpr)\n",
    "    result=[train_score, test_score, Precision_score, Recall_score,F1_score, roc_auc ]\n",
    "    return result"
   ]
  },
  {
   "cell_type": "markdown",
   "id": "c5d33697",
   "metadata": {},
   "source": [
    "# Different Classification models are used for building better model\n",
    "### 1. Logistic Regression\n",
    "### 2. Stochastic Gradent Descent Classifier\n",
    "### 3. Decision Tree Classifier\n",
    "### 4. Random Forest Classifier\n",
    "### 5. Extremely Random Trees Classifier\n",
    "### 6. Ada Boosting Classifier"
   ]
  },
  {
   "cell_type": "code",
   "execution_count": null,
   "id": "d6378455",
   "metadata": {},
   "outputs": [],
   "source": []
  },
  {
   "cell_type": "markdown",
   "id": "e5587c26",
   "metadata": {},
   "source": [
    "#  1. Logistic Regression"
   ]
  },
  {
   "cell_type": "code",
   "execution_count": 81,
   "id": "a3f07102",
   "metadata": {},
   "outputs": [
    {
     "data": {
      "text/plain": [
       "LogisticRegression()"
      ]
     },
     "execution_count": 81,
     "metadata": {},
     "output_type": "execute_result"
    }
   ],
   "source": [
    "# Creating a Logistic Regression model \n",
    "lr= LogisticRegression()\n",
    "\n",
    "# Fitting the model to the data\n",
    "lr.fit(X_train_scaled, y_train)"
   ]
  },
  {
   "cell_type": "code",
   "execution_count": 82,
   "id": "2492bf31",
   "metadata": {},
   "outputs": [
    {
     "name": "stdout",
     "output_type": "stream",
     "text": [
      "The training score of LogisticRegression() model is: 0.7958911080015265\n",
      "\n",
      "\n",
      "Using k=5 cross validation the accuracy is: [0.79869614 0.80330736 0.78867865 0.79456193 0.79309796]\n",
      "Using k=5 cross validation the mean accuracy is: 0.7956684082672723\n",
      "\n",
      "\n",
      "Confusion Matrix using Cross validation predict is:\n",
      " [[ 9366  6356]\n",
      " [   64 15658]]\n",
      "\n",
      "\n",
      "Classification report is:\n",
      "               precision    recall  f1-score   support\n",
      "\n",
      "           0       0.99      0.60      0.74     15722\n",
      "           1       0.71      1.00      0.83     15722\n",
      "\n",
      "    accuracy                           0.80     31444\n",
      "   macro avg       0.85      0.80      0.79     31444\n",
      "weighted avg       0.85      0.80      0.79     31444\n",
      "\n",
      "\n",
      "\n",
      "The ROC Curve using LogisticRegression() model\n"
     ]
    },
    {
     "data": {
      "image/png": "[encoded data removed]",
      "text/plain": [
       "<Figure size 432x288 with 1 Axes>"
      ]
     },
     "metadata": {
      "needs_background": "light"
     },
     "output_type": "display_data"
    },
    {
     "name": "stdout",
     "output_type": "stream",
     "text": [
      "\n",
      "The are under the curve is: 0.8148439749993368\n"
     ]
    }
   ],
   "source": [
    "#Score for logistic regression using only training data (Using the defined function training_score)\n",
    "training_score(lr)"
   ]
  },
  {
   "cell_type": "markdown",
   "id": "179b7464",
   "metadata": {},
   "source": [
    "## Tuning hyperparamaters using Grid Search CV for Logistic Regresssion"
   ]
  },
  {
   "cell_type": "code",
   "execution_count": 83,
   "id": "944a84d1",
   "metadata": {},
   "outputs": [
    {
     "name": "stdout",
     "output_type": "stream",
     "text": [
      "Fitting 5 folds for each of 30 candidates, totalling 150 fits\n"
     ]
    },
    {
     "data": {
      "text/plain": [
       "GridSearchCV(cv=5, estimator=LogisticRegression(), n_jobs=-1,\n",
       "             param_grid={'C': [0.001, 0.01, 0.1, 5, 10],\n",
       "                         'max_iter': [100, 500, 1000], 'penalty': ['l2'],\n",
       "                         'solver': ['lbfgs', 'saga']},\n",
       "             verbose=1)"
      ]
     },
     "execution_count": 83,
     "metadata": {},
     "output_type": "execute_result"
    }
   ],
   "source": [
    "# Using GridSearchCV\n",
    "paramater_lr = {'C': [0.001, 0.01,0.1, 5, 10],\n",
    "                 'solver':['lbfgs','saga' ],\n",
    "                 'penalty': [ 'l2'],\n",
    "                'max_iter':[100,500,1000]}\n",
    "gridsearch_lr = GridSearchCV(lr, paramater_lr, cv=5, verbose=1, n_jobs=-1)\n",
    "\n",
    "#Fitting the logistic regression\n",
    "gridsearch_lr.fit(X_train_scaled, y_train)"
   ]
  },
  {
   "cell_type": "code",
   "execution_count": 84,
   "id": "c619163c",
   "metadata": {},
   "outputs": [
    {
     "name": "stdout",
     "output_type": "stream",
     "text": [
      "Best paramaters are:\n",
      "{'C': 10, 'max_iter': 100, 'penalty': 'l2', 'solver': 'saga'}\n",
      "Best score is: 0.7957002098255487\n",
      "Best estimitar is: SGDClassifier(loss='log', max_iter=500, random_state=42)\n"
     ]
    }
   ],
   "source": [
    "# Best parameters for this dataset\n",
    "print(f'Best paramaters are:\\n{gridsearch_lr.best_params_}')\n",
    "# Best score\n",
    "print(f'Best score is: {gridsearch_lr.best_score_}')\n",
    "#Defining best estimator\n",
    "lr_b=gridsearch_sgdc.best_estimator_\n",
    "print(f'Best estimitar is: {lr_b}')"
   ]
  },
  {
   "cell_type": "code",
   "execution_count": 85,
   "id": "df848253",
   "metadata": {},
   "outputs": [
    {
     "name": "stdout",
     "output_type": "stream",
     "text": [
      "The training score of SGDClassifier(loss='log', max_iter=500, random_state=42) model is: 0.8087711487088157\n",
      "\n",
      "\n",
      "Using k=5 cross validation the accuracy is: [0.79376689 0.81284783 0.79678804 0.81062172 0.80645674]\n",
      "Using k=5 cross validation the mean accuracy is: 0.8040962460404835\n",
      "\n",
      "\n",
      "Confusion Matrix using Cross validation predict is:\n",
      " [[ 9743  5979]\n",
      " [  187 15535]]\n",
      "\n",
      "\n",
      "Classification report is:\n",
      "               precision    recall  f1-score   support\n",
      "\n",
      "           0       0.98      0.62      0.76     15722\n",
      "           1       0.72      0.99      0.83     15722\n",
      "\n",
      "    accuracy                           0.80     31444\n",
      "   macro avg       0.85      0.80      0.80     31444\n",
      "weighted avg       0.85      0.80      0.80     31444\n",
      "\n",
      "\n",
      "\n",
      "The ROC Curve using SGDClassifier(loss='log', max_iter=500, random_state=42) model\n"
     ]
    },
    {
     "data": {
      "image/png": "[encoded data removed]",
      "text/plain": [
       "<Figure size 432x288 with 1 Axes>"
      ]
     },
     "metadata": {
      "needs_background": "light"
     },
     "output_type": "display_data"
    },
    {
     "name": "stdout",
     "output_type": "stream",
     "text": [
      "\n",
      "The are under the curve is: 0.8043859259182423\n"
     ]
    }
   ],
   "source": [
    "#Score for logistic regression after hyperparamater tuining\n",
    "training_score(lr_b)"
   ]
  },
  {
   "cell_type": "code",
   "execution_count": null,
   "id": "a63909cf",
   "metadata": {},
   "outputs": [],
   "source": []
  },
  {
   "cell_type": "markdown",
   "id": "698378dc",
   "metadata": {},
   "source": [
    "## 2. Stochastic Gradent Descent Classifier"
   ]
  },
  {
   "cell_type": "code",
   "execution_count": 86,
   "id": "c5c1507f",
   "metadata": {},
   "outputs": [
    {
     "data": {
      "text/plain": [
       "SGDClassifier(loss='log', random_state=42)"
      ]
     },
     "execution_count": 86,
     "metadata": {},
     "output_type": "execute_result"
    }
   ],
   "source": [
    "# Creating a sgd classifier model \n",
    "sgdc=SGDClassifier(random_state=42, loss='log', penalty='l2')\n",
    "\n",
    "# Fit the model to the data\n",
    "sgdc.fit(X_train_scaled, y_train)"
   ]
  },
  {
   "cell_type": "code",
   "execution_count": 87,
   "id": "ab08aae4",
   "metadata": {},
   "outputs": [
    {
     "name": "stdout",
     "output_type": "stream",
     "text": [
      "The training score of SGDClassifier(loss='log', random_state=42) model is: 0.8087711487088157\n",
      "\n",
      "\n",
      "Using k=5 cross validation the accuracy is: [0.79376689 0.81284783 0.79678804 0.81062172 0.80645674]\n",
      "Using k=5 cross validation the mean accuracy is: 0.8040962460404835\n",
      "\n",
      "\n",
      "Confusion Matrix using Cross validation predict is:\n",
      " [[ 9743  5979]\n",
      " [  187 15535]]\n",
      "\n",
      "\n",
      "Classification report is:\n",
      "               precision    recall  f1-score   support\n",
      "\n",
      "           0       0.98      0.62      0.76     15722\n",
      "           1       0.72      0.99      0.83     15722\n",
      "\n",
      "    accuracy                           0.80     31444\n",
      "   macro avg       0.85      0.80      0.80     31444\n",
      "weighted avg       0.85      0.80      0.80     31444\n",
      "\n",
      "\n",
      "\n",
      "The ROC Curve using SGDClassifier(loss='log', random_state=42) model\n"
     ]
    },
    {
     "data": {
      "image/png": "[encoded data removed]",
      "text/plain": [
       "<Figure size 432x288 with 1 Axes>"
      ]
     },
     "metadata": {
      "needs_background": "light"
     },
     "output_type": "display_data"
    },
    {
     "name": "stdout",
     "output_type": "stream",
     "text": [
      "\n",
      "The are under the curve is: 0.8043859259182423\n"
     ]
    }
   ],
   "source": [
    "#Score for logistic regression using only training data\n",
    "training_score(sgdc)"
   ]
  },
  {
   "cell_type": "markdown",
   "id": "edf1d9ed",
   "metadata": {},
   "source": [
    "### Tuning hyperparamatersfor Stochastic Gradent Descent Classifier"
   ]
  },
  {
   "cell_type": "code",
   "execution_count": 88,
   "id": "2179c61b",
   "metadata": {},
   "outputs": [
    {
     "name": "stdout",
     "output_type": "stream",
     "text": [
      "Fitting 5 folds for each of 8 candidates, totalling 40 fits\n"
     ]
    },
    {
     "data": {
      "text/plain": [
       "GridSearchCV(cv=5, estimator=SGDClassifier(loss='log', random_state=42),\n",
       "             n_jobs=-1,\n",
       "             param_grid={'loss': ['log', 'modified_huber'],\n",
       "                         'max_iter': [500, 1000], 'penalty': ['l1', 'l2']},\n",
       "             verbose=1)"
      ]
     },
     "execution_count": 88,
     "metadata": {},
     "output_type": "execute_result"
    }
   ],
   "source": [
    "# Using GridSearchCV\n",
    "paramater_sgdc = {'penalty': ['l1','l2'],\n",
    "                 'loss':['log', 'modified_huber'],\n",
    "                 'max_iter':[500,1000]}\n",
    "gridsearch_sgdc = GridSearchCV(sgdc, paramater_sgdc, cv=5, verbose=1, n_jobs=-1)\n",
    "#Fitting after gridsearch\n",
    "gridsearch_sgdc.fit(X_train_scaled, y_train)"
   ]
  },
  {
   "cell_type": "code",
   "execution_count": 89,
   "id": "a4daf40e",
   "metadata": {},
   "outputs": [
    {
     "name": "stdout",
     "output_type": "stream",
     "text": [
      "Best paramaters are:\n",
      "{'loss': 'log', 'max_iter': 500, 'penalty': 'l2'}\n",
      "Best score is: 0.8040962460404835\n",
      "Best estimitar is: SGDClassifier(loss='log', max_iter=500, random_state=42)\n"
     ]
    }
   ],
   "source": [
    "# Best parameters for this dataset\n",
    "print(f'Best paramaters are:\\n{gridsearch_sgdc.best_params_}')\n",
    "# best score\n",
    "print(f'Best score is: {gridsearch_sgdc.best_score_}')\n",
    "sgdc_b=gridsearch_sgdc.best_estimator_\n",
    "print(f'Best estimitar is: {sgdc_b}')"
   ]
  },
  {
   "cell_type": "code",
   "execution_count": 90,
   "id": "ce3b9fb8",
   "metadata": {},
   "outputs": [
    {
     "name": "stdout",
     "output_type": "stream",
     "text": [
      "The training score of SGDClassifier(loss='log', max_iter=500, random_state=42) model is: 0.8087711487088157\n",
      "\n",
      "\n",
      "Using k=5 cross validation the accuracy is: [0.79376689 0.81284783 0.79678804 0.81062172 0.80645674]\n",
      "Using k=5 cross validation the mean accuracy is: 0.8040962460404835\n",
      "\n",
      "\n",
      "Confusion Matrix using Cross validation predict is:\n",
      " [[ 9743  5979]\n",
      " [  187 15535]]\n",
      "\n",
      "\n",
      "Classification report is:\n",
      "               precision    recall  f1-score   support\n",
      "\n",
      "           0       0.98      0.62      0.76     15722\n",
      "           1       0.72      0.99      0.83     15722\n",
      "\n",
      "    accuracy                           0.80     31444\n",
      "   macro avg       0.85      0.80      0.80     31444\n",
      "weighted avg       0.85      0.80      0.80     31444\n",
      "\n",
      "\n",
      "\n",
      "The ROC Curve using SGDClassifier(loss='log', max_iter=500, random_state=42) model\n"
     ]
    },
    {
     "data": {
      "image/png": "[encoded data removed]",
      "text/plain": [
       "<Figure size 432x288 with 1 Axes>"
      ]
     },
     "metadata": {
      "needs_background": "light"
     },
     "output_type": "display_data"
    },
    {
     "name": "stdout",
     "output_type": "stream",
     "text": [
      "\n",
      "The are under the curve is: 0.8043859259182423\n"
     ]
    }
   ],
   "source": [
    "#score for Stochastic Gradent Descent Classifier using training data after hyperparamater tuining\n",
    "training_score(sgdc_b)"
   ]
  },
  {
   "cell_type": "code",
   "execution_count": null,
   "id": "ffcb9ca7",
   "metadata": {},
   "outputs": [],
   "source": []
  },
  {
   "cell_type": "markdown",
   "id": "faa87a30",
   "metadata": {},
   "source": [
    "##  3. Decision Tree Classifier"
   ]
  },
  {
   "cell_type": "code",
   "execution_count": 91,
   "id": "808f41b5",
   "metadata": {},
   "outputs": [
    {
     "data": {
      "text/plain": [
       "DecisionTreeClassifier()"
      ]
     },
     "execution_count": 91,
     "metadata": {},
     "output_type": "execute_result"
    }
   ],
   "source": [
    "# Creating a Decision Tree model \n",
    "dt= DecisionTreeClassifier()\n",
    "\n",
    "# Fitting the model \n",
    "dt.fit(X_train_scaled, y_train)"
   ]
  },
  {
   "cell_type": "code",
   "execution_count": 92,
   "id": "850445fd",
   "metadata": {},
   "outputs": [
    {
     "name": "stdout",
     "output_type": "stream",
     "text": [
      "The training score of DecisionTreeClassifier() model is: 1.0\n",
      "\n",
      "\n",
      "Using k=5 cross validation the accuracy is: [1.         0.99968198 0.99984099 1.         1.        ]\n",
      "Using k=5 cross validation the mean accuracy is: 0.999904595325171\n",
      "\n",
      "\n",
      "Confusion Matrix using Cross validation predict is:\n",
      " [[15722     0]\n",
      " [    0 15722]]\n",
      "\n",
      "\n",
      "Classification report is:\n",
      "               precision    recall  f1-score   support\n",
      "\n",
      "           0       1.00      1.00      1.00     15722\n",
      "           1       1.00      1.00      1.00     15722\n",
      "\n",
      "    accuracy                           1.00     31444\n",
      "   macro avg       1.00      1.00      1.00     31444\n",
      "weighted avg       1.00      1.00      1.00     31444\n",
      "\n",
      "\n",
      "\n",
      "The ROC Curve using DecisionTreeClassifier() model\n"
     ]
    },
    {
     "data": {
      "image/png": "[encoded data removed]",
      "text/plain": [
       "<Figure size 432x288 with 1 Axes>"
      ]
     },
     "metadata": {
      "needs_background": "light"
     },
     "output_type": "display_data"
    },
    {
     "name": "stdout",
     "output_type": "stream",
     "text": [
      "\n",
      "The are under the curve is: 0.9999363948607047\n"
     ]
    }
   ],
   "source": [
    "#score for Decision Tree model using only training data\n",
    "training_score(dt)"
   ]
  },
  {
   "cell_type": "markdown",
   "id": "29889600",
   "metadata": {},
   "source": [
    "### Tuning hyperparamaters for Decision Tree"
   ]
  },
  {
   "cell_type": "code",
   "execution_count": 93,
   "id": "ddaddfb2",
   "metadata": {},
   "outputs": [
    {
     "name": "stdout",
     "output_type": "stream",
     "text": [
      "Fitting 5 folds for each of 96 candidates, totalling 480 fits\n"
     ]
    },
    {
     "data": {
      "text/plain": [
       "GridSearchCV(cv=5, estimator=DecisionTreeClassifier(), n_jobs=-1,\n",
       "             param_grid={'criterion': ['gini', 'entropy'],\n",
       "                         'max_depth': [10, 100, 1000, 1000],\n",
       "                         'max_features': ['auto', 'sqrt', 'log2'],\n",
       "                         'min_samples_leaf': [1, 5, 10, 100]},\n",
       "             verbose=1)"
      ]
     },
     "execution_count": 93,
     "metadata": {},
     "output_type": "execute_result"
    }
   ],
   "source": [
    "#### Using GridSearchCV\n",
    "paramater_dt = {'criterion': ['gini','entropy'],\n",
    "                'max_depth':[10,100,1000,1000],\n",
    "                'max_features':['auto','sqrt','log2'],\n",
    "                'min_samples_leaf':[1,5,10,100]}\n",
    "gridsearch_dt = GridSearchCV(dt, paramater_dt, cv=5, verbose=1, n_jobs=-1)\n",
    "\n",
    "#Fitting the model after hyperparamater tuinning\n",
    "gridsearch_dt.fit(X_train_scaled, y_train)"
   ]
  },
  {
   "cell_type": "code",
   "execution_count": 94,
   "id": "d70b36e2",
   "metadata": {},
   "outputs": [
    {
     "name": "stdout",
     "output_type": "stream",
     "text": [
      "Best paramaters are:\n",
      "{'criterion': 'gini', 'max_depth': 1000, 'max_features': 'auto', 'min_samples_leaf': 1}\n",
      "Best score is: 0.9995229563958559\n",
      "Best estimitar is: DecisionTreeClassifier(max_depth=1000, max_features='auto')\n"
     ]
    }
   ],
   "source": [
    "# Best parameters for this dataset\n",
    "print(f'Best paramaters are:\\n{gridsearch_dt.best_params_}')\n",
    "# best score\n",
    "print(f'Best score is: {gridsearch_dt.best_score_}')\n",
    "#best estimator\n",
    "dt_b=gridsearch_dt.best_estimator_\n",
    "print(f'Best estimitar is: {dt_b}')"
   ]
  },
  {
   "cell_type": "code",
   "execution_count": 95,
   "id": "5374a81b",
   "metadata": {},
   "outputs": [
    {
     "name": "stdout",
     "output_type": "stream",
     "text": [
      "The training score of DecisionTreeClassifier(max_depth=1000, max_features='auto') model is: 1.0\n",
      "\n",
      "\n",
      "Using k=5 cross validation the accuracy is: [0.99856893 0.99936397 0.99920496 0.99825091 0.99840967]\n",
      "Using k=5 cross validation the mean accuracy is: 0.9987596886522248\n",
      "\n",
      "\n",
      "Confusion Matrix using Cross validation predict is:\n",
      " [[15707    15]\n",
      " [   20 15702]]\n",
      "\n",
      "\n",
      "Classification report is:\n",
      "               precision    recall  f1-score   support\n",
      "\n",
      "           0       1.00      1.00      1.00     15722\n",
      "           1       1.00      1.00      1.00     15722\n",
      "\n",
      "    accuracy                           1.00     31444\n",
      "   macro avg       1.00      1.00      1.00     31444\n",
      "weighted avg       1.00      1.00      1.00     31444\n",
      "\n",
      "\n",
      "\n",
      "The ROC Curve using DecisionTreeClassifier(max_depth=1000, max_features='auto') model\n"
     ]
    },
    {
     "data": {
      "image/png": "[encoded data removed]",
      "text/plain": [
       "<Figure size 432x288 with 1 Axes>"
      ]
     },
     "metadata": {
      "needs_background": "light"
     },
     "output_type": "display_data"
    },
    {
     "name": "stdout",
     "output_type": "stream",
     "text": [
      "\n",
      "The are under the curve is: 0.9989505152016284\n"
     ]
    }
   ],
   "source": [
    "#score for decision tree using training data after hyperparamater tuining\n",
    "training_score(dt_b)"
   ]
  },
  {
   "cell_type": "code",
   "execution_count": null,
   "id": "b4b44b78",
   "metadata": {},
   "outputs": [],
   "source": []
  },
  {
   "cell_type": "markdown",
   "id": "aaef49bb",
   "metadata": {},
   "source": [
    "##  4. Extremely Random Trees\n"
   ]
  },
  {
   "cell_type": "code",
   "execution_count": 96,
   "id": "b2d5c6b3",
   "metadata": {},
   "outputs": [
    {
     "data": {
      "text/plain": [
       "ExtraTreesClassifier()"
      ]
     },
     "execution_count": 96,
     "metadata": {},
     "output_type": "execute_result"
    }
   ],
   "source": [
    "# Creating a Extremely Random Trees model \n",
    "rt= ExtraTreesClassifier()\n",
    "\n",
    "# Fit the model to the scaled data\n",
    "rt.fit(X_train_scaled, y_train)"
   ]
  },
  {
   "cell_type": "code",
   "execution_count": 97,
   "id": "105eb27e",
   "metadata": {},
   "outputs": [
    {
     "name": "stdout",
     "output_type": "stream",
     "text": [
      "The training score of ExtraTreesClassifier() model is: 1.0\n",
      "\n",
      "\n",
      "Using k=5 cross validation the accuracy is: [0.99952298 0.99952298 1.         0.99984099 0.99936387]\n",
      "Using k=5 cross validation the mean accuracy is: 0.9996501626289612\n",
      "\n",
      "\n",
      "Confusion Matrix using Cross validation predict is:\n",
      " [[15714     8]\n",
      " [    6 15716]]\n",
      "\n",
      "\n",
      "Classification report is:\n",
      "               precision    recall  f1-score   support\n",
      "\n",
      "           0       1.00      1.00      1.00     15722\n",
      "           1       1.00      1.00      1.00     15722\n",
      "\n",
      "    accuracy                           1.00     31444\n",
      "   macro avg       1.00      1.00      1.00     31444\n",
      "weighted avg       1.00      1.00      1.00     31444\n",
      "\n",
      "\n",
      "\n",
      "The ROC Curve using ExtraTreesClassifier() model\n"
     ]
    },
    {
     "data": {
      "image/png": "[encoded data removed]",
      "text/plain": [
       "<Figure size 432x288 with 1 Axes>"
      ]
     },
     "metadata": {
      "needs_background": "light"
     },
     "output_type": "display_data"
    },
    {
     "name": "stdout",
     "output_type": "stream",
     "text": [
      "\n",
      "The are under the curve is: 0.9999992454930366\n"
     ]
    }
   ],
   "source": [
    "#Score for Extremely Random Trees using only training data (Using our defined function \"training_score\")\n",
    "training_score(rt)"
   ]
  },
  {
   "cell_type": "code",
   "execution_count": 98,
   "id": "f63fb443",
   "metadata": {},
   "outputs": [
    {
     "data": {
      "image/png": "[encoded data removed]",
      "text/plain": [
       "<Figure size 432x288 with 1 Axes>"
      ]
     },
     "metadata": {
      "needs_background": "light"
     },
     "output_type": "display_data"
    }
   ],
   "source": [
    "# Looking the columns with it feature importance\n",
    "features_rt = rt.feature_importances_\n",
    "# Plotting columns with its importances\n",
    "plt.bar(x = range(len(features_rt)), height=features_rt)\n",
    "plt.show()"
   ]
  },
  {
   "cell_type": "markdown",
   "id": "32443704",
   "metadata": {},
   "source": [
    "### Tuning hyperparamaters for Extremely Random Tree Classifier"
   ]
  },
  {
   "cell_type": "code",
   "execution_count": 99,
   "id": "c7de8243",
   "metadata": {},
   "outputs": [
    {
     "name": "stdout",
     "output_type": "stream",
     "text": [
      "Fitting 5 folds for each of 10 candidates, totalling 50 fits\n"
     ]
    },
    {
     "data": {
      "text/plain": [
       "RandomizedSearchCV(cv=5, estimator=ExtraTreesClassifier(), n_jobs=-1,\n",
       "                   param_distributions={'criterion': ['gini', 'entropy'],\n",
       "                                        'max_depth': [5, 10, 1000, 10000],\n",
       "                                        'max_features': ['auto', 'sqrt'],\n",
       "                                        'min_samples_leaf': [10, 100, 1000],\n",
       "                                        'n_estimators': [100, 200, 500, 1000]},\n",
       "                   verbose=1)"
      ]
     },
     "execution_count": 99,
     "metadata": {},
     "output_type": "execute_result"
    }
   ],
   "source": [
    "# Using RandomizedSearchCV (since GridSearch take longer time so using RandomizedSearchCV)\n",
    "paramater_rt = {'n_estimators':[100,200,500, 1000],\n",
    "              'criterion': ['gini','entropy'],\n",
    "              'max_depth':[5,10,1000,10000],\n",
    "                'min_samples_leaf':[10,100,1000],\n",
    "                'max_features':['auto','sqrt',]}\n",
    "randsearch_rt = RandomizedSearchCV(rt, paramater_rt, cv=5, verbose=1, n_jobs=-1)\n",
    "\n",
    "# Fitting the model after hyperparamater tuining\n",
    "randsearch_rt.fit(X_train_scaled, y_train)"
   ]
  },
  {
   "cell_type": "code",
   "execution_count": 100,
   "id": "547d0853",
   "metadata": {},
   "outputs": [
    {
     "name": "stdout",
     "output_type": "stream",
     "text": [
      "Best paramaters are:\n",
      "{'n_estimators': 1000, 'min_samples_leaf': 10, 'max_features': 'auto', 'max_depth': 10000, 'criterion': 'entropy'}\n",
      "Best score is: 0.9908089956331525\n",
      "Best estimitar is: ExtraTreesClassifier(criterion='entropy', max_depth=10000, min_samples_leaf=10,\n",
      "                     n_estimators=1000)\n"
     ]
    }
   ],
   "source": [
    "# Best parameters for this dataset\n",
    "print(f'Best paramaters are:\\n{randsearch_rt.best_params_}')\n",
    "# best score\n",
    "print(f'Best score is: {randsearch_rt.best_score_}')\n",
    "#best estimator\n",
    "rt_b=randsearch_rt.best_estimator_\n",
    "print(f'Best estimitar is: {rt_b}')\n"
   ]
  },
  {
   "cell_type": "code",
   "execution_count": 101,
   "id": "a58c6867",
   "metadata": {},
   "outputs": [
    {
     "name": "stdout",
     "output_type": "stream",
     "text": [
      "The training score of ExtraTreesClassifier(criterion='entropy', max_depth=10000, min_samples_leaf=10,\n",
      "                     n_estimators=1000) model is: 0.9956112453886274\n",
      "\n",
      "\n",
      "Using k=5 cross validation the accuracy is: [0.99125457 0.99093656 0.99141358 0.99093656 0.98886768]\n",
      "Using k=5 cross validation the mean accuracy is: 0.990681789400047\n",
      "\n",
      "\n",
      "Confusion Matrix using Cross validation predict is:\n",
      " [[15375   347]\n",
      " [   59 15663]]\n",
      "\n",
      "\n",
      "Classification report is:\n",
      "               precision    recall  f1-score   support\n",
      "\n",
      "           0       1.00      0.98      0.99     15722\n",
      "           1       0.98      1.00      0.99     15722\n",
      "\n",
      "    accuracy                           0.99     31444\n",
      "   macro avg       0.99      0.99      0.99     31444\n",
      "weighted avg       0.99      0.99      0.99     31444\n",
      "\n",
      "\n",
      "\n",
      "The ROC Curve using ExtraTreesClassifier(criterion='entropy', max_depth=10000, min_samples_leaf=10,\n",
      "                     n_estimators=1000) model\n"
     ]
    },
    {
     "data": {
      "image/png": "[encoded data removed]",
      "text/plain": [
       "<Figure size 432x288 with 1 Axes>"
      ]
     },
     "metadata": {
      "needs_background": "light"
     },
     "output_type": "display_data"
    },
    {
     "name": "stdout",
     "output_type": "stream",
     "text": [
      "\n",
      "The are under the curve is: 0.9996923917589166\n"
     ]
    }
   ],
   "source": [
    "#score for extra tree classifier using training data after hyperparamater tuining\n",
    "training_score(rt_b)"
   ]
  },
  {
   "cell_type": "code",
   "execution_count": null,
   "id": "1d09ddfc",
   "metadata": {},
   "outputs": [],
   "source": []
  },
  {
   "cell_type": "markdown",
   "id": "507bceee",
   "metadata": {},
   "source": [
    "##  5. Random Forest Classifier"
   ]
  },
  {
   "cell_type": "code",
   "execution_count": 102,
   "id": "506b2fcd",
   "metadata": {},
   "outputs": [
    {
     "data": {
      "text/plain": [
       "RandomForestClassifier()"
      ]
     },
     "execution_count": 102,
     "metadata": {},
     "output_type": "execute_result"
    }
   ],
   "source": [
    "# Creating a Random Forest Classifer model \n",
    "rf= RandomForestClassifier()\n",
    "\n",
    "# Fit the model to the scaled data\n",
    "rf.fit(X_train_scaled, y_train)"
   ]
  },
  {
   "cell_type": "code",
   "execution_count": 103,
   "id": "22705676",
   "metadata": {},
   "outputs": [
    {
     "name": "stdout",
     "output_type": "stream",
     "text": [
      "The training score of RandomForestClassifier() model is: 1.0\n",
      "\n",
      "\n",
      "Using k=5 cross validation the accuracy is: [0.99984099 0.99952298 1.         0.99984099 0.99920483]\n",
      "Using k=5 cross validation the mean accuracy is: 0.9996819591297378\n",
      "\n",
      "\n",
      "Confusion Matrix using Cross validation predict is:\n",
      " [[15720     2]\n",
      " [    5 15717]]\n",
      "\n",
      "\n",
      "Classification report is:\n",
      "               precision    recall  f1-score   support\n",
      "\n",
      "           0       1.00      1.00      1.00     15722\n",
      "           1       1.00      1.00      1.00     15722\n",
      "\n",
      "    accuracy                           1.00     31444\n",
      "   macro avg       1.00      1.00      1.00     31444\n",
      "weighted avg       1.00      1.00      1.00     31444\n",
      "\n",
      "\n",
      "\n",
      "The ROC Curve using RandomForestClassifier() model\n"
     ]
    },
    {
     "data": {
      "image/png": "[encoded data removed]",
      "text/plain": [
       "<Figure size 432x288 with 1 Axes>"
      ]
     },
     "metadata": {
      "needs_background": "light"
     },
     "output_type": "display_data"
    },
    {
     "name": "stdout",
     "output_type": "stream",
     "text": [
      "\n",
      "The are under the curve is: 0.9999984970544938\n"
     ]
    }
   ],
   "source": [
    "#Score for Random Forest Classifer using only training data\n",
    "training_score(rf)"
   ]
  },
  {
   "cell_type": "code",
   "execution_count": 104,
   "id": "bcc73fe4",
   "metadata": {},
   "outputs": [
    {
     "data": {
      "image/png": "[encoded data removed]",
      "text/plain": [
       "<Figure size 432x288 with 1 Axes>"
      ]
     },
     "metadata": {
      "needs_background": "light"
     },
     "output_type": "display_data"
    }
   ],
   "source": [
    "#Looking for the important features\n",
    "features_rf = rf.feature_importances_\n",
    "# plotting columns with its importances\n",
    "plt.bar(x = range(len(features_rf)), height=features_rf)\n",
    "plt.show()"
   ]
  },
  {
   "cell_type": "markdown",
   "id": "907c0d0d",
   "metadata": {},
   "source": [
    "### Tuning hyperparamaters for Random Forest"
   ]
  },
  {
   "cell_type": "code",
   "execution_count": 105,
   "id": "fff94860",
   "metadata": {},
   "outputs": [
    {
     "name": "stdout",
     "output_type": "stream",
     "text": [
      "Fitting 5 folds for each of 10 candidates, totalling 50 fits\n"
     ]
    },
    {
     "data": {
      "text/plain": [
       "RandomizedSearchCV(cv=5, estimator=RandomForestClassifier(), n_jobs=-1,\n",
       "                   param_distributions={'criterion': ['gini', 'entropy'],\n",
       "                                        'max_depth': [1, 2, 5, 10, 100, 1000],\n",
       "                                        'max_features': ['auto', 'sqrt',\n",
       "                                                         'log2'],\n",
       "                                        'min_samples_leaf': [1, 5, 10, 100,\n",
       "                                                             1000],\n",
       "                                        'n_estimators': [100, 200, 500]},\n",
       "                   verbose=1)"
      ]
     },
     "execution_count": 105,
     "metadata": {},
     "output_type": "execute_result"
    }
   ],
   "source": [
    "#Using randomized search for hyperparamater tuining since the paramaters are large and it make take longer time to tuned\n",
    "paramater_rf = {'n_estimators':[100,200,500],\n",
    "              'criterion': ['gini','entropy'],\n",
    "                 'max_features':['auto','sqrt','log2'],\n",
    "              'max_depth':[1,2,5,10,100,1000],\n",
    "                'min_samples_leaf':[1,5,10,100,1000]}\n",
    "randsearch_rf = RandomizedSearchCV(rf, paramater_rf, cv=5, verbose=1, n_jobs=-1)\n",
    "\n",
    "#Fitting the model after hyperparamater tuining\n",
    "randsearch_rf.fit(X_train_scaled, y_train)"
   ]
  },
  {
   "cell_type": "code",
   "execution_count": 106,
   "id": "e6f6e0d8",
   "metadata": {},
   "outputs": [
    {
     "name": "stdout",
     "output_type": "stream",
     "text": [
      "Best paramaters are:\n",
      "{'n_estimators': 200, 'min_samples_leaf': 10, 'max_features': 'sqrt', 'max_depth': 1000, 'criterion': 'entropy'}\n",
      "Best score is: 0.9971059975068549\n",
      "Best estimitar is: RandomForestClassifier(criterion='entropy', max_depth=1000, max_features='sqrt',\n",
      "                       min_samples_leaf=10, n_estimators=200)\n"
     ]
    }
   ],
   "source": [
    "# Best parameters for this dataset\n",
    "print(f'Best paramaters are:\\n{randsearch_rf.best_params_}')\n",
    "# best score\n",
    "print(f'Best score is: {randsearch_rf.best_score_}')\n",
    "#best estimator\n",
    "rf_b=randsearch_rf.best_estimator_\n",
    "print(f'Best estimitar is: {rf_b}')"
   ]
  },
  {
   "cell_type": "code",
   "execution_count": 107,
   "id": "ed449e8d",
   "metadata": {},
   "outputs": [
    {
     "name": "stdout",
     "output_type": "stream",
     "text": [
      "The training score of RandomForestClassifier(criterion='entropy', max_depth=1000, max_features='sqrt',\n",
      "                       min_samples_leaf=10, n_estimators=200) model is: 0.9985052792265615\n",
      "\n",
      "\n",
      "Using k=5 cross validation the accuracy is: [0.99618381 0.99777389 0.99602481 0.9958658  0.99793257]\n",
      "Using k=5 cross validation the mean accuracy is: 0.9967561753083153\n",
      "\n",
      "\n",
      "Confusion Matrix using Cross validation predict is:\n",
      " [[15634    88]\n",
      " [   50 15672]]\n",
      "\n",
      "\n",
      "Classification report is:\n",
      "               precision    recall  f1-score   support\n",
      "\n",
      "           0       1.00      0.99      1.00     15722\n",
      "           1       0.99      1.00      1.00     15722\n",
      "\n",
      "    accuracy                           1.00     31444\n",
      "   macro avg       1.00      1.00      1.00     31444\n",
      "weighted avg       1.00      1.00      1.00     31444\n",
      "\n",
      "\n",
      "\n",
      "The ROC Curve using RandomForestClassifier(criterion='entropy', max_depth=1000, max_features='sqrt',\n",
      "                       min_samples_leaf=10, n_estimators=200) model\n"
     ]
    },
    {
     "data": {
      "image/png": "[encoded data removed]",
      "text/plain": [
       "<Figure size 432x288 with 1 Axes>"
      ]
     },
     "metadata": {
      "needs_background": "light"
     },
     "output_type": "display_data"
    },
    {
     "name": "stdout",
     "output_type": "stream",
     "text": [
      "\n",
      "The are under the curve is: 0.9999172388796234\n"
     ]
    }
   ],
   "source": [
    "#Score for random forest using training data after hyperparamater tuining\n",
    "training_score(rf_b)"
   ]
  },
  {
   "cell_type": "code",
   "execution_count": null,
   "id": "7bae9584",
   "metadata": {},
   "outputs": [],
   "source": []
  },
  {
   "cell_type": "markdown",
   "id": "26e9c195",
   "metadata": {},
   "source": [
    "## 6. Boosting Classifier"
   ]
  },
  {
   "cell_type": "code",
   "execution_count": 108,
   "id": "2e4ffc49",
   "metadata": {},
   "outputs": [
    {
     "data": {
      "text/plain": [
       "AdaBoostClassifier(base_estimator=DecisionTreeClassifier())"
      ]
     },
     "execution_count": 108,
     "metadata": {},
     "output_type": "execute_result"
    }
   ],
   "source": [
    "# Creating a AdaBoostClassifier model \n",
    "ab= AdaBoostClassifier(base_estimator = dt)\n",
    "\n",
    "# Fit the model to the data\n",
    "ab.fit(X_train_scaled, y_train)"
   ]
  },
  {
   "cell_type": "code",
   "execution_count": 109,
   "id": "f8ceb9a9",
   "metadata": {},
   "outputs": [
    {
     "name": "stdout",
     "output_type": "stream",
     "text": [
      "The training score of AdaBoostClassifier(base_estimator=DecisionTreeClassifier()) model is: 1.0\n",
      "\n",
      "\n",
      "Using k=5 cross validation the accuracy is: [1.         0.99968198 0.99984099 1.         1.        ]\n",
      "Using k=5 cross validation the mean accuracy is: 0.999904595325171\n",
      "\n",
      "\n",
      "Confusion Matrix using Cross validation predict is:\n",
      " [[15722     0]\n",
      " [    0 15722]]\n",
      "\n",
      "\n",
      "Classification report is:\n",
      "               precision    recall  f1-score   support\n",
      "\n",
      "           0       1.00      1.00      1.00     15722\n",
      "           1       1.00      1.00      1.00     15722\n",
      "\n",
      "    accuracy                           1.00     31444\n",
      "   macro avg       1.00      1.00      1.00     31444\n",
      "weighted avg       1.00      1.00      1.00     31444\n",
      "\n",
      "\n",
      "\n",
      "The ROC Curve using AdaBoostClassifier(base_estimator=DecisionTreeClassifier()) model\n"
     ]
    },
    {
     "data": {
      "image/png": "[encoded data removed]",
      "text/plain": [
       "<Figure size 432x288 with 1 Axes>"
      ]
     },
     "metadata": {
      "needs_background": "light"
     },
     "output_type": "display_data"
    },
    {
     "name": "stdout",
     "output_type": "stream",
     "text": [
      "\n",
      "The are under the curve is: 0.9999045922910571\n"
     ]
    }
   ],
   "source": [
    "#Score for Adaboost using only training data\n",
    "training_score(ab)"
   ]
  },
  {
   "cell_type": "code",
   "execution_count": 110,
   "id": "98eaf3db",
   "metadata": {},
   "outputs": [
    {
     "data": {
      "image/png": "[encoded data removed]",
      "text/plain": [
       "<Figure size 432x288 with 1 Axes>"
      ]
     },
     "metadata": {
      "needs_background": "light"
     },
     "output_type": "display_data"
    }
   ],
   "source": [
    "# Looking only important features\n",
    "features_ab = ab.feature_importances_\n",
    "# Plotting columns with its importances\n",
    "plt.bar(x = range(len(features_ab)), height=features_ab)\n",
    "plt.show()"
   ]
  },
  {
   "cell_type": "markdown",
   "id": "70d7b3b9",
   "metadata": {},
   "source": [
    "### Tuning hyperparamaters for AdaBoost Classifier"
   ]
  },
  {
   "cell_type": "code",
   "execution_count": 111,
   "id": "5cae98a2",
   "metadata": {},
   "outputs": [
    {
     "name": "stdout",
     "output_type": "stream",
     "text": [
      "Fitting 3 folds for each of 10 candidates, totalling 30 fits\n"
     ]
    },
    {
     "data": {
      "text/plain": [
       "RandomizedSearchCV(cv=3,\n",
       "                   estimator=AdaBoostClassifier(base_estimator=DecisionTreeClassifier()),\n",
       "                   n_jobs=-1,\n",
       "                   param_distributions={'learning_rate': [0.01, 0.1],\n",
       "                                        'n_estimators': [100, 200, 500, 1000,\n",
       "                                                         2000, 5000]},\n",
       "                   verbose=1)"
      ]
     },
     "execution_count": 111,
     "metadata": {},
     "output_type": "execute_result"
    }
   ],
   "source": [
    "# Using randomized search cv \n",
    "paramater_ab = {'n_estimators':[100,200,500, 1000, 2000, 5000],\n",
    "             'learning_rate':[0.01,0.1]}\n",
    "randsearch_ab = RandomizedSearchCV(ab, paramater_ab, cv=3, verbose=1, n_jobs=-1)\n",
    "\n",
    "#Fitting after hyperparamater tuining\n",
    "randsearch_ab.fit(X_train_scaled, y_train)"
   ]
  },
  {
   "cell_type": "code",
   "execution_count": 112,
   "id": "d058eb30",
   "metadata": {},
   "outputs": [
    {
     "name": "stdout",
     "output_type": "stream",
     "text": [
      "Best paramaters are:\n",
      "{'n_estimators': 1000, 'learning_rate': 0.01}\n",
      "Best score is: 1.0\n",
      "Best estimitar is: AdaBoostClassifier(base_estimator=DecisionTreeClassifier(), learning_rate=0.01,\n",
      "                   n_estimators=1000)\n"
     ]
    }
   ],
   "source": [
    "# Best parameters for this dataset\n",
    "print(f'Best paramaters are:\\n{randsearch_ab.best_params_}')\n",
    "# best score\n",
    "print(f'Best score is: {randsearch_ab.best_score_}')\n",
    "#best estimator\n",
    "ab_b=randsearch_ab.best_estimator_\n",
    "print(f'Best estimitar is: {ab_b}')"
   ]
  },
  {
   "cell_type": "code",
   "execution_count": 113,
   "id": "f50a47d8",
   "metadata": {},
   "outputs": [
    {
     "name": "stdout",
     "output_type": "stream",
     "text": [
      "The training score of AdaBoostClassifier(base_estimator=DecisionTreeClassifier(), learning_rate=0.01,\n",
      "                   n_estimators=1000) model is: 1.0\n",
      "\n",
      "\n",
      "Using k=5 cross validation the accuracy is: [1.         0.99968198 0.99984099 1.         1.        ]\n",
      "Using k=5 cross validation the mean accuracy is: 0.999904595325171\n",
      "\n",
      "\n",
      "Confusion Matrix using Cross validation predict is:\n",
      " [[15722     0]\n",
      " [    0 15722]]\n",
      "\n",
      "\n",
      "Classification report is:\n",
      "               precision    recall  f1-score   support\n",
      "\n",
      "           0       1.00      1.00      1.00     15722\n",
      "           1       1.00      1.00      1.00     15722\n",
      "\n",
      "    accuracy                           1.00     31444\n",
      "   macro avg       1.00      1.00      1.00     31444\n",
      "weighted avg       1.00      1.00      1.00     31444\n",
      "\n",
      "\n",
      "\n",
      "The ROC Curve using AdaBoostClassifier(base_estimator=DecisionTreeClassifier(), learning_rate=0.01,\n",
      "                   n_estimators=1000) model\n"
     ]
    },
    {
     "data": {
      "image/png": "[encoded data removed]",
      "text/plain": [
       "<Figure size 432x288 with 1 Axes>"
      ]
     },
     "metadata": {
      "needs_background": "light"
     },
     "output_type": "display_data"
    },
    {
     "name": "stdout",
     "output_type": "stream",
     "text": [
      "\n",
      "The are under the curve is: 0.9999045922910571\n"
     ]
    }
   ],
   "source": [
    "#score for adaboost classifier using training data after hyperparamater tuining\n",
    "training_score(ab_b)"
   ]
  },
  {
   "cell_type": "code",
   "execution_count": null,
   "id": "91e36c0e",
   "metadata": {},
   "outputs": [],
   "source": []
  },
  {
   "cell_type": "markdown",
   "id": "1f01ee92",
   "metadata": {},
   "source": [
    "# Real and Predicted Value Using Test Dataset for Different Models"
   ]
  },
  {
   "cell_type": "code",
   "execution_count": 114,
   "id": "9b77ad95",
   "metadata": {},
   "outputs": [
    {
     "data": {
      "text/html": [
       "<div>\n",
       "<style scoped>\n",
       "    .dataframe tbody tr th:only-of-type {\n",
       "        vertical-align: middle;\n",
       "    }\n",
       "\n",
       "    .dataframe tbody tr th {\n",
       "        vertical-align: top;\n",
       "    }\n",
       "\n",
       "    .dataframe thead th {\n",
       "        text-align: right;\n",
       "    }\n",
       "</style>\n",
       "<table border=\"1\" class=\"dataframe\">\n",
       "  <thead>\n",
       "    <tr style=\"text-align: right;\">\n",
       "      <th></th>\n",
       "      <th>Real value</th>\n",
       "      <th>SGD Classifier</th>\n",
       "      <th>Logistic Regression</th>\n",
       "      <th>Decision Tree</th>\n",
       "      <th>Random Forest</th>\n",
       "      <th>Extra Random Tree</th>\n",
       "      <th>AdaBoost</th>\n",
       "      <th>Gradient Boost</th>\n",
       "    </tr>\n",
       "  </thead>\n",
       "  <tbody>\n",
       "    <tr>\n",
       "      <th>0</th>\n",
       "      <td>high risk</td>\n",
       "      <td>high risk</td>\n",
       "      <td>high risk</td>\n",
       "      <td>high risk</td>\n",
       "      <td>high risk</td>\n",
       "      <td>high risk</td>\n",
       "      <td>high risk</td>\n",
       "      <td>high risk</td>\n",
       "    </tr>\n",
       "    <tr>\n",
       "      <th>1</th>\n",
       "      <td>high risk</td>\n",
       "      <td>high risk</td>\n",
       "      <td>high risk</td>\n",
       "      <td>high risk</td>\n",
       "      <td>high risk</td>\n",
       "      <td>high risk</td>\n",
       "      <td>high risk</td>\n",
       "      <td>high risk</td>\n",
       "    </tr>\n",
       "    <tr>\n",
       "      <th>2</th>\n",
       "      <td>low risk</td>\n",
       "      <td>low risk</td>\n",
       "      <td>low risk</td>\n",
       "      <td>low risk</td>\n",
       "      <td>low risk</td>\n",
       "      <td>low risk</td>\n",
       "      <td>low risk</td>\n",
       "      <td>low risk</td>\n",
       "    </tr>\n",
       "    <tr>\n",
       "      <th>3</th>\n",
       "      <td>low risk</td>\n",
       "      <td>low risk</td>\n",
       "      <td>low risk</td>\n",
       "      <td>low risk</td>\n",
       "      <td>low risk</td>\n",
       "      <td>low risk</td>\n",
       "      <td>low risk</td>\n",
       "      <td>low risk</td>\n",
       "    </tr>\n",
       "    <tr>\n",
       "      <th>4</th>\n",
       "      <td>low risk</td>\n",
       "      <td>low risk</td>\n",
       "      <td>low risk</td>\n",
       "      <td>low risk</td>\n",
       "      <td>low risk</td>\n",
       "      <td>low risk</td>\n",
       "      <td>low risk</td>\n",
       "      <td>low risk</td>\n",
       "    </tr>\n",
       "    <tr>\n",
       "      <th>...</th>\n",
       "      <td>...</td>\n",
       "      <td>...</td>\n",
       "      <td>...</td>\n",
       "      <td>...</td>\n",
       "      <td>...</td>\n",
       "      <td>...</td>\n",
       "      <td>...</td>\n",
       "      <td>...</td>\n",
       "    </tr>\n",
       "    <tr>\n",
       "      <th>10477</th>\n",
       "      <td>low risk</td>\n",
       "      <td>low risk</td>\n",
       "      <td>low risk</td>\n",
       "      <td>low risk</td>\n",
       "      <td>low risk</td>\n",
       "      <td>low risk</td>\n",
       "      <td>low risk</td>\n",
       "      <td>low risk</td>\n",
       "    </tr>\n",
       "    <tr>\n",
       "      <th>10478</th>\n",
       "      <td>high risk</td>\n",
       "      <td>low risk</td>\n",
       "      <td>low risk</td>\n",
       "      <td>high risk</td>\n",
       "      <td>high risk</td>\n",
       "      <td>high risk</td>\n",
       "      <td>high risk</td>\n",
       "      <td>high risk</td>\n",
       "    </tr>\n",
       "    <tr>\n",
       "      <th>10479</th>\n",
       "      <td>low risk</td>\n",
       "      <td>low risk</td>\n",
       "      <td>low risk</td>\n",
       "      <td>low risk</td>\n",
       "      <td>low risk</td>\n",
       "      <td>low risk</td>\n",
       "      <td>low risk</td>\n",
       "      <td>low risk</td>\n",
       "    </tr>\n",
       "    <tr>\n",
       "      <th>10480</th>\n",
       "      <td>low risk</td>\n",
       "      <td>low risk</td>\n",
       "      <td>low risk</td>\n",
       "      <td>low risk</td>\n",
       "      <td>low risk</td>\n",
       "      <td>low risk</td>\n",
       "      <td>low risk</td>\n",
       "      <td>low risk</td>\n",
       "    </tr>\n",
       "    <tr>\n",
       "      <th>10481</th>\n",
       "      <td>high risk</td>\n",
       "      <td>low risk</td>\n",
       "      <td>low risk</td>\n",
       "      <td>high risk</td>\n",
       "      <td>high risk</td>\n",
       "      <td>high risk</td>\n",
       "      <td>high risk</td>\n",
       "      <td>high risk</td>\n",
       "    </tr>\n",
       "  </tbody>\n",
       "</table>\n",
       "<p>10482 rows × 8 columns</p>\n",
       "</div>"
      ],
      "text/plain": [
       "      Real value SGD Classifier Logistic Regression Decision Tree  \\\n",
       "0      high risk      high risk           high risk     high risk   \n",
       "1      high risk      high risk           high risk     high risk   \n",
       "2       low risk       low risk            low risk      low risk   \n",
       "3       low risk       low risk            low risk      low risk   \n",
       "4       low risk       low risk            low risk      low risk   \n",
       "...          ...            ...                 ...           ...   \n",
       "10477   low risk       low risk            low risk      low risk   \n",
       "10478  high risk       low risk            low risk     high risk   \n",
       "10479   low risk       low risk            low risk      low risk   \n",
       "10480   low risk       low risk            low risk      low risk   \n",
       "10481  high risk       low risk            low risk     high risk   \n",
       "\n",
       "      Random Forest Extra Random Tree   AdaBoost Gradient Boost  \n",
       "0         high risk         high risk  high risk      high risk  \n",
       "1         high risk         high risk  high risk      high risk  \n",
       "2          low risk          low risk   low risk       low risk  \n",
       "3          low risk          low risk   low risk       low risk  \n",
       "4          low risk          low risk   low risk       low risk  \n",
       "...             ...               ...        ...            ...  \n",
       "10477      low risk          low risk   low risk       low risk  \n",
       "10478     high risk         high risk  high risk      high risk  \n",
       "10479      low risk          low risk   low risk       low risk  \n",
       "10480      low risk          low risk   low risk       low risk  \n",
       "10481     high risk         high risk  high risk      high risk  \n",
       "\n",
       "[10482 rows x 8 columns]"
      ]
     },
     "execution_count": 114,
     "metadata": {},
     "output_type": "execute_result"
    }
   ],
   "source": [
    "#Predected value using test data\n",
    "y_pred_sgd=sgdc_b.predict(X_test_scaled)\n",
    "y_pred_lr=lr_b.predict(X_test_scaled)\n",
    "y_pred_dt=dt_b.predict(X_test_scaled)\n",
    "y_pred_rf=rf_b.predict(X_test_scaled)\n",
    "y_pred_rt=rt_b.predict(X_test_scaled)\n",
    "y_pred_ab=ab_b.predict(X_test_scaled)\n",
    "y_pred_gb=gb.predict(X_test_scaled)\n",
    "\n",
    "#Creating the dataframe for real and predicted value using different models\n",
    "df_pred=pd.DataFrame({'Real value':y_test,\n",
    "                     'SGD Classifier':y_pred_sgd,\n",
    "                     'Logistic Regression':y_pred_lr,\n",
    "                     'Decision Tree':y_pred_dt,\n",
    "                     'Random Forest':y_pred_rf,\n",
    "                     'Extra Random Tree':y_pred_rt,\n",
    "                     'AdaBoost':y_pred_ab,\n",
    "                      'Gradient Boost': y_pred_gb})\n",
    "#Replacing 1 with low risk and 0 with high risk\n",
    "df_pred.replace({1:'low risk', 0: 'high risk'}, inplace=True)\n",
    "df_pred"
   ]
  },
  {
   "cell_type": "code",
   "execution_count": 117,
   "id": "2ff57c41",
   "metadata": {},
   "outputs": [],
   "source": [
    "# Saving the dataframe\n",
    "df_pred.to_html('Resources/Cleaned_data/over_pred_add.html')"
   ]
  },
  {
   "cell_type": "code",
   "execution_count": 115,
   "id": "1579fe07",
   "metadata": {},
   "outputs": [
    {
     "data": {
      "text/html": [
       "<div>\n",
       "<style scoped>\n",
       "    .dataframe tbody tr th:only-of-type {\n",
       "        vertical-align: middle;\n",
       "    }\n",
       "\n",
       "    .dataframe tbody tr th {\n",
       "        vertical-align: top;\n",
       "    }\n",
       "\n",
       "    .dataframe thead th {\n",
       "        text-align: right;\n",
       "    }\n",
       "</style>\n",
       "<table border=\"1\" class=\"dataframe\">\n",
       "  <thead>\n",
       "    <tr style=\"text-align: right;\">\n",
       "      <th></th>\n",
       "      <th>SGD</th>\n",
       "      <th>logistic Reg</th>\n",
       "      <th>Decision Tree</th>\n",
       "      <th>Random Forest</th>\n",
       "      <th>Extra Random Tree</th>\n",
       "      <th>Ada Boost</th>\n",
       "      <th>Graident Boost</th>\n",
       "    </tr>\n",
       "  </thead>\n",
       "  <tbody>\n",
       "    <tr>\n",
       "      <th>Train score</th>\n",
       "      <td>0.808771</td>\n",
       "      <td>0.808771</td>\n",
       "      <td>1.000000</td>\n",
       "      <td>0.998505</td>\n",
       "      <td>0.995611</td>\n",
       "      <td>1.0</td>\n",
       "      <td>0.991922</td>\n",
       "    </tr>\n",
       "    <tr>\n",
       "      <th>Test score</th>\n",
       "      <td>0.811296</td>\n",
       "      <td>0.811296</td>\n",
       "      <td>0.999809</td>\n",
       "      <td>0.997997</td>\n",
       "      <td>0.994848</td>\n",
       "      <td>1.0</td>\n",
       "      <td>0.992654</td>\n",
       "    </tr>\n",
       "    <tr>\n",
       "      <th>Precision</th>\n",
       "      <td>0.729047</td>\n",
       "      <td>0.729047</td>\n",
       "      <td>1.000000</td>\n",
       "      <td>0.997332</td>\n",
       "      <td>0.991472</td>\n",
       "      <td>1.0</td>\n",
       "      <td>0.985521</td>\n",
       "    </tr>\n",
       "    <tr>\n",
       "      <th>Recall</th>\n",
       "      <td>0.990841</td>\n",
       "      <td>0.990841</td>\n",
       "      <td>0.999618</td>\n",
       "      <td>0.998664</td>\n",
       "      <td>0.998283</td>\n",
       "      <td>1.0</td>\n",
       "      <td>1.000000</td>\n",
       "    </tr>\n",
       "    <tr>\n",
       "      <th>f1_score</th>\n",
       "      <td>0.840019</td>\n",
       "      <td>0.840019</td>\n",
       "      <td>0.999809</td>\n",
       "      <td>0.997998</td>\n",
       "      <td>0.994866</td>\n",
       "      <td>1.0</td>\n",
       "      <td>0.992708</td>\n",
       "    </tr>\n",
       "    <tr>\n",
       "      <th>auc</th>\n",
       "      <td>0.797657</td>\n",
       "      <td>0.797657</td>\n",
       "      <td>0.999809</td>\n",
       "      <td>0.999969</td>\n",
       "      <td>0.999860</td>\n",
       "      <td>1.0</td>\n",
       "      <td>0.999998</td>\n",
       "    </tr>\n",
       "  </tbody>\n",
       "</table>\n",
       "</div>"
      ],
      "text/plain": [
       "                  SGD  logistic Reg  Decision Tree  Random Forest  \\\n",
       "Train score  0.808771      0.808771       1.000000       0.998505   \n",
       "Test score   0.811296      0.811296       0.999809       0.997997   \n",
       "Precision    0.729047      0.729047       1.000000       0.997332   \n",
       "Recall       0.990841      0.990841       0.999618       0.998664   \n",
       "f1_score     0.840019      0.840019       0.999809       0.997998   \n",
       "auc          0.797657      0.797657       0.999809       0.999969   \n",
       "\n",
       "             Extra Random Tree  Ada Boost  Graident Boost  \n",
       "Train score           0.995611        1.0        0.991922  \n",
       "Test score            0.994848        1.0        0.992654  \n",
       "Precision             0.991472        1.0        0.985521  \n",
       "Recall                0.998283        1.0        1.000000  \n",
       "f1_score              0.994866        1.0        0.992708  \n",
       "auc                   0.999860        1.0        0.999998  "
      ]
     },
     "execution_count": 115,
     "metadata": {},
     "output_type": "execute_result"
    }
   ],
   "source": [
    "#making dataframe on evaluation metrices\n",
    "all_evaluation=pd.DataFrame({'SGD':model_score(sgdc_b),\n",
    "                            'logistic Reg':model_score(lr_b),\n",
    "                            'Decision Tree':model_score(dt_b),\n",
    "                           'Random Forest':model_score(rf_b),\n",
    "                            'Extra Random Tree':model_score(rt_b),\n",
    "                           'Ada Boost':model_score(ab_b),\n",
    "                            'Graident Boost':model_score(gb) }\n",
    "                           ,index=['Train score','Test score', \n",
    "                                   'Precision', 'Recall', 'f1_score', 'auc'])\n",
    "all_evaluation"
   ]
  },
  {
   "cell_type": "code",
   "execution_count": 116,
   "id": "3256da24",
   "metadata": {},
   "outputs": [],
   "source": [
    "#Saving the dataframe\n",
    "all_evaluation.to_html('Resources/Cleaned_data/over_metrics_add.html')"
   ]
  },
  {
   "cell_type": "code",
   "execution_count": null,
   "id": "3d3ffa74",
   "metadata": {},
   "outputs": [],
   "source": []
  },
  {
   "cell_type": "markdown",
   "id": "debd1af7",
   "metadata": {},
   "source": [
    "## Saving the Model for Prediction Using the User Input in Website"
   ]
  },
  {
   "cell_type": "code",
   "execution_count": 154,
   "id": "d1e184e2",
   "metadata": {},
   "outputs": [
    {
     "data": {
      "text/plain": [
       "['model.pkl']"
      ]
     },
     "execution_count": 154,
     "metadata": {},
     "output_type": "execute_result"
    }
   ],
   "source": [
    "import joblib\n",
    "joblib.dump(rf_s, 'model.pkl')"
   ]
  },
  {
   "cell_type": "code",
   "execution_count": 155,
   "id": "f796c2fe",
   "metadata": {},
   "outputs": [
    {
     "data": {
      "text/plain": [
       "['scaler.pkl']"
      ]
     },
     "execution_count": 155,
     "metadata": {},
     "output_type": "execute_result"
    }
   ],
   "source": [
    "#saving standard scaler\n",
    "joblib.dump(scaler1, 'scaler.pkl')"
   ]
  }
 ],
 "metadata": {
  "kernelspec": {
   "display_name": "Python 3 (ipykernel)",
   "language": "python",
   "name": "python3"
  },
  "language_info": {
   "codemirror_mode": {
    "name": "ipython",
    "version": 3
   },
   "file_extension": ".py",
   "mimetype": "text/x-python",
   "name": "python",
   "nbconvert_exporter": "python",
   "pygments_lexer": "ipython3",
   "version": "3.8.10"
  }
 },
 "nbformat": 4,
 "nbformat_minor": 5
}
