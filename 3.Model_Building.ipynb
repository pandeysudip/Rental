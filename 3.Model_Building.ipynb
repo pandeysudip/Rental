{
 "cells": [
  {
   "cell_type": "markdown",
   "id": "ae018c6b",
   "metadata": {},
   "source": [
    "## MODEL Building\n",
    "\n",
    "##### Since only small proportion of data is low rental risk, using oversampling technique to overcome this problem."
   ]
  },
  {
   "cell_type": "markdown",
   "id": "4bb50082",
   "metadata": {},
   "source": [
    "### Over sampling dataset "
   ]
  },
  {
   "cell_type": "code",
   "execution_count": 31,
   "id": "3bd4600a",
   "metadata": {},
   "outputs": [],
   "source": [
    "#importing modules\n",
    "import pandas as pd\n",
    "import numpy as np\n",
    "from pathlib import Path\n",
    "import matplotlib.pyplot as plt\n",
    "import seaborn as sns\n",
    "from sklearn.model_selection import train_test_split\n",
    "from sklearn.preprocessing import StandardScaler, LabelEncoder\n",
    "from sklearn.metrics import precision_score, recall_score, f1_score\n",
    "from sklearn.model_selection import cross_val_predict, cross_val_score\n",
    "from sklearn.metrics import confusion_matrix, classification_report\n",
    "from sklearn.metrics import roc_curve, auc\n",
    "from sklearn.linear_model import LogisticRegression\n",
    "from sklearn.linear_model import SGDClassifier\n",
    "from sklearn.model_selection import RandomizedSearchCV\n",
    "from sklearn.model_selection import GridSearchCV\n",
    "from sklearn.tree import DecisionTreeClassifier\n",
    "from sklearn.ensemble import RandomForestClassifier\n",
    "from sklearn.ensemble import ExtraTreesClassifier\n",
    "from sklearn.ensemble import AdaBoostClassifier\n",
    "from sklearn.ensemble import GradientBoostingClassifier"
   ]
  },
  {
   "cell_type": "markdown",
   "id": "7c1665cc",
   "metadata": {},
   "source": [
    "## Importing and Reading Data"
   ]
  },
  {
   "cell_type": "code",
   "execution_count": 32,
   "id": "d975890f",
   "metadata": {},
   "outputs": [],
   "source": [
    "#Defining path for oversampling data with nan columns droped\n",
    "path=Path('Resources/Cleaned_data/over_samp_col.csv')"
   ]
  },
  {
   "cell_type": "code",
   "execution_count": 33,
   "id": "a3ccd654",
   "metadata": {},
   "outputs": [
    {
     "data": {
      "text/html": [
       "<div>\n",
       "<style scoped>\n",
       "    .dataframe tbody tr th:only-of-type {\n",
       "        vertical-align: middle;\n",
       "    }\n",
       "\n",
       "    .dataframe tbody tr th {\n",
       "        vertical-align: top;\n",
       "    }\n",
       "\n",
       "    .dataframe thead th {\n",
       "        text-align: right;\n",
       "    }\n",
       "</style>\n",
       "<table border=\"1\" class=\"dataframe\">\n",
       "  <thead>\n",
       "    <tr style=\"text-align: right;\">\n",
       "      <th></th>\n",
       "      <th>name</th>\n",
       "      <th>dob</th>\n",
       "      <th>houseID</th>\n",
       "      <th>houseZip</th>\n",
       "      <th>paymentDate</th>\n",
       "      <th>paymentAmount</th>\n",
       "      <th>rentAmount</th>\n",
       "      <th>age</th>\n",
       "      <th>city</th>\n",
       "      <th>county</th>\n",
       "      <th>state</th>\n",
       "      <th>status</th>\n",
       "    </tr>\n",
       "  </thead>\n",
       "  <tbody>\n",
       "    <tr>\n",
       "      <th>0</th>\n",
       "      <td>Karima Germany</td>\n",
       "      <td>1951-05-23</td>\n",
       "      <td>1192</td>\n",
       "      <td>92154</td>\n",
       "      <td>1</td>\n",
       "      <td>1321.0</td>\n",
       "      <td>1321.0</td>\n",
       "      <td>71</td>\n",
       "      <td>San Diego</td>\n",
       "      <td>San Diego County</td>\n",
       "      <td>CA</td>\n",
       "      <td>low risk</td>\n",
       "    </tr>\n",
       "    <tr>\n",
       "      <th>1</th>\n",
       "      <td>Agustina Spargo</td>\n",
       "      <td>1900-01-01</td>\n",
       "      <td>21</td>\n",
       "      <td>92111</td>\n",
       "      <td>1</td>\n",
       "      <td>2289.0</td>\n",
       "      <td>2289.0</td>\n",
       "      <td>122</td>\n",
       "      <td>San Diego</td>\n",
       "      <td>San Diego County</td>\n",
       "      <td>CA</td>\n",
       "      <td>low risk</td>\n",
       "    </tr>\n",
       "    <tr>\n",
       "      <th>2</th>\n",
       "      <td>Lucilla Broderick</td>\n",
       "      <td>1900-01-01</td>\n",
       "      <td>1474</td>\n",
       "      <td>92159</td>\n",
       "      <td>1</td>\n",
       "      <td>1439.0</td>\n",
       "      <td>1439.0</td>\n",
       "      <td>122</td>\n",
       "      <td>San Diego</td>\n",
       "      <td>San Diego County</td>\n",
       "      <td>CA</td>\n",
       "      <td>low risk</td>\n",
       "    </tr>\n",
       "    <tr>\n",
       "      <th>3</th>\n",
       "      <td>Russ Mchale</td>\n",
       "      <td>1977-04-20</td>\n",
       "      <td>2015</td>\n",
       "      <td>92137</td>\n",
       "      <td>1</td>\n",
       "      <td>1744.0</td>\n",
       "      <td>1744.0</td>\n",
       "      <td>45</td>\n",
       "      <td>San Diego</td>\n",
       "      <td>San Diego County</td>\n",
       "      <td>CA</td>\n",
       "      <td>low risk</td>\n",
       "    </tr>\n",
       "    <tr>\n",
       "      <th>4</th>\n",
       "      <td>Carmelita Ritzer</td>\n",
       "      <td>1969-03-09</td>\n",
       "      <td>311</td>\n",
       "      <td>92136</td>\n",
       "      <td>1</td>\n",
       "      <td>1471.0</td>\n",
       "      <td>1471.0</td>\n",
       "      <td>53</td>\n",
       "      <td>San Diego</td>\n",
       "      <td>San Diego County</td>\n",
       "      <td>CA</td>\n",
       "      <td>low risk</td>\n",
       "    </tr>\n",
       "  </tbody>\n",
       "</table>\n",
       "</div>"
      ],
      "text/plain": [
       "                name         dob  houseID  houseZip  paymentDate  \\\n",
       "0     Karima Germany  1951-05-23     1192     92154            1   \n",
       "1    Agustina Spargo  1900-01-01       21     92111            1   \n",
       "2  Lucilla Broderick  1900-01-01     1474     92159            1   \n",
       "3        Russ Mchale  1977-04-20     2015     92137            1   \n",
       "4   Carmelita Ritzer  1969-03-09      311     92136            1   \n",
       "\n",
       "   paymentAmount  rentAmount  age       city            county state    status  \n",
       "0         1321.0      1321.0   71  San Diego  San Diego County    CA  low risk  \n",
       "1         2289.0      2289.0  122  San Diego  San Diego County    CA  low risk  \n",
       "2         1439.0      1439.0  122  San Diego  San Diego County    CA  low risk  \n",
       "3         1744.0      1744.0   45  San Diego  San Diego County    CA  low risk  \n",
       "4         1471.0      1471.0   53  San Diego  San Diego County    CA  low risk  "
      ]
     },
     "execution_count": 33,
     "metadata": {},
     "output_type": "execute_result"
    }
   ],
   "source": [
    "#importing over sampling dataset\n",
    "df = pd.read_csv(path)\n",
    "#looking the few rows\n",
    "df.head()"
   ]
  },
  {
   "cell_type": "markdown",
   "id": "2c05c2b2",
   "metadata": {},
   "source": [
    "### Status columns is created based on the rent amount and payment amount (See Data_cleaning notebook)"
   ]
  },
  {
   "cell_type": "markdown",
   "id": "71adeeed",
   "metadata": {},
   "source": [
    "### City, county, state, data is added from the  zipcode(See Data_cleaning notebook)"
   ]
  },
  {
   "cell_type": "code",
   "execution_count": 34,
   "id": "1bbba2ff",
   "metadata": {},
   "outputs": [
    {
     "data": {
      "text/plain": [
       "low risk     52640\n",
       "high risk    52640\n",
       "Name: status, dtype: int64"
      ]
     },
     "execution_count": 34,
     "metadata": {},
     "output_type": "execute_result"
    }
   ],
   "source": [
    "# looking the status columns\n",
    "df.status.value_counts()"
   ]
  },
  {
   "cell_type": "markdown",
   "id": "d34bcfae",
   "metadata": {},
   "source": [
    "#### Oversampling technique make both low risk and high risk sample number same"
   ]
  },
  {
   "cell_type": "code",
   "execution_count": null,
   "id": "04609bd6",
   "metadata": {},
   "outputs": [],
   "source": []
  },
  {
   "cell_type": "markdown",
   "id": "09ac5e5d",
   "metadata": {},
   "source": [
    "### Since many has date of birth as 1900-01-01, which is missing date of birth. \n",
    "### Imputing birth date is impossible, selected only rows with date of birth"
   ]
  },
  {
   "cell_type": "code",
   "execution_count": 35,
   "id": "01e37715",
   "metadata": {},
   "outputs": [],
   "source": [
    "# Filtering the age between 1 and 100\n",
    "df=df.loc[(df['age']>1) & (df['age']<110)]"
   ]
  },
  {
   "cell_type": "code",
   "execution_count": 36,
   "id": "11b3fe58",
   "metadata": {},
   "outputs": [
    {
     "data": {
      "text/html": [
       "<div>\n",
       "<style scoped>\n",
       "    .dataframe tbody tr th:only-of-type {\n",
       "        vertical-align: middle;\n",
       "    }\n",
       "\n",
       "    .dataframe tbody tr th {\n",
       "        vertical-align: top;\n",
       "    }\n",
       "\n",
       "    .dataframe thead th {\n",
       "        text-align: right;\n",
       "    }\n",
       "</style>\n",
       "<table border=\"1\" class=\"dataframe\">\n",
       "  <thead>\n",
       "    <tr style=\"text-align: right;\">\n",
       "      <th></th>\n",
       "      <th>name</th>\n",
       "      <th>dob</th>\n",
       "      <th>houseID</th>\n",
       "      <th>houseZip</th>\n",
       "      <th>paymentDate</th>\n",
       "      <th>paymentAmount</th>\n",
       "      <th>rentAmount</th>\n",
       "      <th>age</th>\n",
       "      <th>city</th>\n",
       "      <th>county</th>\n",
       "      <th>state</th>\n",
       "      <th>status</th>\n",
       "    </tr>\n",
       "  </thead>\n",
       "  <tbody>\n",
       "    <tr>\n",
       "      <th>0</th>\n",
       "      <td>Karima Germany</td>\n",
       "      <td>1951-05-23</td>\n",
       "      <td>1192</td>\n",
       "      <td>92154</td>\n",
       "      <td>1</td>\n",
       "      <td>1321.0</td>\n",
       "      <td>1321.0</td>\n",
       "      <td>71</td>\n",
       "      <td>San Diego</td>\n",
       "      <td>San Diego County</td>\n",
       "      <td>CA</td>\n",
       "      <td>low risk</td>\n",
       "    </tr>\n",
       "    <tr>\n",
       "      <th>3</th>\n",
       "      <td>Russ Mchale</td>\n",
       "      <td>1977-04-20</td>\n",
       "      <td>2015</td>\n",
       "      <td>92137</td>\n",
       "      <td>1</td>\n",
       "      <td>1744.0</td>\n",
       "      <td>1744.0</td>\n",
       "      <td>45</td>\n",
       "      <td>San Diego</td>\n",
       "      <td>San Diego County</td>\n",
       "      <td>CA</td>\n",
       "      <td>low risk</td>\n",
       "    </tr>\n",
       "    <tr>\n",
       "      <th>4</th>\n",
       "      <td>Carmelita Ritzer</td>\n",
       "      <td>1969-03-09</td>\n",
       "      <td>311</td>\n",
       "      <td>92136</td>\n",
       "      <td>1</td>\n",
       "      <td>1471.0</td>\n",
       "      <td>1471.0</td>\n",
       "      <td>53</td>\n",
       "      <td>San Diego</td>\n",
       "      <td>San Diego County</td>\n",
       "      <td>CA</td>\n",
       "      <td>low risk</td>\n",
       "    </tr>\n",
       "    <tr>\n",
       "      <th>5</th>\n",
       "      <td>Clifton Ellwood</td>\n",
       "      <td>1993-11-02</td>\n",
       "      <td>430</td>\n",
       "      <td>92103</td>\n",
       "      <td>1</td>\n",
       "      <td>1233.0</td>\n",
       "      <td>1233.0</td>\n",
       "      <td>29</td>\n",
       "      <td>San Diego</td>\n",
       "      <td>San Diego County</td>\n",
       "      <td>CA</td>\n",
       "      <td>low risk</td>\n",
       "    </tr>\n",
       "    <tr>\n",
       "      <th>8</th>\n",
       "      <td>Lashawn Rotella</td>\n",
       "      <td>1985-12-05</td>\n",
       "      <td>1336</td>\n",
       "      <td>92190</td>\n",
       "      <td>1</td>\n",
       "      <td>1930.0</td>\n",
       "      <td>1930.0</td>\n",
       "      <td>37</td>\n",
       "      <td>San Diego</td>\n",
       "      <td>San Diego County</td>\n",
       "      <td>CA</td>\n",
       "      <td>low risk</td>\n",
       "    </tr>\n",
       "  </tbody>\n",
       "</table>\n",
       "</div>"
      ],
      "text/plain": [
       "               name         dob  houseID  houseZip  paymentDate  \\\n",
       "0    Karima Germany  1951-05-23     1192     92154            1   \n",
       "3       Russ Mchale  1977-04-20     2015     92137            1   \n",
       "4  Carmelita Ritzer  1969-03-09      311     92136            1   \n",
       "5   Clifton Ellwood  1993-11-02      430     92103            1   \n",
       "8   Lashawn Rotella  1985-12-05     1336     92190            1   \n",
       "\n",
       "   paymentAmount  rentAmount  age       city            county state    status  \n",
       "0         1321.0      1321.0   71  San Diego  San Diego County    CA  low risk  \n",
       "3         1744.0      1744.0   45  San Diego  San Diego County    CA  low risk  \n",
       "4         1471.0      1471.0   53  San Diego  San Diego County    CA  low risk  \n",
       "5         1233.0      1233.0   29  San Diego  San Diego County    CA  low risk  \n",
       "8         1930.0      1930.0   37  San Diego  San Diego County    CA  low risk  "
      ]
     },
     "execution_count": 36,
     "metadata": {},
     "output_type": "execute_result"
    }
   ],
   "source": [
    "#looking the few rows\n",
    "df.head()"
   ]
  },
  {
   "cell_type": "code",
   "execution_count": 37,
   "id": "9c0026cd",
   "metadata": {},
   "outputs": [
    {
     "data": {
      "text/plain": [
       "low risk     26335\n",
       "high risk    25670\n",
       "Name: status, dtype: int64"
      ]
     },
     "execution_count": 37,
     "metadata": {},
     "output_type": "execute_result"
    }
   ],
   "source": [
    "# looking the status columns after dropping nan date of birth\n",
    "df[\"status\"].value_counts()"
   ]
  },
  {
   "cell_type": "code",
   "execution_count": 38,
   "id": "c2383339",
   "metadata": {},
   "outputs": [
    {
     "data": {
      "text/plain": [
       "(52005, 12)"
      ]
     },
     "execution_count": 38,
     "metadata": {},
     "output_type": "execute_result"
    }
   ],
   "source": [
    "#shape of dataframe\n",
    "df.shape"
   ]
  },
  {
   "cell_type": "code",
   "execution_count": 39,
   "id": "50daca88",
   "metadata": {},
   "outputs": [
    {
     "data": {
      "text/plain": [
       "Index(['name', 'dob', 'houseID', 'houseZip', 'paymentDate', 'paymentAmount',\n",
       "       'rentAmount', 'age', 'city', 'county', 'state', 'status'],\n",
       "      dtype='object')"
      ]
     },
     "execution_count": 39,
     "metadata": {},
     "output_type": "execute_result"
    }
   ],
   "source": [
    "#Columns of the dataframe\n",
    "df.columns"
   ]
  },
  {
   "cell_type": "markdown",
   "id": "afc8a6b1",
   "metadata": {},
   "source": [
    "## Making Feature Matrix and Target Vector"
   ]
  },
  {
   "cell_type": "code",
   "execution_count": 116,
   "id": "995efd52",
   "metadata": {},
   "outputs": [],
   "source": [
    "# Only selecting important columns for machine learning\n",
    "rent_df=df[['houseZip', 'paymentDate', 'paymentAmount','rentAmount', 'age', 'status']]"
   ]
  },
  {
   "cell_type": "code",
   "execution_count": 117,
   "id": "e49284c2",
   "metadata": {},
   "outputs": [],
   "source": [
    "# Creating feature matrix (X) by selecting all columns except 'status'\n",
    "X=rent_df.drop('status', axis=1) \n",
    "\n",
    "# Creating response vector (y) by selecting 'status' column and converting to numpy\n",
    "y=rent_df['status'].values "
   ]
  },
  {
   "cell_type": "code",
   "execution_count": 118,
   "id": "b61f9a3c",
   "metadata": {},
   "outputs": [
    {
     "data": {
      "text/html": [
       "<div>\n",
       "<style scoped>\n",
       "    .dataframe tbody tr th:only-of-type {\n",
       "        vertical-align: middle;\n",
       "    }\n",
       "\n",
       "    .dataframe tbody tr th {\n",
       "        vertical-align: top;\n",
       "    }\n",
       "\n",
       "    .dataframe thead th {\n",
       "        text-align: right;\n",
       "    }\n",
       "</style>\n",
       "<table border=\"1\" class=\"dataframe\">\n",
       "  <thead>\n",
       "    <tr style=\"text-align: right;\">\n",
       "      <th></th>\n",
       "      <th>houseZip</th>\n",
       "      <th>paymentDate</th>\n",
       "      <th>paymentAmount</th>\n",
       "      <th>rentAmount</th>\n",
       "      <th>age</th>\n",
       "    </tr>\n",
       "  </thead>\n",
       "  <tbody>\n",
       "    <tr>\n",
       "      <th>0</th>\n",
       "      <td>92154</td>\n",
       "      <td>1</td>\n",
       "      <td>1321.0</td>\n",
       "      <td>1321.0</td>\n",
       "      <td>71</td>\n",
       "    </tr>\n",
       "    <tr>\n",
       "      <th>3</th>\n",
       "      <td>92137</td>\n",
       "      <td>1</td>\n",
       "      <td>1744.0</td>\n",
       "      <td>1744.0</td>\n",
       "      <td>45</td>\n",
       "    </tr>\n",
       "    <tr>\n",
       "      <th>4</th>\n",
       "      <td>92136</td>\n",
       "      <td>1</td>\n",
       "      <td>1471.0</td>\n",
       "      <td>1471.0</td>\n",
       "      <td>53</td>\n",
       "    </tr>\n",
       "    <tr>\n",
       "      <th>5</th>\n",
       "      <td>92103</td>\n",
       "      <td>1</td>\n",
       "      <td>1233.0</td>\n",
       "      <td>1233.0</td>\n",
       "      <td>29</td>\n",
       "    </tr>\n",
       "    <tr>\n",
       "      <th>8</th>\n",
       "      <td>92190</td>\n",
       "      <td>1</td>\n",
       "      <td>1930.0</td>\n",
       "      <td>1930.0</td>\n",
       "      <td>37</td>\n",
       "    </tr>\n",
       "  </tbody>\n",
       "</table>\n",
       "</div>"
      ],
      "text/plain": [
       "   houseZip  paymentDate  paymentAmount  rentAmount  age\n",
       "0     92154            1         1321.0      1321.0   71\n",
       "3     92137            1         1744.0      1744.0   45\n",
       "4     92136            1         1471.0      1471.0   53\n",
       "5     92103            1         1233.0      1233.0   29\n",
       "8     92190            1         1930.0      1930.0   37"
      ]
     },
     "execution_count": 118,
     "metadata": {},
     "output_type": "execute_result"
    }
   ],
   "source": [
    "#looking the few rows of X datafrmae\n",
    "X.head()"
   ]
  },
  {
   "cell_type": "markdown",
   "id": "3056edad",
   "metadata": {},
   "source": [
    "## Converting the Categorical Data to Binary\n",
    "### Zipcode is converted to binary"
   ]
  },
  {
   "cell_type": "code",
   "execution_count": 119,
   "id": "59d2e7b7",
   "metadata": {},
   "outputs": [
    {
     "data": {
      "text/plain": [
       "Index(['paymentDate', 'paymentAmount', 'rentAmount', 'age', 'houseZip_92101',\n",
       "       'houseZip_92102', 'houseZip_92103', 'houseZip_92104', 'houseZip_92105',\n",
       "       'houseZip_92106', 'houseZip_92107', 'houseZip_92108', 'houseZip_92109',\n",
       "       'houseZip_92110', 'houseZip_92111', 'houseZip_92112', 'houseZip_92113',\n",
       "       'houseZip_92114', 'houseZip_92115', 'houseZip_92116', 'houseZip_92117',\n",
       "       'houseZip_92119', 'houseZip_92120', 'houseZip_92121', 'houseZip_92122',\n",
       "       'houseZip_92123', 'houseZip_92124', 'houseZip_92126', 'houseZip_92127',\n",
       "       'houseZip_92128', 'houseZip_92129', 'houseZip_92130', 'houseZip_92131',\n",
       "       'houseZip_92132', 'houseZip_92133', 'houseZip_92134', 'houseZip_92135',\n",
       "       'houseZip_92136', 'houseZip_92137', 'houseZip_92138', 'houseZip_92139',\n",
       "       'houseZip_92140', 'houseZip_92142', 'houseZip_92145', 'houseZip_92147',\n",
       "       'houseZip_92149', 'houseZip_92150', 'houseZip_92152', 'houseZip_92153',\n",
       "       'houseZip_92154', 'houseZip_92155', 'houseZip_92158', 'houseZip_92159',\n",
       "       'houseZip_92160', 'houseZip_92161', 'houseZip_92162', 'houseZip_92163',\n",
       "       'houseZip_92164', 'houseZip_92165', 'houseZip_92166', 'houseZip_92167',\n",
       "       'houseZip_92168', 'houseZip_92169', 'houseZip_92170', 'houseZip_92171',\n",
       "       'houseZip_92172', 'houseZip_92174', 'houseZip_92175', 'houseZip_92176',\n",
       "       'houseZip_92177', 'houseZip_92179', 'houseZip_92182', 'houseZip_92184',\n",
       "       'houseZip_92186', 'houseZip_92187', 'houseZip_92190', 'houseZip_92191',\n",
       "       'houseZip_92192', 'houseZip_92193', 'houseZip_92194', 'houseZip_92195',\n",
       "       'houseZip_92196', 'houseZip_92197', 'houseZip_92198', 'houseZip_92199'],\n",
       "      dtype='object')"
      ]
     },
     "execution_count": 119,
     "metadata": {},
     "output_type": "execute_result"
    }
   ],
   "source": [
    "# Using pd.get_dummies to the zipcode \n",
    "X_dummies = pd.get_dummies(X, columns = ['houseZip'])\n",
    "\n",
    "# Columns of X after dummies\n",
    "X_dummies.columns\n"
   ]
  },
  {
   "cell_type": "code",
   "execution_count": 44,
   "id": "d10fe314",
   "metadata": {},
   "outputs": [
    {
     "name": "stdout",
     "output_type": "stream",
     "text": [
      "Total column before: 5\n",
      "Total columns after: 85\n"
     ]
    }
   ],
   "source": [
    "#Total columns before and after get_dummies\n",
    "print(f'Total column before: {X.shape[1]}\\nTotal columns after: {X_dummies.shape[1]}')"
   ]
  },
  {
   "cell_type": "code",
   "execution_count": 120,
   "id": "8cad73c0",
   "metadata": {},
   "outputs": [
    {
     "data": {
      "text/plain": [
       "array([1, 1, 1, ..., 0, 0, 0])"
      ]
     },
     "execution_count": 120,
     "metadata": {},
     "output_type": "execute_result"
    }
   ],
   "source": [
    "# Converting output labels to 0 and 1\n",
    "y_label = LabelEncoder().fit_transform(y)\n",
    "y_label"
   ]
  },
  {
   "cell_type": "markdown",
   "id": "072bb226",
   "metadata": {},
   "source": [
    "## Spliting Data for Training Set and Testing Set\n",
    "###  Training set: Used to train the classifier. (80 percent of the data)\n",
    "###  Testing set: Used to estimate the error rate of the trained classifier. (20 percent of data)"
   ]
  },
  {
   "cell_type": "code",
   "execution_count": 121,
   "id": "34d235fb",
   "metadata": {},
   "outputs": [],
   "source": [
    "# Split using train test split \n",
    "X_train, X_test, y_train, y_test = train_test_split(X_dummies, y_label,stratify=y, random_state=42)"
   ]
  },
  {
   "cell_type": "markdown",
   "id": "ec80ca81",
   "metadata": {},
   "source": [
    "## Scaling the Data to the Same Scale"
   ]
  },
  {
   "cell_type": "code",
   "execution_count": 122,
   "id": "750601f9",
   "metadata": {},
   "outputs": [],
   "source": [
    "# Using StandardScalr from scikit-lean for scaling the data\n",
    "scaler = StandardScaler().fit(X_train)"
   ]
  },
  {
   "cell_type": "code",
   "execution_count": 123,
   "id": "6559333b",
   "metadata": {},
   "outputs": [
    {
     "data": {
      "text/plain": [
       "array([[ 0.63906686, -3.17511235, -1.10547531, ..., -0.09488265,\n",
       "        -0.09945347, -0.09692476],\n",
       "       [ 0.63906686,  0.40932804,  0.73073554, ..., -0.09488265,\n",
       "        -0.09945347, -0.09692476],\n",
       "       [-1.56478149,  0.31821575, -0.11674639, ..., -0.09488265,\n",
       "        -0.09945347, -0.09692476],\n",
       "       ...,\n",
       "       [-1.56478149,  0.14634483, -0.34787782, ..., -0.09488265,\n",
       "        -0.09945347, -0.09692476],\n",
       "       [ 0.63906686, -0.06279929, -0.43776227, ..., -0.09488265,\n",
       "        -0.09945347, -0.09692476],\n",
       "       [ 0.63906686, -0.3382069 , -0.42813179, ..., -0.09488265,\n",
       "        -0.09945347, -0.09692476]])"
      ]
     },
     "execution_count": 123,
     "metadata": {},
     "output_type": "execute_result"
    }
   ],
   "source": [
    "# Scaling the X data by using StandardScaler()\n",
    "X_train_scaled = scaler.transform(X_train)\n",
    "X_train_scaled"
   ]
  },
  {
   "cell_type": "code",
   "execution_count": 124,
   "id": "61067425",
   "metadata": {},
   "outputs": [
    {
     "data": {
      "text/plain": [
       "array([[ 0.63906686,  0.24159859,  0.47071268, ..., -0.09488265,\n",
       "        -0.09945347, -0.09692476],\n",
       "       [ 0.63906686,  1.21691426,  0.62159014, ..., -0.09488265,\n",
       "        -0.09945347, -0.09692476],\n",
       "       [-1.56478149, -0.47487534, -1.18572928, ..., -0.09488265,\n",
       "        -0.09945347, -0.09692476],\n",
       "       ...,\n",
       "       [ 0.63906686, -0.52664369, -0.72025625, ..., -0.09488265,\n",
       "        -0.09945347, -0.09692476],\n",
       "       [ 0.63906686, -0.71508047, -1.35907785, ..., -0.09488265,\n",
       "        -0.09945347, -0.09692476],\n",
       "       [ 0.63906686,  1.32045096,  1.51080413, ..., -0.09488265,\n",
       "        -0.09945347, -0.09692476]])"
      ]
     },
     "execution_count": 124,
     "metadata": {},
     "output_type": "execute_result"
    }
   ],
   "source": [
    "# Transforming the test dataset \n",
    "X_test_scaled = scaler.transform(X_test)\n",
    "X_test_scaled"
   ]
  },
  {
   "cell_type": "markdown",
   "id": "1bce2cf8",
   "metadata": {},
   "source": [
    "## Making Function to Calculate Model accuracy \n",
    "### Function that use only training set (Want to use test set only at the end)\n",
    "### Function that use both traingin set and testing set ( Only used at the last of ml section)"
   ]
  },
  {
   "cell_type": "code",
   "execution_count": 125,
   "id": "cffaafdf",
   "metadata": {},
   "outputs": [],
   "source": [
    "#defining function for model scoring with training set only\n",
    "def training_score(model, X_train_scaled=X_train_scaled, y_train=y_train):\n",
    "    #Printing the accuracy score\n",
    "    train_score=model.score(X_train_scaled, y_train)\n",
    "    print(f'The training score of {model} model is: {train_score}')\n",
    "    print()\n",
    "    print()\n",
    "    # Using cross validation \n",
    "    cvs=cross_val_score(model,X_train_scaled, y_train,cv=5, scoring='accuracy' )\n",
    "    print(f'Using k=5 cross validation the accuracy is: {cvs}')\n",
    "    print(f'Using k=5 cross validation the mean accuracy is: {np.mean(cvs)}')\n",
    "    print()\n",
    "    print()\n",
    "    #predection on the test set and confusion matrix\n",
    "    y_train_pred=cross_val_predict(model,X_train_scaled, y_train,cv=3)\n",
    "    cm=confusion_matrix(y_train, y_train_pred)\n",
    "    print(f'Confusion Matrix using Cross validation predict is:\\n {cm}')\n",
    "    print()\n",
    "    print()\n",
    "    #classification report\n",
    "    cr=classification_report(y_train, y_train_pred)\n",
    "    print(f'Classification report is:\\n {cr}')\n",
    "    print()\n",
    "    print()\n",
    "    #Roc curve\n",
    "    y_train_predc=cross_val_predict(model,X_train_scaled, y_train,cv=5,method=\"predict_proba\")\n",
    "    y_proba = y_train_predc[:,1]  #proba of positive class\n",
    "    fpr, tpr, thresholds = roc_curve(y_train, y_proba)\n",
    "    # Plotting the roc curve\n",
    "    plt.figure()\n",
    "    plt.plot(fpr, tpr, color='darkorange')\n",
    "    plt.plot([0, 1], [0, 1], color='navy', linestyle='--')\n",
    "    plt.xlim([0.0, 1.0])\n",
    "    plt.ylim([0.0, 1.05])\n",
    "    plt.xlabel('False Positive Rate')\n",
    "    plt.ylabel('True Positive Rate')\n",
    "    plt.title(f\"roc curve for {model}\")\n",
    "    print(f\"The ROC Curve using {model} model\")\n",
    "    plt.show()\n",
    "    print()\n",
    "    # Area under the curve (AUC)\n",
    "    roc_auc = auc(fpr, tpr)\n",
    "    print(f'The are under the curve is: {roc_auc}')\n"
   ]
  },
  {
   "cell_type": "code",
   "execution_count": 126,
   "id": "11e8948b",
   "metadata": {},
   "outputs": [],
   "source": [
    "#defining function for model scoring with test set\n",
    "def train_test_score(model, X_train_scaled=X_train_scaled, X_test_scaled=X_test_scaled, \n",
    "               y_train=y_train,y_test=y_test):\n",
    "    #Accuracy score\n",
    "    train_score=model.score(X_train_scaled, y_train)\n",
    "    test_score=model.score(X_test_scaled, y_test)\n",
    "    print(f'The training score of {model} model is: {train_score}')\n",
    "    print(f'The testing score of {model} model is: {test_score}')\n",
    "    print()\n",
    "    print()\n",
    "    #Confusion matrix\n",
    "    y_pred=model.predict(X_test_scaled)\n",
    "    cm=confusion_matrix(y_test, y_pred)\n",
    "    print(f'Confusion Matrix by predicting using test data is:\\n {cm}')\n",
    "    print()\n",
    "    print()\n",
    "    #classification report\n",
    "    cr=classification_report(y_test, y_pred)\n",
    "    print(f'Classification report is:\\n {cr}')\n",
    "    print()\n",
    "    print()\n",
    "    #roc curve\n",
    "    y_proba = model.predict_proba(X_test_scaled)[:,1]  #proba of positive class\n",
    "    fpr, tpr, thresholds = roc_curve(y_test, y_proba)\n",
    "    plt.figure()\n",
    "    plt.plot(fpr, tpr, color='darkorange')\n",
    "    plt.plot([0, 1], [0, 1], color='navy', linestyle='--')\n",
    "    plt.xlim([0.0, 1.0])\n",
    "    plt.ylim([0.0, 1.05])\n",
    "    plt.xlabel('False Positive Rate')\n",
    "    plt.ylabel('True Positive Rate')\n",
    "    plt.title(f\"roc curve for {model}\")\n",
    "    print(f\"The ROC Curve using {model} model\")\n",
    "    plt.show()\n",
    "    # Area under the curve (AUC)\n",
    "    roc_auc = auc(fpr, tpr)\n",
    "    roc_auc\n",
    "    print()\n",
    "    print(f'The are under the curve is: {roc_auc}')"
   ]
  },
  {
   "cell_type": "code",
   "execution_count": 127,
   "id": "2db9bd25",
   "metadata": {},
   "outputs": [],
   "source": [
    "#defining function for model scoring \n",
    "def model_score(model, X_train_scaled=X_train_scaled, X_test_scaled=X_test_scaled, \n",
    "               y_train=y_train,y_test=y_test):\n",
    "    #training score\n",
    "    train_score=model.score(X_train_scaled, y_train)\n",
    "    #testing score\n",
    "    test_score=model.score(X_test_scaled, y_test)\n",
    "    #prediction on test data\n",
    "    y_pred=model.predict(X_test_scaled)\n",
    "    #Precission score\n",
    "    Precision_score=precision_score(y_test, y_pred)\n",
    "    #Recall\n",
    "    Recall_score=recall_score(y_test, y_pred)\n",
    "    #f1-score\n",
    "    F1_score=f1_score(y_test, y_pred)\n",
    "    #Area under the curve\n",
    "    y_proba = model.predict_proba(X_test_scaled)[:,1]  #proba of positive class\n",
    "    fpr, tpr, thresholds = roc_curve(y_test, y_proba)\n",
    "    \n",
    "    roc_auc = auc(fpr, tpr)\n",
    "    result=[train_score, test_score, Precision_score, Recall_score,F1_score, roc_auc ]\n",
    "    return result"
   ]
  },
  {
   "cell_type": "markdown",
   "id": "55064dc1",
   "metadata": {},
   "source": [
    "## Different Classification Models are Used to Predict the Rental Behaviour:\n",
    "### 1. Logistic Regression\n",
    "### 2. Stochastic Gradent Descent Classifier\n",
    "### 3. Decision Tree Classifier\n",
    "### 4. Random Forest Classifier\n",
    "### 5. Extremely Random Trees Classifier\n",
    "### 6. Ada Boost Classifier\n",
    "### 7. Gradient Boosting Classifier"
   ]
  },
  {
   "cell_type": "code",
   "execution_count": null,
   "id": "5aff1392",
   "metadata": {},
   "outputs": [],
   "source": []
  },
  {
   "cell_type": "markdown",
   "id": "5c8165cd",
   "metadata": {},
   "source": [
    "## Hyperparamater are Tuned Using:\n",
    "### 1. Grid Search CV\n",
    "### 2. Randomized Search CV"
   ]
  },
  {
   "cell_type": "code",
   "execution_count": null,
   "id": "96986ce4",
   "metadata": {},
   "outputs": [],
   "source": []
  },
  {
   "cell_type": "markdown",
   "id": "0a72c485",
   "metadata": {},
   "source": [
    "#  Logistic Regression"
   ]
  },
  {
   "cell_type": "code",
   "execution_count": 128,
   "id": "f69469e6",
   "metadata": {},
   "outputs": [
    {
     "data": {
      "text/plain": [
       "LogisticRegression()"
      ]
     },
     "execution_count": 128,
     "metadata": {},
     "output_type": "execute_result"
    }
   ],
   "source": [
    "# Creating a Logistic Regression model \n",
    "lr= LogisticRegression()\n",
    "\n",
    "# Fitting the model to the data\n",
    "lr.fit(X_train_scaled, y_train)"
   ]
  },
  {
   "cell_type": "code",
   "execution_count": 129,
   "id": "8197bb25",
   "metadata": {},
   "outputs": [
    {
     "name": "stdout",
     "output_type": "stream",
     "text": [
      "The training score of LogisticRegression() model is: 0.8022203420249724\n",
      "\n",
      "\n",
      "Using k=5 cross validation the accuracy is: [0.80592232 0.79861556 0.79964107 0.79871795 0.79602564]\n",
      "Using k=5 cross validation the mean accuracy is: 0.7997845082320149\n",
      "\n",
      "\n",
      "Confusion Matrix using Cross validation predict is:\n",
      " [[11732  7520]\n",
      " [  332 19419]]\n",
      "\n",
      "\n",
      "Classification report is:\n",
      "               precision    recall  f1-score   support\n",
      "\n",
      "           0       0.97      0.61      0.75     19252\n",
      "           1       0.72      0.98      0.83     19751\n",
      "\n",
      "    accuracy                           0.80     39003\n",
      "   macro avg       0.85      0.80      0.79     39003\n",
      "weighted avg       0.85      0.80      0.79     39003\n",
      "\n",
      "\n",
      "\n",
      "The ROC Curve using LogisticRegression() model\n"
     ]
    },
    {
     "data": {
      "image/png": "[encoded data removed]",
      "text/plain": [
       "<Figure size 432x288 with 1 Axes>"
      ]
     },
     "metadata": {
      "needs_background": "light"
     },
     "output_type": "display_data"
    },
    {
     "name": "stdout",
     "output_type": "stream",
     "text": [
      "\n",
      "The are under the curve is: 0.8503276503038352\n"
     ]
    }
   ],
   "source": [
    "#Score for logistic regression using only training data (Using the defined function training_score)\n",
    "training_score(lr)"
   ]
  },
  {
   "cell_type": "markdown",
   "id": "9c53eba3",
   "metadata": {},
   "source": [
    "## Tuning hyperparamaters using Grid Search CV for Logistic Regresssion"
   ]
  },
  {
   "cell_type": "code",
   "execution_count": 55,
   "id": "0de49aa8",
   "metadata": {},
   "outputs": [],
   "source": [
    "# Using GridSearchCV\n",
    "paramater_lr = {'C': [0.001, 0.01,0.1,1, 5, 10],\n",
    "                 'solver':['lbfgs','saga','liblinear' ],\n",
    "                 'penalty': [ 'l2'],\n",
    "                'max_iter':[100,500,1000, 10000]}\n",
    "gridsearch_lr = GridSearchCV(lr, paramater_lr, cv=5, verbose=1, n_jobs=-1)"
   ]
  },
  {
   "cell_type": "code",
   "execution_count": 56,
   "id": "069a7a51",
   "metadata": {},
   "outputs": [
    {
     "name": "stdout",
     "output_type": "stream",
     "text": [
      "Fitting 5 folds for each of 72 candidates, totalling 360 fits\n"
     ]
    },
    {
     "data": {
      "text/plain": [
       "GridSearchCV(cv=5, estimator=LogisticRegression(), n_jobs=-1,\n",
       "             param_grid={'C': [0.001, 0.01, 0.1, 1, 5, 10],\n",
       "                         'max_iter': [100, 500, 1000, 10000], 'penalty': ['l2'],\n",
       "                         'solver': ['lbfgs', 'saga', 'liblinear']},\n",
       "             verbose=1)"
      ]
     },
     "execution_count": 56,
     "metadata": {},
     "output_type": "execute_result"
    }
   ],
   "source": [
    "#Fitting the logistic regression\n",
    "gridsearch_lr.fit(X_train_scaled, y_train)"
   ]
  },
  {
   "cell_type": "code",
   "execution_count": 57,
   "id": "110f5d46",
   "metadata": {},
   "outputs": [
    {
     "name": "stdout",
     "output_type": "stream",
     "text": [
      "Best paramaters are:\n",
      "{'C': 0.1, 'max_iter': 100, 'penalty': 'l2', 'solver': 'lbfgs'}\n",
      "Best score is: 0.799963972403275\n"
     ]
    }
   ],
   "source": [
    "# Best parameters for this dataset\n",
    "print(f'Best paramaters are:\\n{gridsearch_lr.best_params_}')\n",
    "# best score\n",
    "print(f'Best score is: {gridsearch_lr.best_score_}')"
   ]
  },
  {
   "cell_type": "code",
   "execution_count": 58,
   "id": "e3d7a151",
   "metadata": {},
   "outputs": [
    {
     "name": "stdout",
     "output_type": "stream",
     "text": [
      "The training score of LogisticRegression(C=0.1) model is: 0.8016050047432248\n",
      "\n",
      "\n",
      "Using k=5 cross validation the accuracy is: [0.80579413 0.79861556 0.80066658 0.79871795 0.79602564]\n",
      "Using k=5 cross validation the mean accuracy is: 0.799963972403275\n",
      "\n",
      "\n",
      "Confusion Matrix using Cross validation predict is:\n",
      " [[11721  7531]\n",
      " [  326 19425]]\n",
      "\n",
      "\n",
      "Classification report is:\n",
      "               precision    recall  f1-score   support\n",
      "\n",
      "           0       0.97      0.61      0.75     19252\n",
      "           1       0.72      0.98      0.83     19751\n",
      "\n",
      "    accuracy                           0.80     39003\n",
      "   macro avg       0.85      0.80      0.79     39003\n",
      "weighted avg       0.85      0.80      0.79     39003\n",
      "\n",
      "\n",
      "\n",
      "The ROC Curve using LogisticRegression(C=0.1) model\n"
     ]
    },
    {
     "data": {
      "image/png": "[encoded data removed]",
      "text/plain": [
       "<Figure size 432x288 with 1 Axes>"
      ]
     },
     "metadata": {
      "needs_background": "light"
     },
     "output_type": "display_data"
    },
    {
     "name": "stdout",
     "output_type": "stream",
     "text": [
      "\n",
      "The are under the curve is: 0.8503781649371787\n"
     ]
    }
   ],
   "source": [
    "#Defining best estimator\n",
    "lr_b=gridsearch_lr.best_estimator_\n",
    "#Score for logistic regression after hyperparamater tuining\n",
    "training_score(lr_b)"
   ]
  },
  {
   "cell_type": "code",
   "execution_count": null,
   "id": "0ab77cb5",
   "metadata": {},
   "outputs": [],
   "source": []
  },
  {
   "cell_type": "markdown",
   "id": "3fe159c8",
   "metadata": {},
   "source": [
    "## Stochastic Gradent Descent Classifier"
   ]
  },
  {
   "cell_type": "code",
   "execution_count": 59,
   "id": "f57c0892",
   "metadata": {},
   "outputs": [
    {
     "data": {
      "text/plain": [
       "SGDClassifier(loss='log', random_state=42)"
      ]
     },
     "execution_count": 59,
     "metadata": {},
     "output_type": "execute_result"
    }
   ],
   "source": [
    "# Creating a sgd classifier model \n",
    "sgdc=SGDClassifier(random_state=42, loss='log', penalty='l2')\n",
    "\n",
    "# Fit the model to the data\n",
    "sgdc.fit(X_train_scaled, y_train)"
   ]
  },
  {
   "cell_type": "code",
   "execution_count": 60,
   "id": "a7967073",
   "metadata": {},
   "outputs": [
    {
     "name": "stdout",
     "output_type": "stream",
     "text": [
      "The training score of SGDClassifier(loss='log', random_state=42) model is: 0.7836063892521088\n",
      "\n",
      "\n",
      "Using k=5 cross validation the accuracy is: [0.80066658 0.78784771 0.7675939  0.7875641  0.78935897]\n",
      "Using k=5 cross validation the mean accuracy is: 0.7866062536361217\n",
      "\n",
      "\n",
      "Confusion Matrix using Cross validation predict is:\n",
      " [[12472  6780]\n",
      " [ 1686 18065]]\n",
      "\n",
      "\n",
      "Classification report is:\n",
      "               precision    recall  f1-score   support\n",
      "\n",
      "           0       0.88      0.65      0.75     19252\n",
      "           1       0.73      0.91      0.81     19751\n",
      "\n",
      "    accuracy                           0.78     39003\n",
      "   macro avg       0.80      0.78      0.78     39003\n",
      "weighted avg       0.80      0.78      0.78     39003\n",
      "\n",
      "\n",
      "\n",
      "The ROC Curve using SGDClassifier(loss='log', random_state=42) model\n"
     ]
    },
    {
     "data": {
      "image/png": "[encoded data removed]",
      "text/plain": [
       "<Figure size 432x288 with 1 Axes>"
      ]
     },
     "metadata": {
      "needs_background": "light"
     },
     "output_type": "display_data"
    },
    {
     "name": "stdout",
     "output_type": "stream",
     "text": [
      "\n",
      "The are under the curve is: 0.8352031593463279\n"
     ]
    }
   ],
   "source": [
    "#Score for logistic regression using only training data\n",
    "training_score(sgdc)"
   ]
  },
  {
   "cell_type": "markdown",
   "id": "a223f5ff",
   "metadata": {},
   "source": [
    "### Tuning hyperparamatersfor Stochastic Gradent Descent Classifier"
   ]
  },
  {
   "cell_type": "code",
   "execution_count": 61,
   "id": "ee46ef22",
   "metadata": {},
   "outputs": [],
   "source": [
    "# Using GridSearchCV\n",
    "paramater_sgdc = {'penalty': ['l1','l2'],\n",
    "                 'loss':['log', 'modified_huber'],\n",
    "                 'max_iter':[500,1000, 5000]}\n",
    "gridsearch_sgdc = GridSearchCV(sgdc, paramater_sgdc, cv=5, verbose=1, n_jobs=-1)"
   ]
  },
  {
   "cell_type": "code",
   "execution_count": 62,
   "id": "ca8bb5cb",
   "metadata": {},
   "outputs": [
    {
     "name": "stdout",
     "output_type": "stream",
     "text": [
      "Fitting 5 folds for each of 12 candidates, totalling 60 fits\n"
     ]
    },
    {
     "data": {
      "text/plain": [
       "GridSearchCV(cv=5, estimator=SGDClassifier(loss='log', random_state=42),\n",
       "             n_jobs=-1,\n",
       "             param_grid={'loss': ['log', 'modified_huber'],\n",
       "                         'max_iter': [500, 1000, 5000],\n",
       "                         'penalty': ['l1', 'l2']},\n",
       "             verbose=1)"
      ]
     },
     "execution_count": 62,
     "metadata": {},
     "output_type": "execute_result"
    }
   ],
   "source": [
    "#Fitting after gridsearch\n",
    "gridsearch_sgdc.fit(X_train_scaled, y_train)"
   ]
  },
  {
   "cell_type": "code",
   "execution_count": 63,
   "id": "0ef18b11",
   "metadata": {},
   "outputs": [
    {
     "name": "stdout",
     "output_type": "stream",
     "text": [
      "Best paramaters are:\n",
      "{'loss': 'log', 'max_iter': 500, 'penalty': 'l1'}\n",
      "Best score is: 0.7874775653351478\n",
      "Best estimitar is: SGDClassifier(loss='log', max_iter=500, penalty='l1', random_state=42)\n"
     ]
    }
   ],
   "source": [
    "# Best parameters for this dataset\n",
    "print(f'Best paramaters are:\\n{gridsearch_sgdc.best_params_}')\n",
    "# best score\n",
    "print(f'Best score is: {gridsearch_sgdc.best_score_}')\n",
    "sgdc_b=gridsearch_sgdc.best_estimator_\n",
    "print(f'Best estimitar is: {sgdc_b}')"
   ]
  },
  {
   "cell_type": "code",
   "execution_count": 64,
   "id": "acbbf087",
   "metadata": {},
   "outputs": [
    {
     "name": "stdout",
     "output_type": "stream",
     "text": [
      "The training score of SGDClassifier(loss='log', max_iter=500, penalty='l1', random_state=42) model is: 0.7906058508319873\n",
      "\n",
      "\n",
      "Using k=5 cross validation the accuracy is: [0.79053967 0.7924625  0.79194975 0.78564103 0.77679487]\n",
      "Using k=5 cross validation the mean accuracy is: 0.7874775653351478\n",
      "\n",
      "\n",
      "Confusion Matrix using Cross validation predict is:\n",
      " [[12184  7068]\n",
      " [ 1279 18472]]\n",
      "\n",
      "\n",
      "Classification report is:\n",
      "               precision    recall  f1-score   support\n",
      "\n",
      "           0       0.90      0.63      0.74     19252\n",
      "           1       0.72      0.94      0.82     19751\n",
      "\n",
      "    accuracy                           0.79     39003\n",
      "   macro avg       0.81      0.78      0.78     39003\n",
      "weighted avg       0.81      0.79      0.78     39003\n",
      "\n",
      "\n",
      "\n",
      "The ROC Curve using SGDClassifier(loss='log', max_iter=500, penalty='l1', random_state=42) model\n"
     ]
    },
    {
     "data": {
      "image/png": "[encoded data removed]",
      "text/plain": [
       "<Figure size 432x288 with 1 Axes>"
      ]
     },
     "metadata": {
      "needs_background": "light"
     },
     "output_type": "display_data"
    },
    {
     "name": "stdout",
     "output_type": "stream",
     "text": [
      "\n",
      "The are under the curve is: 0.8365323453602378\n"
     ]
    }
   ],
   "source": [
    "#score for Stochastic Gradent Descent Classifier using training data after hyperparamater tuining\n",
    "training_score(sgdc_b)"
   ]
  },
  {
   "cell_type": "code",
   "execution_count": null,
   "id": "1854c3e1",
   "metadata": {},
   "outputs": [],
   "source": []
  },
  {
   "cell_type": "markdown",
   "id": "c59dad76",
   "metadata": {},
   "source": [
    "# Tree Based Models"
   ]
  },
  {
   "cell_type": "markdown",
   "id": "4a5606cf",
   "metadata": {},
   "source": [
    "##  1. Decision Tree Classifier"
   ]
  },
  {
   "cell_type": "code",
   "execution_count": 65,
   "id": "6bd93ec5",
   "metadata": {},
   "outputs": [
    {
     "data": {
      "text/plain": [
       "DecisionTreeClassifier()"
      ]
     },
     "execution_count": 65,
     "metadata": {},
     "output_type": "execute_result"
    }
   ],
   "source": [
    "# Creating a Decision Tree model \n",
    "dt= DecisionTreeClassifier()\n",
    "\n",
    "# Fitting the model \n",
    "dt.fit(X_train_scaled, y_train)"
   ]
  },
  {
   "cell_type": "code",
   "execution_count": 66,
   "id": "e7657097",
   "metadata": {},
   "outputs": [
    {
     "name": "stdout",
     "output_type": "stream",
     "text": [
      "The training score of DecisionTreeClassifier() model is: 1.0\n",
      "\n",
      "\n",
      "Using k=5 cross validation the accuracy is: [1.         0.99961543 0.99987181 1.         1.        ]\n",
      "Using k=5 cross validation the mean accuracy is: 0.9998974490449942\n",
      "\n",
      "\n",
      "Confusion Matrix using Cross validation predict is:\n",
      " [[19252     0]\n",
      " [    0 19751]]\n",
      "\n",
      "\n",
      "Classification report is:\n",
      "               precision    recall  f1-score   support\n",
      "\n",
      "           0       1.00      1.00      1.00     19252\n",
      "           1       1.00      1.00      1.00     19751\n",
      "\n",
      "    accuracy                           1.00     39003\n",
      "   macro avg       1.00      1.00      1.00     39003\n",
      "weighted avg       1.00      1.00      1.00     39003\n",
      "\n",
      "\n",
      "\n",
      "The ROC Curve using DecisionTreeClassifier() model\n"
     ]
    },
    {
     "data": {
      "image/png": "[encoded data removed]",
      "text/plain": [
       "<Figure size 432x288 with 1 Axes>"
      ]
     },
     "metadata": {
      "needs_background": "light"
     },
     "output_type": "display_data"
    },
    {
     "name": "stdout",
     "output_type": "stream",
     "text": [
      "\n",
      "The are under the curve is: 0.9998967708431219\n"
     ]
    }
   ],
   "source": [
    "#score for Decision Tree model using only training data\n",
    "training_score(dt)"
   ]
  },
  {
   "cell_type": "markdown",
   "id": "1baeb4dd",
   "metadata": {},
   "source": [
    "### Tuning hyperparamaters for Decision Tree"
   ]
  },
  {
   "cell_type": "code",
   "execution_count": 67,
   "id": "48a3f7d4",
   "metadata": {},
   "outputs": [],
   "source": [
    "#### Using GridSearchCV\n",
    "paramater_dt = {'criterion': ['gini','entropy'],\n",
    "                'max_depth':[10,100,1000,1000],\n",
    "                'max_features':['auto','sqrt','log2'],\n",
    "                'min_samples_leaf':[1,5,10,100]}\n",
    "gridsearch_dt = GridSearchCV(dt, paramater_dt, cv=5, verbose=1, n_jobs=-1)"
   ]
  },
  {
   "cell_type": "code",
   "execution_count": 68,
   "id": "e01a4bd5",
   "metadata": {},
   "outputs": [
    {
     "name": "stdout",
     "output_type": "stream",
     "text": [
      "Fitting 5 folds for each of 96 candidates, totalling 480 fits\n"
     ]
    },
    {
     "data": {
      "text/plain": [
       "GridSearchCV(cv=5, estimator=DecisionTreeClassifier(), n_jobs=-1,\n",
       "             param_grid={'criterion': ['gini', 'entropy'],\n",
       "                         'max_depth': [10, 100, 1000, 1000],\n",
       "                         'max_features': ['auto', 'sqrt', 'log2'],\n",
       "                         'min_samples_leaf': [1, 5, 10, 100]},\n",
       "             verbose=1)"
      ]
     },
     "execution_count": 68,
     "metadata": {},
     "output_type": "execute_result"
    }
   ],
   "source": [
    "#Fitting the model after hyperparamater tuinning\n",
    "gridsearch_dt.fit(X_train_scaled, y_train)"
   ]
  },
  {
   "cell_type": "code",
   "execution_count": 69,
   "id": "88ffdac3",
   "metadata": {},
   "outputs": [
    {
     "name": "stdout",
     "output_type": "stream",
     "text": [
      "Best paramaters are:\n",
      "{'criterion': 'gini', 'max_depth': 1000, 'max_features': 'sqrt', 'min_samples_leaf': 1}\n",
      "Best score is: 0.9991026462748037\n",
      "Best estimitar is: DecisionTreeClassifier(max_depth=1000, max_features='sqrt')\n"
     ]
    }
   ],
   "source": [
    "# Best parameters for this dataset\n",
    "print(f'Best paramaters are:\\n{gridsearch_dt.best_params_}')\n",
    "# best score\n",
    "print(f'Best score is: {gridsearch_dt.best_score_}')\n",
    "#best estimator\n",
    "dt_b=gridsearch_dt.best_estimator_\n",
    "print(f'Best estimitar is: {dt_b}')"
   ]
  },
  {
   "cell_type": "code",
   "execution_count": 70,
   "id": "c749dab7",
   "metadata": {},
   "outputs": [
    {
     "name": "stdout",
     "output_type": "stream",
     "text": [
      "The training score of DecisionTreeClassifier(max_depth=1000, max_features='sqrt') model is: 1.0\n",
      "\n",
      "\n",
      "Using k=5 cross validation the accuracy is: [0.99897449 0.99871811 0.99730804 0.99910256 0.99820513]\n",
      "Using k=5 cross validation the mean accuracy is: 0.9984616666502321\n",
      "\n",
      "\n",
      "Confusion Matrix using Cross validation predict is:\n",
      " [[19251     1]\n",
      " [   33 19718]]\n",
      "\n",
      "\n",
      "Classification report is:\n",
      "               precision    recall  f1-score   support\n",
      "\n",
      "           0       1.00      1.00      1.00     19252\n",
      "           1       1.00      1.00      1.00     19751\n",
      "\n",
      "    accuracy                           1.00     39003\n",
      "   macro avg       1.00      1.00      1.00     39003\n",
      "weighted avg       1.00      1.00      1.00     39003\n",
      "\n",
      "\n",
      "\n",
      "The ROC Curve using DecisionTreeClassifier(max_depth=1000, max_features='sqrt') model\n"
     ]
    },
    {
     "data": {
      "image/png": "[encoded data removed]",
      "text/plain": [
       "<Figure size 432x288 with 1 Axes>"
      ]
     },
     "metadata": {
      "needs_background": "light"
     },
     "output_type": "display_data"
    },
    {
     "name": "stdout",
     "output_type": "stream",
     "text": [
      "\n",
      "The are under the curve is: 0.9985771010308341\n"
     ]
    }
   ],
   "source": [
    "#score for decision tree using training data after hyperparamater tuining\n",
    "training_score(dt_b)"
   ]
  },
  {
   "cell_type": "code",
   "execution_count": null,
   "id": "b788a802",
   "metadata": {},
   "outputs": [],
   "source": []
  },
  {
   "cell_type": "markdown",
   "id": "cbb58a69",
   "metadata": {},
   "source": [
    "##  2. Extremely Random Trees\n"
   ]
  },
  {
   "cell_type": "code",
   "execution_count": 71,
   "id": "0bd47986",
   "metadata": {},
   "outputs": [
    {
     "data": {
      "text/plain": [
       "ExtraTreesClassifier()"
      ]
     },
     "execution_count": 71,
     "metadata": {},
     "output_type": "execute_result"
    }
   ],
   "source": [
    "# Creating a Extremely Random Trees model \n",
    "rt= ExtraTreesClassifier()\n",
    "\n",
    "# Fit the model to the scaled data\n",
    "rt.fit(X_train_scaled, y_train)"
   ]
  },
  {
   "cell_type": "code",
   "execution_count": 72,
   "id": "2554dcc4",
   "metadata": {},
   "outputs": [
    {
     "name": "stdout",
     "output_type": "stream",
     "text": [
      "The training score of ExtraTreesClassifier() model is: 1.0\n",
      "\n",
      "\n",
      "Using k=5 cross validation the accuracy is: [0.99948725 0.99948725 0.99935906 0.99948718 0.99961538]\n",
      "Using k=5 cross validation the mean accuracy is: 0.9994872222167441\n",
      "\n",
      "\n",
      "Confusion Matrix using Cross validation predict is:\n",
      " [[19240    12]\n",
      " [   18 19733]]\n",
      "\n",
      "\n",
      "Classification report is:\n",
      "               precision    recall  f1-score   support\n",
      "\n",
      "           0       1.00      1.00      1.00     19252\n",
      "           1       1.00      1.00      1.00     19751\n",
      "\n",
      "    accuracy                           1.00     39003\n",
      "   macro avg       1.00      1.00      1.00     39003\n",
      "weighted avg       1.00      1.00      1.00     39003\n",
      "\n",
      "\n",
      "\n",
      "The ROC Curve using ExtraTreesClassifier() model\n"
     ]
    },
    {
     "data": {
      "image/png": "[encoded data removed]",
      "text/plain": [
       "<Figure size 432x288 with 1 Axes>"
      ]
     },
     "metadata": {
      "needs_background": "light"
     },
     "output_type": "display_data"
    },
    {
     "name": "stdout",
     "output_type": "stream",
     "text": [
      "\n",
      "The are under the curve is: 0.999999343846261\n"
     ]
    }
   ],
   "source": [
    "#Score for Extremely Random Trees using only training data (Using our defined function \"training_score\")\n",
    "training_score(rt)"
   ]
  },
  {
   "cell_type": "code",
   "execution_count": 73,
   "id": "2c7422da",
   "metadata": {},
   "outputs": [
    {
     "data": {
      "image/png": "[encoded data removed]",
      "text/plain": [
       "<Figure size 432x288 with 1 Axes>"
      ]
     },
     "metadata": {
      "needs_background": "light"
     },
     "output_type": "display_data"
    }
   ],
   "source": [
    "# Looking the columns with it feature importance\n",
    "features_rt = rt.feature_importances_\n",
    "# Plotting columns with its importances\n",
    "plt.bar(x = range(len(features_rt)), height=features_rt)\n",
    "plt.show()"
   ]
  },
  {
   "cell_type": "markdown",
   "id": "559025f5",
   "metadata": {},
   "source": [
    "### Tuning hyperparamaters for Extremely Random Tree Classifier"
   ]
  },
  {
   "cell_type": "code",
   "execution_count": 74,
   "id": "a51b0481",
   "metadata": {},
   "outputs": [],
   "source": [
    "# Using RandomizedSearchCV (since GridSearch take longer time so using RandomizedSearchCV)\n",
    "paramater_rt = {'n_estimators':[100,200,500, 1000],\n",
    "              'criterion': ['gini','entropy'],\n",
    "              'max_depth':[5,10,1000,10000],\n",
    "                'min_samples_leaf':[10,100,1000],\n",
    "                'max_features':['auto','sqrt',]}\n",
    "randsearch_rt = RandomizedSearchCV(rt, paramater_rt, cv=5, verbose=1, n_jobs=-1)"
   ]
  },
  {
   "cell_type": "code",
   "execution_count": 75,
   "id": "3ab9f92a",
   "metadata": {},
   "outputs": [
    {
     "name": "stdout",
     "output_type": "stream",
     "text": [
      "Fitting 5 folds for each of 10 candidates, totalling 50 fits\n"
     ]
    },
    {
     "data": {
      "text/plain": [
       "RandomizedSearchCV(cv=5, estimator=ExtraTreesClassifier(), n_jobs=-1,\n",
       "                   param_distributions={'criterion': ['gini', 'entropy'],\n",
       "                                        'max_depth': [5, 10, 1000, 10000],\n",
       "                                        'max_features': ['auto', 'sqrt'],\n",
       "                                        'min_samples_leaf': [10, 100, 1000],\n",
       "                                        'n_estimators': [100, 200, 500, 1000]},\n",
       "                   verbose=1)"
      ]
     },
     "execution_count": 75,
     "metadata": {},
     "output_type": "execute_result"
    }
   ],
   "source": [
    "# Fitting the model after hyperparamater tuining\n",
    "randsearch_rt.fit(X_train_scaled, y_train)"
   ]
  },
  {
   "cell_type": "code",
   "execution_count": 76,
   "id": "d44f7961",
   "metadata": {},
   "outputs": [
    {
     "name": "stdout",
     "output_type": "stream",
     "text": [
      "Best paramaters are:\n",
      "{'n_estimators': 1000, 'min_samples_leaf': 10, 'max_features': 'sqrt', 'max_depth': 10000, 'criterion': 'entropy'}\n",
      "Best score is: 0.987000986066875\n",
      "Best estimitar is: ExtraTreesClassifier(criterion='entropy', max_depth=10000, max_features='sqrt',\n",
      "                     min_samples_leaf=10, n_estimators=1000)\n"
     ]
    }
   ],
   "source": [
    "# Best parameters for this dataset\n",
    "print(f'Best paramaters are:\\n{randsearch_rt.best_params_}')\n",
    "# best score\n",
    "print(f'Best score is: {randsearch_rt.best_score_}')\n",
    "#best estimator\n",
    "rt_b=randsearch_rt.best_estimator_\n",
    "print(f'Best estimitar is: {rt_b}')\n"
   ]
  },
  {
   "cell_type": "code",
   "execution_count": 77,
   "id": "78ed9350",
   "metadata": {},
   "outputs": [
    {
     "name": "stdout",
     "output_type": "stream",
     "text": [
      "The training score of ExtraTreesClassifier(criterion='entropy', max_depth=10000, max_features='sqrt',\n",
      "                     min_samples_leaf=10, n_estimators=1000) model is: 0.9931287336871523\n",
      "\n",
      "\n",
      "Using k=5 cross validation the accuracy is: [0.98718113 0.986412   0.98743751 0.98602564 0.9875641 ]\n",
      "Using k=5 cross validation the mean accuracy is: 0.9869240761375103\n",
      "\n",
      "\n",
      "Confusion Matrix using Cross validation predict is:\n",
      " [[18718   534]\n",
      " [  137 19614]]\n",
      "\n",
      "\n",
      "Classification report is:\n",
      "               precision    recall  f1-score   support\n",
      "\n",
      "           0       0.99      0.97      0.98     19252\n",
      "           1       0.97      0.99      0.98     19751\n",
      "\n",
      "    accuracy                           0.98     39003\n",
      "   macro avg       0.98      0.98      0.98     39003\n",
      "weighted avg       0.98      0.98      0.98     39003\n",
      "\n",
      "\n",
      "\n",
      "The ROC Curve using ExtraTreesClassifier(criterion='entropy', max_depth=10000, max_features='sqrt',\n",
      "                     min_samples_leaf=10, n_estimators=1000) model\n"
     ]
    },
    {
     "data": {
      "image/png": "[encoded data removed]",
      "text/plain": [
       "<Figure size 432x288 with 1 Axes>"
      ]
     },
     "metadata": {
      "needs_background": "light"
     },
     "output_type": "display_data"
    },
    {
     "name": "stdout",
     "output_type": "stream",
     "text": [
      "\n",
      "The are under the curve is: 0.99947990019899\n"
     ]
    }
   ],
   "source": [
    "#score for extra tree classifier using training data after hyperparamater tuining\n",
    "training_score(rt_b)"
   ]
  },
  {
   "cell_type": "code",
   "execution_count": null,
   "id": "ba592bee",
   "metadata": {},
   "outputs": [],
   "source": []
  },
  {
   "cell_type": "markdown",
   "id": "1454c4c9",
   "metadata": {},
   "source": [
    "##  3. Random Forest Classifier"
   ]
  },
  {
   "cell_type": "code",
   "execution_count": 78,
   "id": "591c0bf3",
   "metadata": {},
   "outputs": [
    {
     "data": {
      "text/plain": [
       "RandomForestClassifier()"
      ]
     },
     "execution_count": 78,
     "metadata": {},
     "output_type": "execute_result"
    }
   ],
   "source": [
    "# Creating a Random Forest Classifer model \n",
    "rf= RandomForestClassifier()\n",
    "\n",
    "# Fit the model to the scaled data\n",
    "rf.fit(X_train_scaled, y_train)"
   ]
  },
  {
   "cell_type": "code",
   "execution_count": 79,
   "id": "04e69584",
   "metadata": {},
   "outputs": [
    {
     "name": "stdout",
     "output_type": "stream",
     "text": [
      "The training score of RandomForestClassifier() model is: 1.0\n",
      "\n",
      "\n",
      "Using k=5 cross validation the accuracy is: [0.99961543 0.99974362 0.99974362 0.99974359 1.        ]\n",
      "Using k=5 cross validation the mean accuracy is: 0.999769253777458\n",
      "\n",
      "\n",
      "Confusion Matrix using Cross validation predict is:\n",
      " [[19250     2]\n",
      " [   10 19741]]\n",
      "\n",
      "\n",
      "Classification report is:\n",
      "               precision    recall  f1-score   support\n",
      "\n",
      "           0       1.00      1.00      1.00     19252\n",
      "           1       1.00      1.00      1.00     19751\n",
      "\n",
      "    accuracy                           1.00     39003\n",
      "   macro avg       1.00      1.00      1.00     39003\n",
      "weighted avg       1.00      1.00      1.00     39003\n",
      "\n",
      "\n",
      "\n",
      "The ROC Curve using RandomForestClassifier() model\n"
     ]
    },
    {
     "data": {
      "image/png": "[encoded data removed]",
      "text/plain": [
       "<Figure size 432x288 with 1 Axes>"
      ]
     },
     "metadata": {
      "needs_background": "light"
     },
     "output_type": "display_data"
    },
    {
     "name": "stdout",
     "output_type": "stream",
     "text": [
      "\n",
      "The are under the curve is: 0.9999998763958889\n"
     ]
    }
   ],
   "source": [
    "#Score for Random Forest Classifer using only training data\n",
    "training_score(rf)"
   ]
  },
  {
   "cell_type": "code",
   "execution_count": 80,
   "id": "302e442b",
   "metadata": {},
   "outputs": [
    {
     "data": {
      "image/png": "[encoded data removed]",
      "text/plain": [
       "<Figure size 432x288 with 1 Axes>"
      ]
     },
     "metadata": {
      "needs_background": "light"
     },
     "output_type": "display_data"
    }
   ],
   "source": [
    "#Looking for the important features\n",
    "features_rf = rf.feature_importances_\n",
    "# plotting columns with its importances\n",
    "plt.bar(x = range(len(features_rf)), height=features_rf)\n",
    "plt.show()"
   ]
  },
  {
   "cell_type": "markdown",
   "id": "8e737f58",
   "metadata": {},
   "source": [
    "## Tuning hyperparamaters for Random Forest"
   ]
  },
  {
   "cell_type": "code",
   "execution_count": 81,
   "id": "b417ebae",
   "metadata": {},
   "outputs": [],
   "source": [
    "#Using randomized search for hyperparamater tuining since the paramaters are large and it make take longer time to tuned\n",
    "paramater_rf = {'n_estimators':[100,200,500],\n",
    "              'criterion': ['gini','entropy'],\n",
    "                 'max_features':['auto','sqrt','log2'],\n",
    "              'max_depth':[1,2,5,10,100,1000],\n",
    "                'min_samples_leaf':[1,5,10,100,1000]}\n",
    "randsearch_rf = RandomizedSearchCV(rf, paramater_rf, cv=5, verbose=1, n_jobs=-1)"
   ]
  },
  {
   "cell_type": "code",
   "execution_count": 82,
   "id": "76e6a031",
   "metadata": {},
   "outputs": [
    {
     "name": "stdout",
     "output_type": "stream",
     "text": [
      "Fitting 5 folds for each of 10 candidates, totalling 50 fits\n"
     ]
    },
    {
     "data": {
      "text/plain": [
       "RandomizedSearchCV(cv=5, estimator=RandomForestClassifier(), n_jobs=-1,\n",
       "                   param_distributions={'criterion': ['gini', 'entropy'],\n",
       "                                        'max_depth': [1, 2, 5, 10, 100, 1000],\n",
       "                                        'max_features': ['auto', 'sqrt',\n",
       "                                                         'log2'],\n",
       "                                        'min_samples_leaf': [1, 5, 10, 100,\n",
       "                                                             1000],\n",
       "                                        'n_estimators': [100, 200, 500]},\n",
       "                   verbose=1)"
      ]
     },
     "execution_count": 82,
     "metadata": {},
     "output_type": "execute_result"
    }
   ],
   "source": [
    "#Fitting the model after hyperparamater tuining\n",
    "randsearch_rf.fit(X_train_scaled, y_train)"
   ]
  },
  {
   "cell_type": "code",
   "execution_count": 83,
   "id": "df542e9a",
   "metadata": {},
   "outputs": [
    {
     "name": "stdout",
     "output_type": "stream",
     "text": [
      "Best paramaters are:\n",
      "{'n_estimators': 500, 'min_samples_leaf': 1, 'max_features': 'sqrt', 'max_depth': 1000, 'criterion': 'entropy'}\n",
      "Best score is: 0.9997436160387064\n",
      "Best estimitar is: RandomForestClassifier(criterion='entropy', max_depth=1000, max_features='sqrt',\n",
      "                       n_estimators=500)\n"
     ]
    }
   ],
   "source": [
    "# Best parameters for this dataset\n",
    "print(f'Best paramaters are:\\n{randsearch_rf.best_params_}')\n",
    "# best score\n",
    "print(f'Best score is: {randsearch_rf.best_score_}')\n",
    "#best estimator\n",
    "rf_b=randsearch_rf.best_estimator_\n",
    "print(f'Best estimitar is: {rf_b}')"
   ]
  },
  {
   "cell_type": "code",
   "execution_count": 84,
   "id": "7e5471f2",
   "metadata": {},
   "outputs": [
    {
     "name": "stdout",
     "output_type": "stream",
     "text": [
      "The training score of RandomForestClassifier(criterion='entropy', max_depth=1000, max_features='sqrt',\n",
      "                       n_estimators=500) model is: 1.0\n",
      "\n",
      "\n",
      "Using k=5 cross validation the accuracy is: [0.99961543 0.99974362 0.99961543 0.99974359 1.        ]\n",
      "Using k=5 cross validation the mean accuracy is: 0.9997436160387064\n",
      "\n",
      "\n",
      "Confusion Matrix using Cross validation predict is:\n",
      " [[19251     1]\n",
      " [   10 19741]]\n",
      "\n",
      "\n",
      "Classification report is:\n",
      "               precision    recall  f1-score   support\n",
      "\n",
      "           0       1.00      1.00      1.00     19252\n",
      "           1       1.00      1.00      1.00     19751\n",
      "\n",
      "    accuracy                           1.00     39003\n",
      "   macro avg       1.00      1.00      1.00     39003\n",
      "weighted avg       1.00      1.00      1.00     39003\n",
      "\n",
      "\n",
      "\n",
      "The ROC Curve using RandomForestClassifier(criterion='entropy', max_depth=1000, max_features='sqrt',\n",
      "                       n_estimators=500) model\n"
     ]
    },
    {
     "data": {
      "image/png": "[encoded data removed]",
      "text/plain": [
       "<Figure size 432x288 with 1 Axes>"
      ]
     },
     "metadata": {
      "needs_background": "light"
     },
     "output_type": "display_data"
    },
    {
     "name": "stdout",
     "output_type": "stream",
     "text": [
      "\n",
      "The are under the curve is: 0.9999998487822045\n"
     ]
    }
   ],
   "source": [
    "#Score for random forest using training data after hyperparamater tuining\n",
    "training_score(rf_b)"
   ]
  },
  {
   "cell_type": "code",
   "execution_count": null,
   "id": "3aead05b",
   "metadata": {},
   "outputs": [],
   "source": []
  },
  {
   "cell_type": "markdown",
   "id": "bc30a0b2",
   "metadata": {},
   "source": [
    "##  Boosting\n"
   ]
  },
  {
   "cell_type": "markdown",
   "id": "9a5607fd",
   "metadata": {},
   "source": [
    "### 1. AdaBoost Classifier"
   ]
  },
  {
   "cell_type": "code",
   "execution_count": 85,
   "id": "66b36733",
   "metadata": {},
   "outputs": [
    {
     "data": {
      "text/plain": [
       "AdaBoostClassifier(base_estimator=DecisionTreeClassifier())"
      ]
     },
     "execution_count": 85,
     "metadata": {},
     "output_type": "execute_result"
    }
   ],
   "source": [
    "# Creating a AdaBoostClassifier model \n",
    "ab= AdaBoostClassifier(base_estimator = dt)\n",
    "\n",
    "# Fit the model to the data\n",
    "ab.fit(X_train_scaled, y_train)"
   ]
  },
  {
   "cell_type": "code",
   "execution_count": 86,
   "id": "812a9009",
   "metadata": {},
   "outputs": [
    {
     "name": "stdout",
     "output_type": "stream",
     "text": [
      "The training score of AdaBoostClassifier(base_estimator=DecisionTreeClassifier()) model is: 1.0\n",
      "\n",
      "\n",
      "Using k=5 cross validation the accuracy is: [1.         0.99961543 0.99987181 1.         1.        ]\n",
      "Using k=5 cross validation the mean accuracy is: 0.9998974490449942\n",
      "\n",
      "\n",
      "Confusion Matrix using Cross validation predict is:\n",
      " [[19252     0]\n",
      " [    0 19751]]\n",
      "\n",
      "\n",
      "Classification report is:\n",
      "               precision    recall  f1-score   support\n",
      "\n",
      "           0       1.00      1.00      1.00     19252\n",
      "           1       1.00      1.00      1.00     19751\n",
      "\n",
      "    accuracy                           1.00     39003\n",
      "   macro avg       1.00      1.00      1.00     39003\n",
      "weighted avg       1.00      1.00      1.00     39003\n",
      "\n",
      "\n",
      "\n",
      "The ROC Curve using AdaBoostClassifier(base_estimator=DecisionTreeClassifier()) model\n"
     ]
    },
    {
     "data": {
      "image/png": "[encoded data removed]",
      "text/plain": [
       "<Figure size 432x288 with 1 Axes>"
      ]
     },
     "metadata": {
      "needs_background": "light"
     },
     "output_type": "display_data"
    },
    {
     "name": "stdout",
     "output_type": "stream",
     "text": [
      "\n",
      "The are under the curve is: 0.9998967708431219\n"
     ]
    }
   ],
   "source": [
    "#Score for Adaboost using only training data\n",
    "training_score(ab)"
   ]
  },
  {
   "cell_type": "code",
   "execution_count": 87,
   "id": "7d5d9f77",
   "metadata": {},
   "outputs": [
    {
     "data": {
      "image/png": "[encoded data removed]",
      "text/plain": [
       "<Figure size 432x288 with 1 Axes>"
      ]
     },
     "metadata": {
      "needs_background": "light"
     },
     "output_type": "display_data"
    }
   ],
   "source": [
    "# Looking only important features\n",
    "features_ab = ab.feature_importances_\n",
    "# Plotting columns with its importances\n",
    "plt.bar(x = range(len(features_ab)), height=features_ab)\n",
    "plt.show()"
   ]
  },
  {
   "cell_type": "markdown",
   "id": "0437a792",
   "metadata": {},
   "source": [
    "## Tuning hyperparamaters for AdaBoost Classifier"
   ]
  },
  {
   "cell_type": "code",
   "execution_count": 88,
   "id": "a8b7960f",
   "metadata": {},
   "outputs": [],
   "source": [
    "# Using randomized search cv \n",
    "paramater_ab = {'n_estimators':[100,200,500, 1000, 2000, 5000],\n",
    "             'learning_rate':[0.01,0.1]}\n",
    "randsearch_ab = RandomizedSearchCV(ab, paramater_ab, cv=3, verbose=1, n_jobs=-1)"
   ]
  },
  {
   "cell_type": "code",
   "execution_count": 89,
   "id": "0834c28d",
   "metadata": {},
   "outputs": [
    {
     "name": "stdout",
     "output_type": "stream",
     "text": [
      "Fitting 3 folds for each of 10 candidates, totalling 30 fits\n"
     ]
    },
    {
     "data": {
      "text/plain": [
       "RandomizedSearchCV(cv=3,\n",
       "                   estimator=AdaBoostClassifier(base_estimator=DecisionTreeClassifier()),\n",
       "                   n_jobs=-1,\n",
       "                   param_distributions={'learning_rate': [0.01, 0.1],\n",
       "                                        'n_estimators': [100, 200, 500, 1000,\n",
       "                                                         2000, 5000]},\n",
       "                   verbose=1)"
      ]
     },
     "execution_count": 89,
     "metadata": {},
     "output_type": "execute_result"
    }
   ],
   "source": [
    "#Fitting after hyperparamater tuining\n",
    "randsearch_ab.fit(X_train_scaled, y_train)"
   ]
  },
  {
   "cell_type": "code",
   "execution_count": 90,
   "id": "eb600a15",
   "metadata": {},
   "outputs": [
    {
     "name": "stdout",
     "output_type": "stream",
     "text": [
      "Best paramaters are:\n",
      "{'n_estimators': 5000, 'learning_rate': 0.1}\n",
      "Best score is: 1.0\n",
      "Best estimitar is: AdaBoostClassifier(base_estimator=DecisionTreeClassifier(), learning_rate=0.1,\n",
      "                   n_estimators=5000)\n"
     ]
    }
   ],
   "source": [
    "# Best parameters for this dataset\n",
    "print(f'Best paramaters are:\\n{randsearch_ab.best_params_}')\n",
    "# best score\n",
    "print(f'Best score is: {randsearch_ab.best_score_}')\n",
    "#best estimator\n",
    "ab_b=randsearch_ab.best_estimator_\n",
    "print(f'Best estimitar is: {ab_b}')"
   ]
  },
  {
   "cell_type": "code",
   "execution_count": 91,
   "id": "cb1c7e97",
   "metadata": {},
   "outputs": [
    {
     "name": "stdout",
     "output_type": "stream",
     "text": [
      "The training score of AdaBoostClassifier(base_estimator=DecisionTreeClassifier(), learning_rate=0.1,\n",
      "                   n_estimators=5000) model is: 1.0\n",
      "\n",
      "\n",
      "Using k=5 cross validation the accuracy is: [1.         0.99961543 0.99987181 1.         1.        ]\n",
      "Using k=5 cross validation the mean accuracy is: 0.9998974490449942\n",
      "\n",
      "\n",
      "Confusion Matrix using Cross validation predict is:\n",
      " [[19252     0]\n",
      " [    0 19751]]\n",
      "\n",
      "\n",
      "Classification report is:\n",
      "               precision    recall  f1-score   support\n",
      "\n",
      "           0       1.00      1.00      1.00     19252\n",
      "           1       1.00      1.00      1.00     19751\n",
      "\n",
      "    accuracy                           1.00     39003\n",
      "   macro avg       1.00      1.00      1.00     39003\n",
      "weighted avg       1.00      1.00      1.00     39003\n",
      "\n",
      "\n",
      "\n",
      "The ROC Curve using AdaBoostClassifier(base_estimator=DecisionTreeClassifier(), learning_rate=0.1,\n",
      "                   n_estimators=5000) model\n"
     ]
    },
    {
     "data": {
      "image/png": "[encoded data removed]",
      "text/plain": [
       "<Figure size 432x288 with 1 Axes>"
      ]
     },
     "metadata": {
      "needs_background": "light"
     },
     "output_type": "display_data"
    },
    {
     "name": "stdout",
     "output_type": "stream",
     "text": [
      "\n",
      "The are under the curve is: 0.9998967708431219\n"
     ]
    }
   ],
   "source": [
    "#score for adaboost classifier using training data after hyperparamater tuining\n",
    "training_score(ab_b)"
   ]
  },
  {
   "cell_type": "code",
   "execution_count": null,
   "id": "17ea9009",
   "metadata": {},
   "outputs": [],
   "source": []
  },
  {
   "cell_type": "markdown",
   "id": "8b88a6cd",
   "metadata": {},
   "source": [
    "## 2. Graident Boosting Classifier"
   ]
  },
  {
   "cell_type": "code",
   "execution_count": 92,
   "id": "904df2a8",
   "metadata": {},
   "outputs": [
    {
     "data": {
      "text/plain": [
       "GradientBoostingClassifier()"
      ]
     },
     "execution_count": 92,
     "metadata": {},
     "output_type": "execute_result"
    }
   ],
   "source": [
    "# Creating a gradient boost classifer model \n",
    "gb= GradientBoostingClassifier()\n",
    "\n",
    "# Fit the model to the data\n",
    "gb.fit(X_train_scaled, y_train)"
   ]
  },
  {
   "cell_type": "code",
   "execution_count": 93,
   "id": "abb9ce98",
   "metadata": {},
   "outputs": [
    {
     "name": "stdout",
     "output_type": "stream",
     "text": [
      "The training score of AdaBoostClassifier(base_estimator=DecisionTreeClassifier()) model is: 1.0\n",
      "\n",
      "\n",
      "Using k=5 cross validation the accuracy is: [1.         0.99961543 0.99987181 1.         1.        ]\n",
      "Using k=5 cross validation the mean accuracy is: 0.9998974490449942\n",
      "\n",
      "\n",
      "Confusion Matrix using Cross validation predict is:\n",
      " [[19252     0]\n",
      " [    0 19751]]\n",
      "\n",
      "\n",
      "Classification report is:\n",
      "               precision    recall  f1-score   support\n",
      "\n",
      "           0       1.00      1.00      1.00     19252\n",
      "           1       1.00      1.00      1.00     19751\n",
      "\n",
      "    accuracy                           1.00     39003\n",
      "   macro avg       1.00      1.00      1.00     39003\n",
      "weighted avg       1.00      1.00      1.00     39003\n",
      "\n",
      "\n",
      "\n",
      "The ROC Curve using AdaBoostClassifier(base_estimator=DecisionTreeClassifier()) model\n"
     ]
    },
    {
     "data": {
      "image/png": "[encoded data removed]",
      "text/plain": [
       "<Figure size 432x288 with 1 Axes>"
      ]
     },
     "metadata": {
      "needs_background": "light"
     },
     "output_type": "display_data"
    },
    {
     "name": "stdout",
     "output_type": "stream",
     "text": [
      "\n",
      "The are under the curve is: 0.9998967708431219\n"
     ]
    }
   ],
   "source": [
    "#Score for GradientBoostClassifier using only training data\n",
    "training_score(ab)"
   ]
  },
  {
   "cell_type": "code",
   "execution_count": 94,
   "id": "a12add1a",
   "metadata": {},
   "outputs": [
    {
     "data": {
      "image/png": "[encoded data removed]",
      "text/plain": [
       "<Figure size 432x288 with 1 Axes>"
      ]
     },
     "metadata": {
      "needs_background": "light"
     },
     "output_type": "display_data"
    }
   ],
   "source": [
    "# Looking only important features\n",
    "features_gb = gb.feature_importances_\n",
    "# Plotting columns with its importances\n",
    "plt.bar(x = range(len(features_gb)), height=features_gb)\n",
    "plt.show()"
   ]
  },
  {
   "cell_type": "markdown",
   "id": "e55e2df8",
   "metadata": {},
   "source": [
    "## Tuning hyperparamaters for Gradient Boosting Classifier"
   ]
  },
  {
   "cell_type": "code",
   "execution_count": null,
   "id": "3a0827fb",
   "metadata": {},
   "outputs": [],
   "source": [
    "# Using randomized search cv \n",
    "paramater_gb = {'n_estimators':[100,200,1000],\n",
    "             'learning_rate':[0.01,0.1]}\n",
    "randsearch_gb = RandomizedSearchCV(gb, paramater_gb, cv=3, verbose=1, n_jobs=-1)"
   ]
  },
  {
   "cell_type": "code",
   "execution_count": null,
   "id": "6cf62a6b",
   "metadata": {},
   "outputs": [],
   "source": [
    "#Fitting after hyperparamater tuining\n",
    "randsearch_gb.fit(X_train_scaled, y_train)"
   ]
  },
  {
   "cell_type": "code",
   "execution_count": null,
   "id": "3d5f6eea",
   "metadata": {},
   "outputs": [],
   "source": [
    "# Best parameters for this dataset\n",
    "print(f'Best paramaters are:\\n{randsearch_gb.best_params_}')\n",
    "# best score\n",
    "print(f'Best score is: {randsearch_gb.best_score_}')\n",
    "#best estimator\n",
    "gb_b=randsearch_ab.best_estimator_\n",
    "print(f'Best estimitar is: {gb_b}')"
   ]
  },
  {
   "cell_type": "code",
   "execution_count": null,
   "id": "4420063a",
   "metadata": {},
   "outputs": [],
   "source": [
    "#score for GradientBoostClassifier using training data after hyperparamater tuining\n",
    "training_score(gb_b)"
   ]
  },
  {
   "cell_type": "code",
   "execution_count": null,
   "id": "a91bd860",
   "metadata": {},
   "outputs": [],
   "source": []
  },
  {
   "cell_type": "markdown",
   "id": "f7ed8757",
   "metadata": {},
   "source": [
    "# Real and Predicted Value Using Different Models\n",
    "### Used to test set to evalute the performance of the models"
   ]
  },
  {
   "cell_type": "code",
   "execution_count": 96,
   "id": "96aa6940",
   "metadata": {},
   "outputs": [
    {
     "data": {
      "text/html": [
       "<div>\n",
       "<style scoped>\n",
       "    .dataframe tbody tr th:only-of-type {\n",
       "        vertical-align: middle;\n",
       "    }\n",
       "\n",
       "    .dataframe tbody tr th {\n",
       "        vertical-align: top;\n",
       "    }\n",
       "\n",
       "    .dataframe thead th {\n",
       "        text-align: right;\n",
       "    }\n",
       "</style>\n",
       "<table border=\"1\" class=\"dataframe\">\n",
       "  <thead>\n",
       "    <tr style=\"text-align: right;\">\n",
       "      <th></th>\n",
       "      <th>Real value</th>\n",
       "      <th>SGD Classifier</th>\n",
       "      <th>Logistic Regression</th>\n",
       "      <th>Decision Tree</th>\n",
       "      <th>Random Forest</th>\n",
       "      <th>Extra Random Tree</th>\n",
       "      <th>AdaBoost</th>\n",
       "      <th>Gradient Boost</th>\n",
       "    </tr>\n",
       "  </thead>\n",
       "  <tbody>\n",
       "    <tr>\n",
       "      <th>0</th>\n",
       "      <td>low risk</td>\n",
       "      <td>low risk</td>\n",
       "      <td>low risk</td>\n",
       "      <td>low risk</td>\n",
       "      <td>low risk</td>\n",
       "      <td>low risk</td>\n",
       "      <td>low risk</td>\n",
       "      <td>low risk</td>\n",
       "    </tr>\n",
       "    <tr>\n",
       "      <th>1</th>\n",
       "      <td>high risk</td>\n",
       "      <td>low risk</td>\n",
       "      <td>low risk</td>\n",
       "      <td>high risk</td>\n",
       "      <td>high risk</td>\n",
       "      <td>high risk</td>\n",
       "      <td>high risk</td>\n",
       "      <td>high risk</td>\n",
       "    </tr>\n",
       "    <tr>\n",
       "      <th>2</th>\n",
       "      <td>high risk</td>\n",
       "      <td>high risk</td>\n",
       "      <td>high risk</td>\n",
       "      <td>high risk</td>\n",
       "      <td>high risk</td>\n",
       "      <td>high risk</td>\n",
       "      <td>high risk</td>\n",
       "      <td>high risk</td>\n",
       "    </tr>\n",
       "    <tr>\n",
       "      <th>3</th>\n",
       "      <td>low risk</td>\n",
       "      <td>high risk</td>\n",
       "      <td>low risk</td>\n",
       "      <td>low risk</td>\n",
       "      <td>low risk</td>\n",
       "      <td>low risk</td>\n",
       "      <td>low risk</td>\n",
       "      <td>low risk</td>\n",
       "    </tr>\n",
       "    <tr>\n",
       "      <th>4</th>\n",
       "      <td>high risk</td>\n",
       "      <td>high risk</td>\n",
       "      <td>high risk</td>\n",
       "      <td>high risk</td>\n",
       "      <td>high risk</td>\n",
       "      <td>high risk</td>\n",
       "      <td>high risk</td>\n",
       "      <td>high risk</td>\n",
       "    </tr>\n",
       "    <tr>\n",
       "      <th>...</th>\n",
       "      <td>...</td>\n",
       "      <td>...</td>\n",
       "      <td>...</td>\n",
       "      <td>...</td>\n",
       "      <td>...</td>\n",
       "      <td>...</td>\n",
       "      <td>...</td>\n",
       "      <td>...</td>\n",
       "    </tr>\n",
       "    <tr>\n",
       "      <th>12997</th>\n",
       "      <td>low risk</td>\n",
       "      <td>low risk</td>\n",
       "      <td>low risk</td>\n",
       "      <td>low risk</td>\n",
       "      <td>low risk</td>\n",
       "      <td>low risk</td>\n",
       "      <td>low risk</td>\n",
       "      <td>low risk</td>\n",
       "    </tr>\n",
       "    <tr>\n",
       "      <th>12998</th>\n",
       "      <td>high risk</td>\n",
       "      <td>low risk</td>\n",
       "      <td>low risk</td>\n",
       "      <td>high risk</td>\n",
       "      <td>high risk</td>\n",
       "      <td>high risk</td>\n",
       "      <td>high risk</td>\n",
       "      <td>high risk</td>\n",
       "    </tr>\n",
       "    <tr>\n",
       "      <th>12999</th>\n",
       "      <td>low risk</td>\n",
       "      <td>high risk</td>\n",
       "      <td>high risk</td>\n",
       "      <td>low risk</td>\n",
       "      <td>low risk</td>\n",
       "      <td>low risk</td>\n",
       "      <td>low risk</td>\n",
       "      <td>low risk</td>\n",
       "    </tr>\n",
       "    <tr>\n",
       "      <th>13000</th>\n",
       "      <td>high risk</td>\n",
       "      <td>low risk</td>\n",
       "      <td>low risk</td>\n",
       "      <td>high risk</td>\n",
       "      <td>high risk</td>\n",
       "      <td>high risk</td>\n",
       "      <td>high risk</td>\n",
       "      <td>high risk</td>\n",
       "    </tr>\n",
       "    <tr>\n",
       "      <th>13001</th>\n",
       "      <td>high risk</td>\n",
       "      <td>low risk</td>\n",
       "      <td>low risk</td>\n",
       "      <td>high risk</td>\n",
       "      <td>high risk</td>\n",
       "      <td>high risk</td>\n",
       "      <td>high risk</td>\n",
       "      <td>high risk</td>\n",
       "    </tr>\n",
       "  </tbody>\n",
       "</table>\n",
       "<p>13002 rows × 8 columns</p>\n",
       "</div>"
      ],
      "text/plain": [
       "      Real value SGD Classifier Logistic Regression Decision Tree  \\\n",
       "0       low risk       low risk            low risk      low risk   \n",
       "1      high risk       low risk            low risk     high risk   \n",
       "2      high risk      high risk           high risk     high risk   \n",
       "3       low risk      high risk            low risk      low risk   \n",
       "4      high risk      high risk           high risk     high risk   \n",
       "...          ...            ...                 ...           ...   \n",
       "12997   low risk       low risk            low risk      low risk   \n",
       "12998  high risk       low risk            low risk     high risk   \n",
       "12999   low risk      high risk           high risk      low risk   \n",
       "13000  high risk       low risk            low risk     high risk   \n",
       "13001  high risk       low risk            low risk     high risk   \n",
       "\n",
       "      Random Forest Extra Random Tree   AdaBoost Gradient Boost  \n",
       "0          low risk          low risk   low risk       low risk  \n",
       "1         high risk         high risk  high risk      high risk  \n",
       "2         high risk         high risk  high risk      high risk  \n",
       "3          low risk          low risk   low risk       low risk  \n",
       "4         high risk         high risk  high risk      high risk  \n",
       "...             ...               ...        ...            ...  \n",
       "12997      low risk          low risk   low risk       low risk  \n",
       "12998     high risk         high risk  high risk      high risk  \n",
       "12999      low risk          low risk   low risk       low risk  \n",
       "13000     high risk         high risk  high risk      high risk  \n",
       "13001     high risk         high risk  high risk      high risk  \n",
       "\n",
       "[13002 rows x 8 columns]"
      ]
     },
     "execution_count": 96,
     "metadata": {},
     "output_type": "execute_result"
    }
   ],
   "source": [
    "#Predected value using test data\n",
    "y_pred_sgd=sgdc_b.predict(X_test_scaled)\n",
    "y_pred_lr=lr_b.predict(X_test_scaled)\n",
    "y_pred_dt=dt_b.predict(X_test_scaled)\n",
    "y_pred_rf=rf_b.predict(X_test_scaled)\n",
    "y_pred_rt=rt_b.predict(X_test_scaled)\n",
    "y_pred_ab=ab_b.predict(X_test_scaled)\n",
    "y_pred_gb=gb.predict(X_test_scaled)\n",
    "\n",
    "#Creating the dataframe for real and predicted value using different models\n",
    "df_pred=pd.DataFrame({'Real value':y_test,\n",
    "                     'SGD Classifier':y_pred_sgd,\n",
    "                     'Logistic Regression':y_pred_lr,\n",
    "                     'Decision Tree':y_pred_dt,\n",
    "                     'Random Forest':y_pred_rf,\n",
    "                     'Extra Random Tree':y_pred_rt,\n",
    "                     'AdaBoost':y_pred_ab,\n",
    "                      'Gradient Boost': y_pred_gb})\n",
    "#Replacing 1 with low risk and 0 with high risk\n",
    "df_pred.replace({1:'low risk', 0: 'high risk'}, inplace=True)\n",
    "df_pred"
   ]
  },
  {
   "cell_type": "code",
   "execution_count": 100,
   "id": "dff703fc",
   "metadata": {},
   "outputs": [],
   "source": [
    "# Saving as html\n",
    "df_pred.to_html('Resources/Cleaned_data/model_perm.html')"
   ]
  },
  {
   "cell_type": "code",
   "execution_count": 98,
   "id": "b3b9bcaa",
   "metadata": {},
   "outputs": [
    {
     "data": {
      "text/html": [
       "<div>\n",
       "<style scoped>\n",
       "    .dataframe tbody tr th:only-of-type {\n",
       "        vertical-align: middle;\n",
       "    }\n",
       "\n",
       "    .dataframe tbody tr th {\n",
       "        vertical-align: top;\n",
       "    }\n",
       "\n",
       "    .dataframe thead th {\n",
       "        text-align: right;\n",
       "    }\n",
       "</style>\n",
       "<table border=\"1\" class=\"dataframe\">\n",
       "  <thead>\n",
       "    <tr style=\"text-align: right;\">\n",
       "      <th></th>\n",
       "      <th>SGD</th>\n",
       "      <th>logistic Reg</th>\n",
       "      <th>Decision Tree</th>\n",
       "      <th>Random Forest</th>\n",
       "      <th>Extra Random Tree</th>\n",
       "      <th>Ada Boost</th>\n",
       "      <th>Graident Boost</th>\n",
       "    </tr>\n",
       "  </thead>\n",
       "  <tbody>\n",
       "    <tr>\n",
       "      <th>Train score</th>\n",
       "      <td>0.790606</td>\n",
       "      <td>0.801605</td>\n",
       "      <td>1.000000</td>\n",
       "      <td>1.0</td>\n",
       "      <td>0.993129</td>\n",
       "      <td>1.0</td>\n",
       "      <td>0.992821</td>\n",
       "    </tr>\n",
       "    <tr>\n",
       "      <th>Test score</th>\n",
       "      <td>0.788802</td>\n",
       "      <td>0.804799</td>\n",
       "      <td>0.999615</td>\n",
       "      <td>1.0</td>\n",
       "      <td>0.991155</td>\n",
       "      <td>1.0</td>\n",
       "      <td>0.993078</td>\n",
       "    </tr>\n",
       "    <tr>\n",
       "      <th>Precision</th>\n",
       "      <td>0.716298</td>\n",
       "      <td>0.725530</td>\n",
       "      <td>1.000000</td>\n",
       "      <td>1.0</td>\n",
       "      <td>0.987785</td>\n",
       "      <td>1.0</td>\n",
       "      <td>0.986515</td>\n",
       "    </tr>\n",
       "    <tr>\n",
       "      <th>Recall</th>\n",
       "      <td>0.965219</td>\n",
       "      <td>0.988457</td>\n",
       "      <td>0.999241</td>\n",
       "      <td>1.0</td>\n",
       "      <td>0.994836</td>\n",
       "      <td>1.0</td>\n",
       "      <td>1.000000</td>\n",
       "    </tr>\n",
       "    <tr>\n",
       "      <th>f1_score</th>\n",
       "      <td>0.822334</td>\n",
       "      <td>0.836827</td>\n",
       "      <td>0.999620</td>\n",
       "      <td>1.0</td>\n",
       "      <td>0.991298</td>\n",
       "      <td>1.0</td>\n",
       "      <td>0.993212</td>\n",
       "    </tr>\n",
       "    <tr>\n",
       "      <th>auc</th>\n",
       "      <td>0.821261</td>\n",
       "      <td>0.847017</td>\n",
       "      <td>0.999620</td>\n",
       "      <td>1.0</td>\n",
       "      <td>0.999704</td>\n",
       "      <td>1.0</td>\n",
       "      <td>0.999993</td>\n",
       "    </tr>\n",
       "  </tbody>\n",
       "</table>\n",
       "</div>"
      ],
      "text/plain": [
       "                  SGD  logistic Reg  Decision Tree  Random Forest  \\\n",
       "Train score  0.790606      0.801605       1.000000            1.0   \n",
       "Test score   0.788802      0.804799       0.999615            1.0   \n",
       "Precision    0.716298      0.725530       1.000000            1.0   \n",
       "Recall       0.965219      0.988457       0.999241            1.0   \n",
       "f1_score     0.822334      0.836827       0.999620            1.0   \n",
       "auc          0.821261      0.847017       0.999620            1.0   \n",
       "\n",
       "             Extra Random Tree  Ada Boost  Graident Boost  \n",
       "Train score           0.993129        1.0        0.992821  \n",
       "Test score            0.991155        1.0        0.993078  \n",
       "Precision             0.987785        1.0        0.986515  \n",
       "Recall                0.994836        1.0        1.000000  \n",
       "f1_score              0.991298        1.0        0.993212  \n",
       "auc                   0.999704        1.0        0.999993  "
      ]
     },
     "execution_count": 98,
     "metadata": {},
     "output_type": "execute_result"
    }
   ],
   "source": [
    "#making dataframe on evaluation metrices\n",
    "all_evaluation=pd.DataFrame({'SGD':model_score(sgdc_b),\n",
    "                            'logistic Reg':model_score(lr_b),\n",
    "                            'Decision Tree':model_score(dt_b),\n",
    "                           'Random Forest':model_score(rf_b),\n",
    "                            'Extra Random Tree':model_score(rt_b),\n",
    "                           'Ada Boost':model_score(ab_b),\n",
    "                            'Graident Boost':model_score(gb) }\n",
    "                           ,index=['Train score','Test score', \n",
    "                                   'Precision', 'Recall', 'f1_score', 'auc'])\n",
    "all_evaluation"
   ]
  },
  {
   "cell_type": "code",
   "execution_count": 99,
   "id": "96c6f019",
   "metadata": {},
   "outputs": [],
   "source": [
    "#Saving the dataframe\n",
    "all_evaluation.to_html('Resources/Cleaned_data/over_metrics.html')"
   ]
  },
  {
   "cell_type": "code",
   "execution_count": null,
   "id": "f37fcf59",
   "metadata": {},
   "outputs": [],
   "source": []
  },
  {
   "cell_type": "markdown",
   "id": "df1a961c",
   "metadata": {},
   "source": [
    "## Saving the Best Model for Prediction Using the Input Data From Website"
   ]
  },
  {
   "cell_type": "code",
   "execution_count": 113,
   "id": "44a95ce8",
   "metadata": {},
   "outputs": [
    {
     "data": {
      "text/plain": [
       "['model.pkl']"
      ]
     },
     "execution_count": 113,
     "metadata": {},
     "output_type": "execute_result"
    }
   ],
   "source": [
    "import joblib\n",
    "joblib.dump(lr, 'model.pkl')"
   ]
  },
  {
   "cell_type": "code",
   "execution_count": 114,
   "id": "ff2a753f",
   "metadata": {},
   "outputs": [
    {
     "data": {
      "text/plain": [
       "['scaler.pkl']"
      ]
     },
     "execution_count": 114,
     "metadata": {},
     "output_type": "execute_result"
    }
   ],
   "source": [
    "#saving standard scaler\n",
    "joblib.dump(scaler, 'scaler.pkl')"
   ]
  },
  {
   "cell_type": "code",
   "execution_count": 160,
   "id": "ceea04d9",
   "metadata": {},
   "outputs": [],
   "source": [
    "variables=['10','2000','300000','0']"
   ]
  },
  {
   "cell_type": "code",
   "execution_count": 169,
   "id": "3da44831",
   "metadata": {},
   "outputs": [],
   "source": [
    "def loading_model(variables):\n",
    "    if variables[0] == '' or variables[1] == '' or variables[2] == '':\n",
    "        return \"Please enter the above information first and click submit. \"\n",
    "    try:\n",
    "        # using standardscaler for transformation\n",
    "        scaler = joblib.load('scaler.pkl')\n",
    "        print(scaler)\n",
    "        X_scaler = scaler.transform([variables])\n",
    "        print(X_scaler[0][0])\n",
    "\n",
    "        test_data = scaler.transform(X_scaler)\n",
    "        trained_model = joblib.load('model.pkl')\n",
    "        prediction = trained_model.predict(test_data)\n",
    "        \n",
    "        if prediction == 1:\n",
    "            return \"Based on your above input- 'Tenant is good renter!!!!!!' \"\n",
    "        else:\n",
    "            return \"Based on your above input: 'Tenant is high risk for renting your property!!!!!'\"\n",
    "    except:\n",
    "        return 'Errors'"
   ]
  },
  {
   "cell_type": "code",
   "execution_count": 170,
   "id": "5d11d624",
   "metadata": {},
   "outputs": [
    {
     "name": "stdout",
     "output_type": "stream",
     "text": [
      "StandardScaler()\n",
      "20.473702056278245\n"
     ]
    },
    {
     "data": {
      "text/plain": [
       "\"Based on your above input- 'Tenant is good renter!!!!!!' \""
      ]
     },
     "execution_count": 170,
     "metadata": {},
     "output_type": "execute_result"
    }
   ],
   "source": [
    "loading_model(variables)"
   ]
  },
  {
   "cell_type": "code",
   "execution_count": null,
   "id": "dfae9c89",
   "metadata": {},
   "outputs": [],
   "source": []
  }
 ],
 "metadata": {
  "kernelspec": {
   "display_name": "Python 3 (ipykernel)",
   "language": "python",
   "name": "python3"
  },
  "language_info": {
   "codemirror_mode": {
    "name": "ipython",
    "version": 3
   },
   "file_extension": ".py",
   "mimetype": "text/x-python",
   "name": "python",
   "nbconvert_exporter": "python",
   "pygments_lexer": "ipython3",
   "version": "3.8.10"
  }
 },
 "nbformat": 4,
 "nbformat_minor": 5
}
