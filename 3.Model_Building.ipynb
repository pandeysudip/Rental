{
 "cells": [
  {
   "cell_type": "markdown",
   "id": "82ce1e22",
   "metadata": {},
   "source": [
    "## MODEL Building"
   ]
  },
  {
   "cell_type": "markdown",
   "id": "b2c90932",
   "metadata": {},
   "source": [
    "### Over sampling dataset "
   ]
  },
  {
   "cell_type": "code",
   "execution_count": 3,
   "id": "4f3a5bb0",
   "metadata": {},
   "outputs": [],
   "source": [
    "#importing modules\n",
    "import pandas as pd\n",
    "import numpy as np\n",
    "from pathlib import Path\n",
    "import matplotlib.pyplot as plt\n",
    "import seaborn as sns\n",
    "from sklearn.model_selection import train_test_split\n",
    "from sklearn.preprocessing import StandardScaler, LabelEncoder\n",
    "from sklearn.metrics import precision_score, recall_score, f1_score\n",
    "from sklearn.model_selection import cross_val_predict, cross_val_score\n",
    "from sklearn.metrics import confusion_matrix, classification_report\n",
    "from sklearn.metrics import roc_curve, auc"
   ]
  },
  {
   "cell_type": "markdown",
   "id": "db800068",
   "metadata": {},
   "source": [
    "# Importing and reading data"
   ]
  },
  {
   "cell_type": "code",
   "execution_count": 4,
   "id": "4789dc40",
   "metadata": {},
   "outputs": [],
   "source": [
    "#Defining path for oversampling data with nan columns droped\n",
    "path=Path('Resources/Cleaned_data/over_samp_col.csv')"
   ]
  },
  {
   "cell_type": "code",
   "execution_count": 6,
   "id": "ecdd2364",
   "metadata": {},
   "outputs": [
    {
     "data": {
      "text/html": [
       "<div>\n",
       "<style scoped>\n",
       "    .dataframe tbody tr th:only-of-type {\n",
       "        vertical-align: middle;\n",
       "    }\n",
       "\n",
       "    .dataframe tbody tr th {\n",
       "        vertical-align: top;\n",
       "    }\n",
       "\n",
       "    .dataframe thead th {\n",
       "        text-align: right;\n",
       "    }\n",
       "</style>\n",
       "<table border=\"1\" class=\"dataframe\">\n",
       "  <thead>\n",
       "    <tr style=\"text-align: right;\">\n",
       "      <th></th>\n",
       "      <th>name</th>\n",
       "      <th>dob</th>\n",
       "      <th>houseID</th>\n",
       "      <th>houseZip</th>\n",
       "      <th>paymentDate</th>\n",
       "      <th>paymentAmount</th>\n",
       "      <th>rentAmount</th>\n",
       "      <th>age</th>\n",
       "      <th>city</th>\n",
       "      <th>county</th>\n",
       "      <th>state</th>\n",
       "      <th>status</th>\n",
       "    </tr>\n",
       "  </thead>\n",
       "  <tbody>\n",
       "    <tr>\n",
       "      <th>0</th>\n",
       "      <td>Karima Germany</td>\n",
       "      <td>1951-05-23</td>\n",
       "      <td>1192</td>\n",
       "      <td>92154</td>\n",
       "      <td>1</td>\n",
       "      <td>1321.0</td>\n",
       "      <td>1321.0</td>\n",
       "      <td>71</td>\n",
       "      <td>San Diego</td>\n",
       "      <td>San Diego County</td>\n",
       "      <td>CA</td>\n",
       "      <td>low risk</td>\n",
       "    </tr>\n",
       "    <tr>\n",
       "      <th>1</th>\n",
       "      <td>Agustina Spargo</td>\n",
       "      <td>1900-01-01</td>\n",
       "      <td>21</td>\n",
       "      <td>92111</td>\n",
       "      <td>1</td>\n",
       "      <td>2289.0</td>\n",
       "      <td>2289.0</td>\n",
       "      <td>122</td>\n",
       "      <td>San Diego</td>\n",
       "      <td>San Diego County</td>\n",
       "      <td>CA</td>\n",
       "      <td>low risk</td>\n",
       "    </tr>\n",
       "    <tr>\n",
       "      <th>2</th>\n",
       "      <td>Lucilla Broderick</td>\n",
       "      <td>1900-01-01</td>\n",
       "      <td>1474</td>\n",
       "      <td>92159</td>\n",
       "      <td>1</td>\n",
       "      <td>1439.0</td>\n",
       "      <td>1439.0</td>\n",
       "      <td>122</td>\n",
       "      <td>San Diego</td>\n",
       "      <td>San Diego County</td>\n",
       "      <td>CA</td>\n",
       "      <td>low risk</td>\n",
       "    </tr>\n",
       "    <tr>\n",
       "      <th>3</th>\n",
       "      <td>Russ Mchale</td>\n",
       "      <td>1977-04-20</td>\n",
       "      <td>2015</td>\n",
       "      <td>92137</td>\n",
       "      <td>1</td>\n",
       "      <td>1744.0</td>\n",
       "      <td>1744.0</td>\n",
       "      <td>45</td>\n",
       "      <td>San Diego</td>\n",
       "      <td>San Diego County</td>\n",
       "      <td>CA</td>\n",
       "      <td>low risk</td>\n",
       "    </tr>\n",
       "    <tr>\n",
       "      <th>4</th>\n",
       "      <td>Carmelita Ritzer</td>\n",
       "      <td>1969-03-09</td>\n",
       "      <td>311</td>\n",
       "      <td>92136</td>\n",
       "      <td>1</td>\n",
       "      <td>1471.0</td>\n",
       "      <td>1471.0</td>\n",
       "      <td>53</td>\n",
       "      <td>San Diego</td>\n",
       "      <td>San Diego County</td>\n",
       "      <td>CA</td>\n",
       "      <td>low risk</td>\n",
       "    </tr>\n",
       "  </tbody>\n",
       "</table>\n",
       "</div>"
      ],
      "text/plain": [
       "                name         dob  houseID  houseZip  paymentDate  \\\n",
       "0     Karima Germany  1951-05-23     1192     92154            1   \n",
       "1    Agustina Spargo  1900-01-01       21     92111            1   \n",
       "2  Lucilla Broderick  1900-01-01     1474     92159            1   \n",
       "3        Russ Mchale  1977-04-20     2015     92137            1   \n",
       "4   Carmelita Ritzer  1969-03-09      311     92136            1   \n",
       "\n",
       "   paymentAmount  rentAmount  age       city            county state    status  \n",
       "0         1321.0      1321.0   71  San Diego  San Diego County    CA  low risk  \n",
       "1         2289.0      2289.0  122  San Diego  San Diego County    CA  low risk  \n",
       "2         1439.0      1439.0  122  San Diego  San Diego County    CA  low risk  \n",
       "3         1744.0      1744.0   45  San Diego  San Diego County    CA  low risk  \n",
       "4         1471.0      1471.0   53  San Diego  San Diego County    CA  low risk  "
      ]
     },
     "execution_count": 6,
     "metadata": {},
     "output_type": "execute_result"
    }
   ],
   "source": [
    "#importing over sampling dataset\n",
    "df = pd.read_csv(path)\n",
    "#looking the few rows\n",
    "df.head()"
   ]
  },
  {
   "cell_type": "code",
   "execution_count": 7,
   "id": "55f57495",
   "metadata": {},
   "outputs": [
    {
     "data": {
      "text/plain": [
       "low risk     52640\n",
       "high risk    52640\n",
       "Name: status, dtype: int64"
      ]
     },
     "execution_count": 7,
     "metadata": {},
     "output_type": "execute_result"
    }
   ],
   "source": [
    "# looking the status columns\n",
    "df.status.value_counts()"
   ]
  },
  {
   "cell_type": "markdown",
   "id": "eed64a81",
   "metadata": {},
   "source": [
    "## Since many has date of birth as 1900-01-01, which is missing date of birth. \n",
    "### As missing date of birth cannot be gussed we neeed to remove it."
   ]
  },
  {
   "cell_type": "code",
   "execution_count": 8,
   "id": "895cafa8",
   "metadata": {},
   "outputs": [],
   "source": [
    "# Filtering the age between 1 and 100\n",
    "df=df.loc[(df['age']>1) & (df['age']<100)]"
   ]
  },
  {
   "cell_type": "code",
   "execution_count": 9,
   "id": "52bb9d6e",
   "metadata": {},
   "outputs": [
    {
     "data": {
      "text/html": [
       "<div>\n",
       "<style scoped>\n",
       "    .dataframe tbody tr th:only-of-type {\n",
       "        vertical-align: middle;\n",
       "    }\n",
       "\n",
       "    .dataframe tbody tr th {\n",
       "        vertical-align: top;\n",
       "    }\n",
       "\n",
       "    .dataframe thead th {\n",
       "        text-align: right;\n",
       "    }\n",
       "</style>\n",
       "<table border=\"1\" class=\"dataframe\">\n",
       "  <thead>\n",
       "    <tr style=\"text-align: right;\">\n",
       "      <th></th>\n",
       "      <th>name</th>\n",
       "      <th>dob</th>\n",
       "      <th>houseID</th>\n",
       "      <th>houseZip</th>\n",
       "      <th>paymentDate</th>\n",
       "      <th>paymentAmount</th>\n",
       "      <th>rentAmount</th>\n",
       "      <th>age</th>\n",
       "      <th>city</th>\n",
       "      <th>county</th>\n",
       "      <th>state</th>\n",
       "      <th>status</th>\n",
       "    </tr>\n",
       "  </thead>\n",
       "  <tbody>\n",
       "    <tr>\n",
       "      <th>0</th>\n",
       "      <td>Karima Germany</td>\n",
       "      <td>1951-05-23</td>\n",
       "      <td>1192</td>\n",
       "      <td>92154</td>\n",
       "      <td>1</td>\n",
       "      <td>1321.0</td>\n",
       "      <td>1321.0</td>\n",
       "      <td>71</td>\n",
       "      <td>San Diego</td>\n",
       "      <td>San Diego County</td>\n",
       "      <td>CA</td>\n",
       "      <td>low risk</td>\n",
       "    </tr>\n",
       "    <tr>\n",
       "      <th>3</th>\n",
       "      <td>Russ Mchale</td>\n",
       "      <td>1977-04-20</td>\n",
       "      <td>2015</td>\n",
       "      <td>92137</td>\n",
       "      <td>1</td>\n",
       "      <td>1744.0</td>\n",
       "      <td>1744.0</td>\n",
       "      <td>45</td>\n",
       "      <td>San Diego</td>\n",
       "      <td>San Diego County</td>\n",
       "      <td>CA</td>\n",
       "      <td>low risk</td>\n",
       "    </tr>\n",
       "    <tr>\n",
       "      <th>4</th>\n",
       "      <td>Carmelita Ritzer</td>\n",
       "      <td>1969-03-09</td>\n",
       "      <td>311</td>\n",
       "      <td>92136</td>\n",
       "      <td>1</td>\n",
       "      <td>1471.0</td>\n",
       "      <td>1471.0</td>\n",
       "      <td>53</td>\n",
       "      <td>San Diego</td>\n",
       "      <td>San Diego County</td>\n",
       "      <td>CA</td>\n",
       "      <td>low risk</td>\n",
       "    </tr>\n",
       "    <tr>\n",
       "      <th>5</th>\n",
       "      <td>Clifton Ellwood</td>\n",
       "      <td>1993-11-02</td>\n",
       "      <td>430</td>\n",
       "      <td>92103</td>\n",
       "      <td>1</td>\n",
       "      <td>1233.0</td>\n",
       "      <td>1233.0</td>\n",
       "      <td>29</td>\n",
       "      <td>San Diego</td>\n",
       "      <td>San Diego County</td>\n",
       "      <td>CA</td>\n",
       "      <td>low risk</td>\n",
       "    </tr>\n",
       "    <tr>\n",
       "      <th>8</th>\n",
       "      <td>Lashawn Rotella</td>\n",
       "      <td>1985-12-05</td>\n",
       "      <td>1336</td>\n",
       "      <td>92190</td>\n",
       "      <td>1</td>\n",
       "      <td>1930.0</td>\n",
       "      <td>1930.0</td>\n",
       "      <td>37</td>\n",
       "      <td>San Diego</td>\n",
       "      <td>San Diego County</td>\n",
       "      <td>CA</td>\n",
       "      <td>low risk</td>\n",
       "    </tr>\n",
       "  </tbody>\n",
       "</table>\n",
       "</div>"
      ],
      "text/plain": [
       "               name         dob  houseID  houseZip  paymentDate  \\\n",
       "0    Karima Germany  1951-05-23     1192     92154            1   \n",
       "3       Russ Mchale  1977-04-20     2015     92137            1   \n",
       "4  Carmelita Ritzer  1969-03-09      311     92136            1   \n",
       "5   Clifton Ellwood  1993-11-02      430     92103            1   \n",
       "8   Lashawn Rotella  1985-12-05     1336     92190            1   \n",
       "\n",
       "   paymentAmount  rentAmount  age       city            county state    status  \n",
       "0         1321.0      1321.0   71  San Diego  San Diego County    CA  low risk  \n",
       "3         1744.0      1744.0   45  San Diego  San Diego County    CA  low risk  \n",
       "4         1471.0      1471.0   53  San Diego  San Diego County    CA  low risk  \n",
       "5         1233.0      1233.0   29  San Diego  San Diego County    CA  low risk  \n",
       "8         1930.0      1930.0   37  San Diego  San Diego County    CA  low risk  "
      ]
     },
     "execution_count": 9,
     "metadata": {},
     "output_type": "execute_result"
    }
   ],
   "source": [
    "#looking the few rows\n",
    "df.head()"
   ]
  },
  {
   "cell_type": "code",
   "execution_count": 11,
   "id": "6477a29b",
   "metadata": {},
   "outputs": [
    {
     "data": {
      "text/plain": [
       "low risk     26335\n",
       "high risk    25670\n",
       "Name: status, dtype: int64"
      ]
     },
     "execution_count": 11,
     "metadata": {},
     "output_type": "execute_result"
    }
   ],
   "source": [
    "# looking the status columns after dropping nan date of birth\n",
    "df[\"status\"].value_counts()"
   ]
  },
  {
   "cell_type": "code",
   "execution_count": 12,
   "id": "c2f2dd76",
   "metadata": {},
   "outputs": [
    {
     "data": {
      "text/plain": [
       "(52005, 12)"
      ]
     },
     "execution_count": 12,
     "metadata": {},
     "output_type": "execute_result"
    }
   ],
   "source": [
    "#shape of dataframe\n",
    "df.shape"
   ]
  },
  {
   "cell_type": "code",
   "execution_count": 13,
   "id": "bb9eee19",
   "metadata": {},
   "outputs": [
    {
     "data": {
      "text/plain": [
       "Index(['name', 'dob', 'houseID', 'houseZip', 'paymentDate', 'paymentAmount',\n",
       "       'rentAmount', 'age', 'city', 'county', 'state', 'status'],\n",
       "      dtype='object')"
      ]
     },
     "execution_count": 13,
     "metadata": {},
     "output_type": "execute_result"
    }
   ],
   "source": [
    "#Columns of the dataframe\n",
    "df.columns"
   ]
  },
  {
   "cell_type": "markdown",
   "id": "b2699333",
   "metadata": {},
   "source": [
    "# Making feature matrix and target"
   ]
  },
  {
   "cell_type": "code",
   "execution_count": 14,
   "id": "891a2658",
   "metadata": {},
   "outputs": [],
   "source": [
    "# Only selecting important columns for machine learning\n",
    "rent_df=df[[ 'houseZip', 'paymentDate', 'paymentAmount','rentAmount', 'age', 'status']]"
   ]
  },
  {
   "cell_type": "code",
   "execution_count": 15,
   "id": "f3b79e32",
   "metadata": {},
   "outputs": [],
   "source": [
    "# Creating feature matrix (X) by selecting all columns except 'status'\n",
    "X=rent_df.drop('status', axis=1) \n",
    "\n",
    "# Creating response vector (y) by selecting 'status' column and converting to numpy\n",
    "y=rent_df['status'].values "
   ]
  },
  {
   "cell_type": "code",
   "execution_count": 16,
   "id": "b2430eb8",
   "metadata": {},
   "outputs": [
    {
     "data": {
      "text/html": [
       "<div>\n",
       "<style scoped>\n",
       "    .dataframe tbody tr th:only-of-type {\n",
       "        vertical-align: middle;\n",
       "    }\n",
       "\n",
       "    .dataframe tbody tr th {\n",
       "        vertical-align: top;\n",
       "    }\n",
       "\n",
       "    .dataframe thead th {\n",
       "        text-align: right;\n",
       "    }\n",
       "</style>\n",
       "<table border=\"1\" class=\"dataframe\">\n",
       "  <thead>\n",
       "    <tr style=\"text-align: right;\">\n",
       "      <th></th>\n",
       "      <th>houseZip</th>\n",
       "      <th>paymentDate</th>\n",
       "      <th>paymentAmount</th>\n",
       "      <th>rentAmount</th>\n",
       "      <th>age</th>\n",
       "    </tr>\n",
       "  </thead>\n",
       "  <tbody>\n",
       "    <tr>\n",
       "      <th>0</th>\n",
       "      <td>92154</td>\n",
       "      <td>1</td>\n",
       "      <td>1321.0</td>\n",
       "      <td>1321.0</td>\n",
       "      <td>71</td>\n",
       "    </tr>\n",
       "    <tr>\n",
       "      <th>3</th>\n",
       "      <td>92137</td>\n",
       "      <td>1</td>\n",
       "      <td>1744.0</td>\n",
       "      <td>1744.0</td>\n",
       "      <td>45</td>\n",
       "    </tr>\n",
       "    <tr>\n",
       "      <th>4</th>\n",
       "      <td>92136</td>\n",
       "      <td>1</td>\n",
       "      <td>1471.0</td>\n",
       "      <td>1471.0</td>\n",
       "      <td>53</td>\n",
       "    </tr>\n",
       "    <tr>\n",
       "      <th>5</th>\n",
       "      <td>92103</td>\n",
       "      <td>1</td>\n",
       "      <td>1233.0</td>\n",
       "      <td>1233.0</td>\n",
       "      <td>29</td>\n",
       "    </tr>\n",
       "    <tr>\n",
       "      <th>8</th>\n",
       "      <td>92190</td>\n",
       "      <td>1</td>\n",
       "      <td>1930.0</td>\n",
       "      <td>1930.0</td>\n",
       "      <td>37</td>\n",
       "    </tr>\n",
       "  </tbody>\n",
       "</table>\n",
       "</div>"
      ],
      "text/plain": [
       "   houseZip  paymentDate  paymentAmount  rentAmount  age\n",
       "0     92154            1         1321.0      1321.0   71\n",
       "3     92137            1         1744.0      1744.0   45\n",
       "4     92136            1         1471.0      1471.0   53\n",
       "5     92103            1         1233.0      1233.0   29\n",
       "8     92190            1         1930.0      1930.0   37"
      ]
     },
     "execution_count": 16,
     "metadata": {},
     "output_type": "execute_result"
    }
   ],
   "source": [
    "#looking the few rows of X datafrmae\n",
    "X.head()"
   ]
  },
  {
   "cell_type": "markdown",
   "id": "9713eaf1",
   "metadata": {},
   "source": [
    "# Converting the categorical data to binary"
   ]
  },
  {
   "cell_type": "code",
   "execution_count": 18,
   "id": "0ecd6f30",
   "metadata": {},
   "outputs": [
    {
     "data": {
      "text/plain": [
       "Index(['paymentDate', 'paymentAmount', 'rentAmount', 'age', 'houseZip_92101',\n",
       "       'houseZip_92102', 'houseZip_92103', 'houseZip_92104', 'houseZip_92105',\n",
       "       'houseZip_92106', 'houseZip_92107', 'houseZip_92108', 'houseZip_92109',\n",
       "       'houseZip_92110', 'houseZip_92111', 'houseZip_92112', 'houseZip_92113',\n",
       "       'houseZip_92114', 'houseZip_92115', 'houseZip_92116', 'houseZip_92117',\n",
       "       'houseZip_92119', 'houseZip_92120', 'houseZip_92121', 'houseZip_92122',\n",
       "       'houseZip_92123', 'houseZip_92124', 'houseZip_92126', 'houseZip_92127',\n",
       "       'houseZip_92128', 'houseZip_92129', 'houseZip_92130', 'houseZip_92131',\n",
       "       'houseZip_92132', 'houseZip_92133', 'houseZip_92134', 'houseZip_92135',\n",
       "       'houseZip_92136', 'houseZip_92137', 'houseZip_92138', 'houseZip_92139',\n",
       "       'houseZip_92140', 'houseZip_92142', 'houseZip_92145', 'houseZip_92147',\n",
       "       'houseZip_92149', 'houseZip_92150', 'houseZip_92152', 'houseZip_92153',\n",
       "       'houseZip_92154', 'houseZip_92155', 'houseZip_92158', 'houseZip_92159',\n",
       "       'houseZip_92160', 'houseZip_92161', 'houseZip_92162', 'houseZip_92163',\n",
       "       'houseZip_92164', 'houseZip_92165', 'houseZip_92166', 'houseZip_92167',\n",
       "       'houseZip_92168', 'houseZip_92169', 'houseZip_92170', 'houseZip_92171',\n",
       "       'houseZip_92172', 'houseZip_92174', 'houseZip_92175', 'houseZip_92176',\n",
       "       'houseZip_92177', 'houseZip_92179', 'houseZip_92182', 'houseZip_92184',\n",
       "       'houseZip_92186', 'houseZip_92187', 'houseZip_92190', 'houseZip_92191',\n",
       "       'houseZip_92192', 'houseZip_92193', 'houseZip_92194', 'houseZip_92195',\n",
       "       'houseZip_92196', 'houseZip_92197', 'houseZip_92198', 'houseZip_92199'],\n",
       "      dtype='object')"
      ]
     },
     "execution_count": 18,
     "metadata": {},
     "output_type": "execute_result"
    }
   ],
   "source": [
    "# Using pd.get_dummies to the zipcode \n",
    "X_dummies = pd.get_dummies(X, columns = ['houseZip'])\n",
    "\n",
    "# Columns of X after dummies\n",
    "X_dummies.columns\n"
   ]
  },
  {
   "cell_type": "code",
   "execution_count": 22,
   "id": "e06418c7",
   "metadata": {},
   "outputs": [
    {
     "name": "stdout",
     "output_type": "stream",
     "text": [
      "Total column before: 5\n",
      "Total columns after: 85\n"
     ]
    }
   ],
   "source": [
    "#Total columns before and after get_dummies\n",
    "print(f'Total column before: {X.shape[1]}\\nTotal columns after: {X_dummies.shape[1]}')"
   ]
  },
  {
   "cell_type": "code",
   "execution_count": 23,
   "id": "4011f681",
   "metadata": {},
   "outputs": [
    {
     "data": {
      "text/plain": [
       "array([1, 1, 1, ..., 0, 0, 0])"
      ]
     },
     "execution_count": 23,
     "metadata": {},
     "output_type": "execute_result"
    }
   ],
   "source": [
    "# Converting output labels to 0 and 1\n",
    "y_label = LabelEncoder().fit_transform(y)\n",
    "y_label"
   ]
  },
  {
   "cell_type": "markdown",
   "id": "1f2e8aa8",
   "metadata": {},
   "source": [
    "# Spliting data for training set and testing set\n",
    "###  Training set: Used to train the classifier. (80 percent of the data)\n",
    "###  Testing set: Used to estimate the error rate of the trained classifier. (20 percent of data)"
   ]
  },
  {
   "cell_type": "code",
   "execution_count": 26,
   "id": "6f5fd2a1",
   "metadata": {},
   "outputs": [],
   "source": [
    "# Split using train test split \n",
    "X_train, X_test, y_train, y_test = train_test_split(X_dummies, y_label,stratify=y, random_state=42)"
   ]
  },
  {
   "cell_type": "markdown",
   "id": "84a17070",
   "metadata": {},
   "source": [
    "# Scaling the data to the same scale"
   ]
  },
  {
   "cell_type": "code",
   "execution_count": 27,
   "id": "448436f8",
   "metadata": {},
   "outputs": [],
   "source": [
    "# Using StandardScalr from scikit-lean for scaling the data\n",
    "scaler = StandardScaler().fit(X_train)"
   ]
  },
  {
   "cell_type": "code",
   "execution_count": 28,
   "id": "c6b1ff5d",
   "metadata": {},
   "outputs": [
    {
     "data": {
      "text/plain": [
       "array([[ 0.63906686, -3.17511235, -1.10547531, ..., -0.09488265,\n",
       "        -0.09945347, -0.09692476],\n",
       "       [ 0.63906686,  0.40932804,  0.73073554, ..., -0.09488265,\n",
       "        -0.09945347, -0.09692476],\n",
       "       [-1.56478149,  0.31821575, -0.11674639, ..., -0.09488265,\n",
       "        -0.09945347, -0.09692476],\n",
       "       ...,\n",
       "       [-1.56478149,  0.14634483, -0.34787782, ..., -0.09488265,\n",
       "        -0.09945347, -0.09692476],\n",
       "       [ 0.63906686, -0.06279929, -0.43776227, ..., -0.09488265,\n",
       "        -0.09945347, -0.09692476],\n",
       "       [ 0.63906686, -0.3382069 , -0.42813179, ..., -0.09488265,\n",
       "        -0.09945347, -0.09692476]])"
      ]
     },
     "execution_count": 28,
     "metadata": {},
     "output_type": "execute_result"
    }
   ],
   "source": [
    "# Scaling the X data by using StandardScaler()\n",
    "X_train_scaled = scaler.transform(X_train)\n",
    "X_train_scaled"
   ]
  },
  {
   "cell_type": "code",
   "execution_count": 29,
   "id": "8e3fc3fa",
   "metadata": {},
   "outputs": [
    {
     "data": {
      "text/plain": [
       "array([[ 0.63906686,  0.24159859,  0.47071268, ..., -0.09488265,\n",
       "        -0.09945347, -0.09692476],\n",
       "       [ 0.63906686,  1.21691426,  0.62159014, ..., -0.09488265,\n",
       "        -0.09945347, -0.09692476],\n",
       "       [-1.56478149, -0.47487534, -1.18572928, ..., -0.09488265,\n",
       "        -0.09945347, -0.09692476],\n",
       "       ...,\n",
       "       [ 0.63906686, -0.52664369, -0.72025625, ..., -0.09488265,\n",
       "        -0.09945347, -0.09692476],\n",
       "       [ 0.63906686, -0.71508047, -1.35907785, ..., -0.09488265,\n",
       "        -0.09945347, -0.09692476],\n",
       "       [ 0.63906686,  1.32045096,  1.51080413, ..., -0.09488265,\n",
       "        -0.09945347, -0.09692476]])"
      ]
     },
     "execution_count": 29,
     "metadata": {},
     "output_type": "execute_result"
    }
   ],
   "source": [
    "# Transforming the test dataset \n",
    "X_test_scaled = scaler.transform(X_test)\n",
    "X_test_scaled"
   ]
  },
  {
   "cell_type": "markdown",
   "id": "7f7af41b",
   "metadata": {},
   "source": [
    "# Making function for Model accuracy \n",
    "## Function that use only training set\n",
    "## Function that use both traingin set and testing set ( Only used at the last of ml section)"
   ]
  },
  {
   "cell_type": "code",
   "execution_count": 30,
   "id": "60505036",
   "metadata": {},
   "outputs": [],
   "source": [
    "#defining function for model scoring with training set only\n",
    "def training_score(model, X_train_scaled=X_train_scaled, y_train=y_train):\n",
    "    #Printing the accuracy score\n",
    "    train_score=model.score(X_train_scaled, y_train)\n",
    "    print(f'The training score of {model} model is {train_score}')\n",
    "    print()\n",
    "    print()\n",
    "    # Using cross validation \n",
    "    cvs=cross_val_score(model,X_train_scaled, y_train,cv=5, scoring='accuracy' )\n",
    "    print(f'Using k=5 cross validation the accuracy is {cvs}')\n",
    "    print(f'Using k=5 cross validation the mean accuracy is {np.mean(cvs)}')\n",
    "    print()\n",
    "    print()\n",
    "    #predection on the test set and confusion matrix\n",
    "    y_train_pred=cross_val_predict(model,X_train_scaled, y_train,cv=3)\n",
    "    cm=confusion_matrix(y_train, y_train_pred)\n",
    "    print(f'Confusion Matrix using Cross validation predict is:\\n {cm}')\n",
    "    print()\n",
    "    print()\n",
    "    #classification report\n",
    "    cr=classification_report(y_train, y_train_pred)\n",
    "    print(f'Classification report is:\\n {cr}')\n",
    "    print()\n",
    "    print()\n",
    "    #Roc curve\n",
    "    y_train_predc=cross_val_predict(model,X_train_scaled, y_train,cv=5,method=\"predict_proba\")\n",
    "    y_proba = y_train_predc[:,1]  #proba of positive class\n",
    "    fpr, tpr, thresholds = roc_curve(y_train, y_proba)\n",
    "    # Plotting the roc curve\n",
    "    plt.figure()\n",
    "    plt.plot(fpr, tpr, color='darkorange')\n",
    "    plt.plot([0, 1], [0, 1], color='navy', linestyle='--')\n",
    "    plt.xlim([0.0, 1.0])\n",
    "    plt.ylim([0.0, 1.05])\n",
    "    plt.xlabel('False Positive Rate')\n",
    "    plt.ylabel('True Positive Rate')\n",
    "    plt.title(f\"roc curve for {model}\")\n",
    "    print(f\"The ROC Curve using {model} model\")\n",
    "    plt.show()\n",
    "    print()\n",
    "    # Area under the curve (AUC)\n",
    "    auc = auc(fpr, tpr)\n",
    "    print(f'The are under the curve is: {auc}')\n"
   ]
  },
  {
   "cell_type": "code",
   "execution_count": 31,
   "id": "8262acf3",
   "metadata": {},
   "outputs": [],
   "source": [
    "#defining function for model scoring with test set\n",
    "def train_test_score(model, X_train_scaled=X_train_scaled, X_test_scaled=X_test_scaled, \n",
    "               y_train=y_train,y_test=y_test):\n",
    "    #Accuracy score\n",
    "    train_score=model.score(X_train_scaled, y_train)\n",
    "    test_score=model.score(X_test_scaled, y_test)\n",
    "    print(f'The training score of {model} model is {train_score}')\n",
    "    print(f'The testing score of {model} model is {test_score}')\n",
    "    print()\n",
    "    print()\n",
    "    #Confusion matrix\n",
    "    y_pred=model.predict(X_test_scaled)\n",
    "    cm=confusion_matrix(y_test, y_pred)\n",
    "    print(f'Confusion Matrix by predicting using test data is:\\n {cm}')\n",
    "    print()\n",
    "    print()\n",
    "    #classification report\n",
    "    cr=classification_report(y_test, y_pred)\n",
    "    print(f'Classification report is:\\n {cr}')\n",
    "    print()\n",
    "    print()\n",
    "    #roc curve\n",
    "    y_proba = model.predict_proba(X_test_scaled)[:,1]  #proba of positive class\n",
    "    fpr, tpr, thresholds = roc_curve(y_test, y_proba)\n",
    "    plt.figure()\n",
    "    plt.plot(fpr, tpr, color='darkorange')\n",
    "    plt.plot([0, 1], [0, 1], color='navy', linestyle='--')\n",
    "    plt.xlim([0.0, 1.0])\n",
    "    plt.ylim([0.0, 1.05])\n",
    "    plt.xlabel('False Positive Rate')\n",
    "    plt.ylabel('True Positive Rate')\n",
    "    plt.title(f\"roc curve for {model}\")\n",
    "    print(f\"The ROC Curve using {model} model\")\n",
    "    plt.show()\n",
    "    # Area under the curve (AUC)\n",
    "    roc_auc = auc(fpr, tpr)\n",
    "    print()\n",
    "    print(f'The are under the curve is: {auc}')"
   ]
  },
  {
   "cell_type": "code",
   "execution_count": 33,
   "id": "d291c7dc",
   "metadata": {},
   "outputs": [],
   "source": [
    "#defining function for model scoring \n",
    "def model_score(model, X_train_scaled=X_train_scaled, X_test_scaled=X_test_scaled, \n",
    "               y_train=y_train,y_test=y_test):\n",
    "    #training score\n",
    "    train_score=model.score(X_train_scaled, y_train)\n",
    "    #testing score\n",
    "    test_score=model.score(X_test_scaled, y_test)\n",
    "    #prediction on test data\n",
    "    y_pred=model.predict(X_test_scaled)\n",
    "    #Precission score\n",
    "    Precision_score=precision_score(y_test, y_pred)\n",
    "    #Recall\n",
    "    Recall_score=recall_score(y_test, y_pred)\n",
    "    #f1-score\n",
    "    F1_score=f1_score(y_test, y_pred)\n",
    "    #Area under the curve\n",
    "    y_proba = model.predict_proba(X_test_scaled)[:,1]  #proba of positive class\n",
    "    fpr, tpr, thresholds = roc_curve(y_test, y_proba)\n",
    "    \n",
    "    roc_auc = auc(fpr, tpr)\n",
    "    result=[train_score, test_score, Precision_score, Recall_score,F1_score, roc_auc ]\n",
    "    return result"
   ]
  },
  {
   "cell_type": "code",
   "execution_count": null,
   "id": "a5577281",
   "metadata": {},
   "outputs": [],
   "source": []
  }
 ],
 "metadata": {
  "kernelspec": {
   "display_name": "Python 3 (ipykernel)",
   "language": "python",
   "name": "python3"
  },
  "language_info": {
   "codemirror_mode": {
    "name": "ipython",
    "version": 3
   },
   "file_extension": ".py",
   "mimetype": "text/x-python",
   "name": "python",
   "nbconvert_exporter": "python",
   "pygments_lexer": "ipython3",
   "version": "3.8.10"
  }
 },
 "nbformat": 4,
 "nbformat_minor": 5
}
