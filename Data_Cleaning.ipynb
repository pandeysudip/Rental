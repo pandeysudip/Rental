{
 "cells": [
  {
   "cell_type": "markdown",
   "id": "b376d9ee",
   "metadata": {},
   "source": [
    "# Data Importing and Data Preparation"
   ]
  },
  {
   "cell_type": "code",
   "execution_count": 33,
   "id": "92b14ade",
   "metadata": {},
   "outputs": [],
   "source": [
    "# Dependencies and setup\n",
    "import numpy as np\n",
    "import pandas as pd\n",
    "from pathlib import Path\n",
    "import matplotlib.pyplot as plt\n",
    "import seaborn as sns\n",
    "import csv\n",
    "from datetime import date"
   ]
  },
  {
   "cell_type": "code",
   "execution_count": 18,
   "id": "c7c73c88",
   "metadata": {},
   "outputs": [],
   "source": [
    "# defining data path\n",
    "path=Path('Resources/Raw_data/testData.csv')"
   ]
  },
  {
   "cell_type": "code",
   "execution_count": 19,
   "id": "07fe6ac0",
   "metadata": {},
   "outputs": [
    {
     "ename": "ParserError",
     "evalue": "Error tokenizing data. C error: Expected 7 fields in line 172, saw 8\n",
     "output_type": "error",
     "traceback": [
      "\u001b[0;31m---------------------------------------------------------------------------\u001b[0m",
      "\u001b[0;31mParserError\u001b[0m                               Traceback (most recent call last)",
      "\u001b[0;32m/var/folders/ld/_spx9cwj74z4zm921xp1zssh0000gn/T/ipykernel_70668/732404320.py\u001b[0m in \u001b[0;36m<module>\u001b[0;34m\u001b[0m\n\u001b[1;32m      1\u001b[0m \u001b[0;31m# Reading data source using pandas\u001b[0m\u001b[0;34m\u001b[0m\u001b[0;34m\u001b[0m\u001b[0;34m\u001b[0m\u001b[0m\n\u001b[0;32m----> 2\u001b[0;31m \u001b[0mrent_df\u001b[0m\u001b[0;34m=\u001b[0m\u001b[0mpd\u001b[0m\u001b[0;34m.\u001b[0m\u001b[0mread_csv\u001b[0m\u001b[0;34m(\u001b[0m\u001b[0mpath\u001b[0m\u001b[0;34m)\u001b[0m\u001b[0;34m\u001b[0m\u001b[0;34m\u001b[0m\u001b[0m\n\u001b[0m",
      "\u001b[0;32m~/opt/anaconda3/lib/python3.8/site-packages/pandas/util/_decorators.py\u001b[0m in \u001b[0;36mwrapper\u001b[0;34m(*args, **kwargs)\u001b[0m\n\u001b[1;32m    309\u001b[0m                     \u001b[0mstacklevel\u001b[0m\u001b[0;34m=\u001b[0m\u001b[0mstacklevel\u001b[0m\u001b[0;34m,\u001b[0m\u001b[0;34m\u001b[0m\u001b[0;34m\u001b[0m\u001b[0m\n\u001b[1;32m    310\u001b[0m                 )\n\u001b[0;32m--> 311\u001b[0;31m             \u001b[0;32mreturn\u001b[0m \u001b[0mfunc\u001b[0m\u001b[0;34m(\u001b[0m\u001b[0;34m*\u001b[0m\u001b[0margs\u001b[0m\u001b[0;34m,\u001b[0m \u001b[0;34m**\u001b[0m\u001b[0mkwargs\u001b[0m\u001b[0;34m)\u001b[0m\u001b[0;34m\u001b[0m\u001b[0;34m\u001b[0m\u001b[0m\n\u001b[0m\u001b[1;32m    312\u001b[0m \u001b[0;34m\u001b[0m\u001b[0m\n\u001b[1;32m    313\u001b[0m         \u001b[0;32mreturn\u001b[0m \u001b[0mwrapper\u001b[0m\u001b[0;34m\u001b[0m\u001b[0;34m\u001b[0m\u001b[0m\n",
      "\u001b[0;32m~/opt/anaconda3/lib/python3.8/site-packages/pandas/io/parsers/readers.py\u001b[0m in \u001b[0;36mread_csv\u001b[0;34m(filepath_or_buffer, sep, delimiter, header, names, index_col, usecols, squeeze, prefix, mangle_dupe_cols, dtype, engine, converters, true_values, false_values, skipinitialspace, skiprows, skipfooter, nrows, na_values, keep_default_na, na_filter, verbose, skip_blank_lines, parse_dates, infer_datetime_format, keep_date_col, date_parser, dayfirst, cache_dates, iterator, chunksize, compression, thousands, decimal, lineterminator, quotechar, quoting, doublequote, escapechar, comment, encoding, encoding_errors, dialect, error_bad_lines, warn_bad_lines, on_bad_lines, delim_whitespace, low_memory, memory_map, float_precision, storage_options)\u001b[0m\n\u001b[1;32m    584\u001b[0m     \u001b[0mkwds\u001b[0m\u001b[0;34m.\u001b[0m\u001b[0mupdate\u001b[0m\u001b[0;34m(\u001b[0m\u001b[0mkwds_defaults\u001b[0m\u001b[0;34m)\u001b[0m\u001b[0;34m\u001b[0m\u001b[0;34m\u001b[0m\u001b[0m\n\u001b[1;32m    585\u001b[0m \u001b[0;34m\u001b[0m\u001b[0m\n\u001b[0;32m--> 586\u001b[0;31m     \u001b[0;32mreturn\u001b[0m \u001b[0m_read\u001b[0m\u001b[0;34m(\u001b[0m\u001b[0mfilepath_or_buffer\u001b[0m\u001b[0;34m,\u001b[0m \u001b[0mkwds\u001b[0m\u001b[0;34m)\u001b[0m\u001b[0;34m\u001b[0m\u001b[0;34m\u001b[0m\u001b[0m\n\u001b[0m\u001b[1;32m    587\u001b[0m \u001b[0;34m\u001b[0m\u001b[0m\n\u001b[1;32m    588\u001b[0m \u001b[0;34m\u001b[0m\u001b[0m\n",
      "\u001b[0;32m~/opt/anaconda3/lib/python3.8/site-packages/pandas/io/parsers/readers.py\u001b[0m in \u001b[0;36m_read\u001b[0;34m(filepath_or_buffer, kwds)\u001b[0m\n\u001b[1;32m    486\u001b[0m \u001b[0;34m\u001b[0m\u001b[0m\n\u001b[1;32m    487\u001b[0m     \u001b[0;32mwith\u001b[0m \u001b[0mparser\u001b[0m\u001b[0;34m:\u001b[0m\u001b[0;34m\u001b[0m\u001b[0;34m\u001b[0m\u001b[0m\n\u001b[0;32m--> 488\u001b[0;31m         \u001b[0;32mreturn\u001b[0m \u001b[0mparser\u001b[0m\u001b[0;34m.\u001b[0m\u001b[0mread\u001b[0m\u001b[0;34m(\u001b[0m\u001b[0mnrows\u001b[0m\u001b[0;34m)\u001b[0m\u001b[0;34m\u001b[0m\u001b[0;34m\u001b[0m\u001b[0m\n\u001b[0m\u001b[1;32m    489\u001b[0m \u001b[0;34m\u001b[0m\u001b[0m\n\u001b[1;32m    490\u001b[0m \u001b[0;34m\u001b[0m\u001b[0m\n",
      "\u001b[0;32m~/opt/anaconda3/lib/python3.8/site-packages/pandas/io/parsers/readers.py\u001b[0m in \u001b[0;36mread\u001b[0;34m(self, nrows)\u001b[0m\n\u001b[1;32m   1045\u001b[0m     \u001b[0;32mdef\u001b[0m \u001b[0mread\u001b[0m\u001b[0;34m(\u001b[0m\u001b[0mself\u001b[0m\u001b[0;34m,\u001b[0m \u001b[0mnrows\u001b[0m\u001b[0;34m=\u001b[0m\u001b[0;32mNone\u001b[0m\u001b[0;34m)\u001b[0m\u001b[0;34m:\u001b[0m\u001b[0;34m\u001b[0m\u001b[0;34m\u001b[0m\u001b[0m\n\u001b[1;32m   1046\u001b[0m         \u001b[0mnrows\u001b[0m \u001b[0;34m=\u001b[0m \u001b[0mvalidate_integer\u001b[0m\u001b[0;34m(\u001b[0m\u001b[0;34m\"nrows\"\u001b[0m\u001b[0;34m,\u001b[0m \u001b[0mnrows\u001b[0m\u001b[0;34m)\u001b[0m\u001b[0;34m\u001b[0m\u001b[0;34m\u001b[0m\u001b[0m\n\u001b[0;32m-> 1047\u001b[0;31m         \u001b[0mindex\u001b[0m\u001b[0;34m,\u001b[0m \u001b[0mcolumns\u001b[0m\u001b[0;34m,\u001b[0m \u001b[0mcol_dict\u001b[0m \u001b[0;34m=\u001b[0m \u001b[0mself\u001b[0m\u001b[0;34m.\u001b[0m\u001b[0m_engine\u001b[0m\u001b[0;34m.\u001b[0m\u001b[0mread\u001b[0m\u001b[0;34m(\u001b[0m\u001b[0mnrows\u001b[0m\u001b[0;34m)\u001b[0m\u001b[0;34m\u001b[0m\u001b[0;34m\u001b[0m\u001b[0m\n\u001b[0m\u001b[1;32m   1048\u001b[0m \u001b[0;34m\u001b[0m\u001b[0m\n\u001b[1;32m   1049\u001b[0m         \u001b[0;32mif\u001b[0m \u001b[0mindex\u001b[0m \u001b[0;32mis\u001b[0m \u001b[0;32mNone\u001b[0m\u001b[0;34m:\u001b[0m\u001b[0;34m\u001b[0m\u001b[0;34m\u001b[0m\u001b[0m\n",
      "\u001b[0;32m~/opt/anaconda3/lib/python3.8/site-packages/pandas/io/parsers/c_parser_wrapper.py\u001b[0m in \u001b[0;36mread\u001b[0;34m(self, nrows)\u001b[0m\n\u001b[1;32m    221\u001b[0m         \u001b[0;32mtry\u001b[0m\u001b[0;34m:\u001b[0m\u001b[0;34m\u001b[0m\u001b[0;34m\u001b[0m\u001b[0m\n\u001b[1;32m    222\u001b[0m             \u001b[0;32mif\u001b[0m \u001b[0mself\u001b[0m\u001b[0;34m.\u001b[0m\u001b[0mlow_memory\u001b[0m\u001b[0;34m:\u001b[0m\u001b[0;34m\u001b[0m\u001b[0;34m\u001b[0m\u001b[0m\n\u001b[0;32m--> 223\u001b[0;31m                 \u001b[0mchunks\u001b[0m \u001b[0;34m=\u001b[0m \u001b[0mself\u001b[0m\u001b[0;34m.\u001b[0m\u001b[0m_reader\u001b[0m\u001b[0;34m.\u001b[0m\u001b[0mread_low_memory\u001b[0m\u001b[0;34m(\u001b[0m\u001b[0mnrows\u001b[0m\u001b[0;34m)\u001b[0m\u001b[0;34m\u001b[0m\u001b[0;34m\u001b[0m\u001b[0m\n\u001b[0m\u001b[1;32m    224\u001b[0m                 \u001b[0;31m# destructive to chunks\u001b[0m\u001b[0;34m\u001b[0m\u001b[0;34m\u001b[0m\u001b[0;34m\u001b[0m\u001b[0m\n\u001b[1;32m    225\u001b[0m                 \u001b[0mdata\u001b[0m \u001b[0;34m=\u001b[0m \u001b[0m_concatenate_chunks\u001b[0m\u001b[0;34m(\u001b[0m\u001b[0mchunks\u001b[0m\u001b[0;34m)\u001b[0m\u001b[0;34m\u001b[0m\u001b[0;34m\u001b[0m\u001b[0m\n",
      "\u001b[0;32m~/opt/anaconda3/lib/python3.8/site-packages/pandas/_libs/parsers.pyx\u001b[0m in \u001b[0;36mpandas._libs.parsers.TextReader.read_low_memory\u001b[0;34m()\u001b[0m\n",
      "\u001b[0;32m~/opt/anaconda3/lib/python3.8/site-packages/pandas/_libs/parsers.pyx\u001b[0m in \u001b[0;36mpandas._libs.parsers.TextReader._read_rows\u001b[0;34m()\u001b[0m\n",
      "\u001b[0;32m~/opt/anaconda3/lib/python3.8/site-packages/pandas/_libs/parsers.pyx\u001b[0m in \u001b[0;36mpandas._libs.parsers.TextReader._tokenize_rows\u001b[0;34m()\u001b[0m\n",
      "\u001b[0;32m~/opt/anaconda3/lib/python3.8/site-packages/pandas/_libs/parsers.pyx\u001b[0m in \u001b[0;36mpandas._libs.parsers.raise_parser_error\u001b[0;34m()\u001b[0m\n",
      "\u001b[0;31mParserError\u001b[0m: Error tokenizing data. C error: Expected 7 fields in line 172, saw 8\n"
     ]
    }
   ],
   "source": [
    "# Reading data source using pandas\n",
    "rent_df=pd.read_csv(path)"
   ]
  },
  {
   "cell_type": "markdown",
   "id": "1ad60b80",
   "metadata": {},
   "source": [
    "### Getting an error with 7 columns name but some rows have 8 columns. \n",
    "### Using CSV Reader to get the columns name and handaling this error so that can easily read with pandas"
   ]
  },
  {
   "cell_type": "code",
   "execution_count": 20,
   "id": "e5956bdd",
   "metadata": {},
   "outputs": [
    {
     "name": "stdout",
     "output_type": "stream",
     "text": [
      "['name', 'dob', 'houseID', 'houseZip', 'paymentDate', 'paymentAmount', 'rentAmount']\n"
     ]
    }
   ],
   "source": [
    "# Reading a csv file using CSV module for handaling error\n",
    "with open(path, 'r') as f:\n",
    "    csv_reader = csv.reader(f, delimiter=',')\n",
    "    columns = next(csv_reader)\n",
    "    print(columns)\n"
   ]
  },
  {
   "cell_type": "code",
   "execution_count": 21,
   "id": "6ec23e21",
   "metadata": {},
   "outputs": [],
   "source": [
    "# Defining the columns name(adding new column name \"extra\")\n",
    "names=columns+[\"extra\"]"
   ]
  },
  {
   "cell_type": "code",
   "execution_count": 22,
   "id": "bf705090",
   "metadata": {},
   "outputs": [],
   "source": [
    "# Reading data source using pandas read_csv\n",
    "rent_df=pd.read_csv(path, skiprows=1,names=names)"
   ]
  },
  {
   "cell_type": "markdown",
   "id": "edb9dcf0",
   "metadata": {},
   "source": [
    "## Looking some information of the dataframe"
   ]
  },
  {
   "cell_type": "code",
   "execution_count": 23,
   "id": "23cce8e7",
   "metadata": {},
   "outputs": [
    {
     "data": {
      "text/html": [
       "<div>\n",
       "<style scoped>\n",
       "    .dataframe tbody tr th:only-of-type {\n",
       "        vertical-align: middle;\n",
       "    }\n",
       "\n",
       "    .dataframe tbody tr th {\n",
       "        vertical-align: top;\n",
       "    }\n",
       "\n",
       "    .dataframe thead th {\n",
       "        text-align: right;\n",
       "    }\n",
       "</style>\n",
       "<table border=\"1\" class=\"dataframe\">\n",
       "  <thead>\n",
       "    <tr style=\"text-align: right;\">\n",
       "      <th></th>\n",
       "      <th>name</th>\n",
       "      <th>dob</th>\n",
       "      <th>houseID</th>\n",
       "      <th>houseZip</th>\n",
       "      <th>paymentDate</th>\n",
       "      <th>paymentAmount</th>\n",
       "      <th>rentAmount</th>\n",
       "      <th>extra</th>\n",
       "    </tr>\n",
       "  </thead>\n",
       "  <tbody>\n",
       "    <tr>\n",
       "      <th>0</th>\n",
       "      <td>Karima Germany</td>\n",
       "      <td>05/23/1951</td>\n",
       "      <td>1192</td>\n",
       "      <td>92154</td>\n",
       "      <td>11/01/2011</td>\n",
       "      <td>1321</td>\n",
       "      <td>1321.0</td>\n",
       "      <td>NaN</td>\n",
       "    </tr>\n",
       "    <tr>\n",
       "      <th>1</th>\n",
       "      <td>Agustina Spargo</td>\n",
       "      <td>01/01/1900</td>\n",
       "      <td>21</td>\n",
       "      <td>92111</td>\n",
       "      <td>20110906</td>\n",
       "      <td>2289</td>\n",
       "      <td>2289.0</td>\n",
       "      <td>NaN</td>\n",
       "    </tr>\n",
       "    <tr>\n",
       "      <th>2</th>\n",
       "      <td>Lucilla Broderick</td>\n",
       "      <td>01/01/1900</td>\n",
       "      <td>1474</td>\n",
       "      <td>92159</td>\n",
       "      <td>20111101</td>\n",
       "      <td>1439</td>\n",
       "      <td>1439.0</td>\n",
       "      <td>NaN</td>\n",
       "    </tr>\n",
       "    <tr>\n",
       "      <th>3</th>\n",
       "      <td>Russ Mchale</td>\n",
       "      <td>04/20/1977</td>\n",
       "      <td>2015</td>\n",
       "      <td>92137</td>\n",
       "      <td>20120701</td>\n",
       "      <td>1744</td>\n",
       "      <td>1744.0</td>\n",
       "      <td>NaN</td>\n",
       "    </tr>\n",
       "    <tr>\n",
       "      <th>4</th>\n",
       "      <td>Carmelita Ritzer</td>\n",
       "      <td>03/09/1969</td>\n",
       "      <td>311</td>\n",
       "      <td>92136</td>\n",
       "      <td>20110201</td>\n",
       "      <td>1471</td>\n",
       "      <td>1471.0</td>\n",
       "      <td>NaN</td>\n",
       "    </tr>\n",
       "  </tbody>\n",
       "</table>\n",
       "</div>"
      ],
      "text/plain": [
       "                name         dob houseID  houseZip paymentDate paymentAmount  \\\n",
       "0     Karima Germany  05/23/1951    1192     92154  11/01/2011          1321   \n",
       "1    Agustina Spargo  01/01/1900      21     92111    20110906          2289   \n",
       "2  Lucilla Broderick  01/01/1900    1474     92159    20111101          1439   \n",
       "3        Russ Mchale  04/20/1977    2015     92137    20120701          1744   \n",
       "4   Carmelita Ritzer  03/09/1969     311     92136    20110201          1471   \n",
       "\n",
       "   rentAmount  extra  \n",
       "0      1321.0    NaN  \n",
       "1      2289.0    NaN  \n",
       "2      1439.0    NaN  \n",
       "3      1744.0    NaN  \n",
       "4      1471.0    NaN  "
      ]
     },
     "execution_count": 23,
     "metadata": {},
     "output_type": "execute_result"
    }
   ],
   "source": [
    "#Looking top rows of rent_df dataframe\n",
    "rent_df.head()"
   ]
  },
  {
   "cell_type": "code",
   "execution_count": 24,
   "id": "338e7da0",
   "metadata": {},
   "outputs": [
    {
     "data": {
      "text/plain": [
       "Index(['name', 'dob', 'houseID', 'houseZip', 'paymentDate', 'paymentAmount',\n",
       "       'rentAmount', 'extra'],\n",
       "      dtype='object')"
      ]
     },
     "execution_count": 24,
     "metadata": {},
     "output_type": "execute_result"
    }
   ],
   "source": [
    "# Columns of rent_df dataframe\n",
    "rent_df.columns"
   ]
  },
  {
   "cell_type": "code",
   "execution_count": null,
   "id": "f6ba6e1c",
   "metadata": {},
   "outputs": [],
   "source": [
    "# Shape of rent_df datafrmae\n",
    "shape=rent_df.shape\n",
    "print(f'The number of rows are: {shape[0]}, number of columns are: {shape[1]}')"
   ]
  },
  {
   "cell_type": "code",
   "execution_count": 25,
   "id": "5c41b11d",
   "metadata": {},
   "outputs": [
    {
     "name": "stdout",
     "output_type": "stream",
     "text": [
      "<class 'pandas.core.frame.DataFrame'>\n",
      "RangeIndex: 59813 entries, 0 to 59812\n",
      "Data columns (total 8 columns):\n",
      " #   Column         Non-Null Count  Dtype  \n",
      "---  ------         --------------  -----  \n",
      " 0   name           56903 non-null  object \n",
      " 1   dob            59813 non-null  object \n",
      " 2   houseID        59813 non-null  object \n",
      " 3   houseZip       59813 non-null  int64  \n",
      " 4   paymentDate    59813 non-null  object \n",
      " 5   paymentAmount  59281 non-null  object \n",
      " 6   rentAmount     59775 non-null  float64\n",
      " 7   extra          2910 non-null   float64\n",
      "dtypes: float64(2), int64(1), object(5)\n",
      "memory usage: 3.7+ MB\n"
     ]
    }
   ],
   "source": [
    "#Information of the dataframe using .info()\n",
    "rent_df.info()"
   ]
  },
  {
   "cell_type": "code",
   "execution_count": 26,
   "id": "f72ae82c",
   "metadata": {},
   "outputs": [
    {
     "data": {
      "text/plain": [
       "name              2910\n",
       "dob                  0\n",
       "houseID              0\n",
       "houseZip             0\n",
       "paymentDate          0\n",
       "paymentAmount      532\n",
       "rentAmount          38\n",
       "extra            56903\n",
       "dtype: int64"
      ]
     },
     "execution_count": 26,
     "metadata": {},
     "output_type": "execute_result"
    }
   ],
   "source": [
    "#looking for nan value\n",
    "rent_df.isna().sum()"
   ]
  },
  {
   "cell_type": "code",
   "execution_count": 27,
   "id": "5a6bb3e7",
   "metadata": {},
   "outputs": [
    {
     "data": {
      "text/html": [
       "<div>\n",
       "<style scoped>\n",
       "    .dataframe tbody tr th:only-of-type {\n",
       "        vertical-align: middle;\n",
       "    }\n",
       "\n",
       "    .dataframe tbody tr th {\n",
       "        vertical-align: top;\n",
       "    }\n",
       "\n",
       "    .dataframe thead th {\n",
       "        text-align: right;\n",
       "    }\n",
       "</style>\n",
       "<table border=\"1\" class=\"dataframe\">\n",
       "  <thead>\n",
       "    <tr style=\"text-align: right;\">\n",
       "      <th></th>\n",
       "      <th>name</th>\n",
       "      <th>dob</th>\n",
       "      <th>houseID</th>\n",
       "      <th>houseZip</th>\n",
       "      <th>paymentDate</th>\n",
       "      <th>paymentAmount</th>\n",
       "      <th>rentAmount</th>\n",
       "      <th>extra</th>\n",
       "    </tr>\n",
       "  </thead>\n",
       "  <tbody>\n",
       "    <tr>\n",
       "      <th>0</th>\n",
       "      <td>Karima Germany</td>\n",
       "      <td>05/23/1951</td>\n",
       "      <td>1192</td>\n",
       "      <td>92154</td>\n",
       "      <td>11/01/2011</td>\n",
       "      <td>1321</td>\n",
       "      <td>1321.0</td>\n",
       "      <td>0.0</td>\n",
       "    </tr>\n",
       "    <tr>\n",
       "      <th>1</th>\n",
       "      <td>Agustina Spargo</td>\n",
       "      <td>01/01/1900</td>\n",
       "      <td>21</td>\n",
       "      <td>92111</td>\n",
       "      <td>20110906</td>\n",
       "      <td>2289</td>\n",
       "      <td>2289.0</td>\n",
       "      <td>0.0</td>\n",
       "    </tr>\n",
       "    <tr>\n",
       "      <th>2</th>\n",
       "      <td>Lucilla Broderick</td>\n",
       "      <td>01/01/1900</td>\n",
       "      <td>1474</td>\n",
       "      <td>92159</td>\n",
       "      <td>20111101</td>\n",
       "      <td>1439</td>\n",
       "      <td>1439.0</td>\n",
       "      <td>0.0</td>\n",
       "    </tr>\n",
       "    <tr>\n",
       "      <th>3</th>\n",
       "      <td>Russ Mchale</td>\n",
       "      <td>04/20/1977</td>\n",
       "      <td>2015</td>\n",
       "      <td>92137</td>\n",
       "      <td>20120701</td>\n",
       "      <td>1744</td>\n",
       "      <td>1744.0</td>\n",
       "      <td>0.0</td>\n",
       "    </tr>\n",
       "    <tr>\n",
       "      <th>4</th>\n",
       "      <td>Carmelita Ritzer</td>\n",
       "      <td>03/09/1969</td>\n",
       "      <td>311</td>\n",
       "      <td>92136</td>\n",
       "      <td>20110201</td>\n",
       "      <td>1471</td>\n",
       "      <td>1471.0</td>\n",
       "      <td>0.0</td>\n",
       "    </tr>\n",
       "    <tr>\n",
       "      <th>...</th>\n",
       "      <td>...</td>\n",
       "      <td>...</td>\n",
       "      <td>...</td>\n",
       "      <td>...</td>\n",
       "      <td>...</td>\n",
       "      <td>...</td>\n",
       "      <td>...</td>\n",
       "      <td>...</td>\n",
       "    </tr>\n",
       "    <tr>\n",
       "      <th>59808</th>\n",
       "      <td>Jennell Buchholtz</td>\n",
       "      <td>05/21/1983</td>\n",
       "      <td>1095</td>\n",
       "      <td>92196</td>\n",
       "      <td>20101001</td>\n",
       "      <td>1744</td>\n",
       "      <td>1744.0</td>\n",
       "      <td>0.0</td>\n",
       "    </tr>\n",
       "    <tr>\n",
       "      <th>59809</th>\n",
       "      <td>Berneice Power</td>\n",
       "      <td>08/24/1984</td>\n",
       "      <td>196</td>\n",
       "      <td>92123</td>\n",
       "      <td>20100401</td>\n",
       "      <td>1756</td>\n",
       "      <td>1756.0</td>\n",
       "      <td>0.0</td>\n",
       "    </tr>\n",
       "    <tr>\n",
       "      <th>59810</th>\n",
       "      <td>Micki Belvin</td>\n",
       "      <td>01/01/1900</td>\n",
       "      <td>1692</td>\n",
       "      <td>92166</td>\n",
       "      <td>20120701</td>\n",
       "      <td>1896</td>\n",
       "      <td>1896.0</td>\n",
       "      <td>0.0</td>\n",
       "    </tr>\n",
       "    <tr>\n",
       "      <th>59811</th>\n",
       "      <td>Emilee Samford</td>\n",
       "      <td>01/01/1900</td>\n",
       "      <td>686</td>\n",
       "      <td>92191</td>\n",
       "      <td>20120528</td>\n",
       "      <td>1668</td>\n",
       "      <td>1451.0</td>\n",
       "      <td>0.0</td>\n",
       "    </tr>\n",
       "    <tr>\n",
       "      <th>59812</th>\n",
       "      <td>Astrid Laurence</td>\n",
       "      <td>05/15/1988</td>\n",
       "      <td>159</td>\n",
       "      <td>92120</td>\n",
       "      <td>01/01/2011</td>\n",
       "      <td>1134</td>\n",
       "      <td>1134.0</td>\n",
       "      <td>0.0</td>\n",
       "    </tr>\n",
       "  </tbody>\n",
       "</table>\n",
       "<p>59813 rows × 8 columns</p>\n",
       "</div>"
      ],
      "text/plain": [
       "                    name         dob houseID  houseZip paymentDate  \\\n",
       "0         Karima Germany  05/23/1951    1192     92154  11/01/2011   \n",
       "1        Agustina Spargo  01/01/1900      21     92111    20110906   \n",
       "2      Lucilla Broderick  01/01/1900    1474     92159    20111101   \n",
       "3            Russ Mchale  04/20/1977    2015     92137    20120701   \n",
       "4       Carmelita Ritzer  03/09/1969     311     92136    20110201   \n",
       "...                  ...         ...     ...       ...         ...   \n",
       "59808  Jennell Buchholtz  05/21/1983    1095     92196    20101001   \n",
       "59809     Berneice Power  08/24/1984     196     92123    20100401   \n",
       "59810       Micki Belvin  01/01/1900    1692     92166    20120701   \n",
       "59811     Emilee Samford  01/01/1900     686     92191    20120528   \n",
       "59812    Astrid Laurence  05/15/1988     159     92120  01/01/2011   \n",
       "\n",
       "      paymentAmount  rentAmount  extra  \n",
       "0              1321      1321.0    0.0  \n",
       "1              2289      2289.0    0.0  \n",
       "2              1439      1439.0    0.0  \n",
       "3              1744      1744.0    0.0  \n",
       "4              1471      1471.0    0.0  \n",
       "...             ...         ...    ...  \n",
       "59808          1744      1744.0    0.0  \n",
       "59809          1756      1756.0    0.0  \n",
       "59810          1896      1896.0    0.0  \n",
       "59811          1668      1451.0    0.0  \n",
       "59812          1134      1134.0    0.0  \n",
       "\n",
       "[59813 rows x 8 columns]"
      ]
     },
     "execution_count": 27,
     "metadata": {},
     "output_type": "execute_result"
    }
   ],
   "source": [
    "#filling NAN with 0 in extra column\n",
    "rent_df['extra']=rent_df['extra'].fillna(0)\n",
    "rent_df"
   ]
  },
  {
   "cell_type": "code",
   "execution_count": null,
   "id": "d0e091bb",
   "metadata": {},
   "outputs": [],
   "source": []
  },
  {
   "cell_type": "code",
   "execution_count": null,
   "id": "ca3bdf9a",
   "metadata": {},
   "outputs": [],
   "source": []
  },
  {
   "cell_type": "code",
   "execution_count": null,
   "id": "2167da7f",
   "metadata": {},
   "outputs": [],
   "source": []
  },
  {
   "cell_type": "code",
   "execution_count": null,
   "id": "846ed179",
   "metadata": {},
   "outputs": [],
   "source": []
  },
  {
   "cell_type": "code",
   "execution_count": null,
   "id": "cf0dd495",
   "metadata": {},
   "outputs": [],
   "source": []
  },
  {
   "cell_type": "code",
   "execution_count": null,
   "id": "18318f2c",
   "metadata": {},
   "outputs": [],
   "source": []
  },
  {
   "cell_type": "code",
   "execution_count": null,
   "id": "193a6554",
   "metadata": {},
   "outputs": [],
   "source": []
  },
  {
   "cell_type": "code",
   "execution_count": null,
   "id": "8c631f42",
   "metadata": {},
   "outputs": [],
   "source": []
  },
  {
   "cell_type": "code",
   "execution_count": null,
   "id": "3450e1bb",
   "metadata": {},
   "outputs": [],
   "source": []
  },
  {
   "cell_type": "code",
   "execution_count": null,
   "id": "661dd038",
   "metadata": {},
   "outputs": [],
   "source": []
  }
 ],
 "metadata": {
  "kernelspec": {
   "display_name": "Python 3 (ipykernel)",
   "language": "python",
   "name": "python3"
  },
  "language_info": {
   "codemirror_mode": {
    "name": "ipython",
    "version": 3
   },
   "file_extension": ".py",
   "mimetype": "text/x-python",
   "name": "python",
   "nbconvert_exporter": "python",
   "pygments_lexer": "ipython3",
   "version": "3.8.10"
  }
 },
 "nbformat": 4,
 "nbformat_minor": 5
}
